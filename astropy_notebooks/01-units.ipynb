{
 "cells": [
  {
   "cell_type": "markdown",
   "metadata": {},
   "source": [
    "# Units, Quantities, and Constants\n",
    "\n",
    "The [astropy.units](https://docs.astropy.org/en/stable/units/) sub-package in astropy provides a way to define units and quantities (values or arrays with a unit attached), as well as a way to convert between them. It supports advanced features such as equivalencies to convert between units that are not strictly equivalent (e.g. various spectral coordinates) as well as e.g. logarithmic units."
   ]
  },
  {
   "cell_type": "markdown",
   "metadata": {},
   "source": [
    "\n",
    "<section class=\"objectives panel panel-warning\">\n",
    "<div class=\"panel-heading\">\n",
    "<h2><span class=\"fa fa-certificate\"></span> Objectives</h2>\n",
    "</div>\n",
    "\n",
    "\n",
    "<div class=\"panel-body\">\n",
    "\n",
    "<ul>\n",
    "<li>Access units and create quantities</li>\n",
    "<li>Combine quantities together</li>\n",
    "<li>Convert quantities to different units</li>\n",
    "<li>Understand and use equivalencies</li>\n",
    "<li>Use logarithmic units</li>\n",
    "<li>Plot quantities with units</li>\n",
    "</ul>\n",
    "\n",
    "</div>\n",
    "\n",
    "</section>\n"
   ]
  },
  {
   "cell_type": "markdown",
   "metadata": {},
   "source": [
    "## Documentation\n",
    "\n",
    "This notebook only shows a subset of the functionality in astropy.units. For more information about the features presented below as well as other available features, you can read the\n",
    "[astropy.units documentation](https://docs.astropy.org/en/stable/units/)."
   ]
  },
  {
   "cell_type": "code",
   "execution_count": 1,
   "metadata": {},
   "outputs": [],
   "source": [
    "%matplotlib inline\n",
    "import matplotlib.pyplot as plt\n",
    "plt.rc('image', origin='lower')\n",
    "plt.rc('figure', figsize=(10, 6))"
   ]
  },
  {
   "cell_type": "markdown",
   "metadata": {},
   "source": [
    "## Representing units and quantities\n",
    "\n",
    "Astropy includes a framework that allows users to attach units to scalars and arrays, and manipulate/combine these, keeping track of the units.\n",
    "\n",
    "Since we may want to use a number of units in expressions, it is easiest and most concise to import the units module with:"
   ]
  },
  {
   "cell_type": "code",
   "execution_count": 2,
   "metadata": {},
   "outputs": [],
   "source": [
    "import astropy.units as u"
   ]
  },
  {
   "cell_type": "markdown",
   "metadata": {},
   "source": [
    "Units can then be accessed with:"
   ]
  },
  {
   "cell_type": "code",
   "execution_count": 8,
   "metadata": {},
   "outputs": [
    {
     "data": {
      "text/latex": [
       "$\\mathrm{m}$"
      ],
      "text/plain": [
       "Unit(\"m\")"
      ]
     },
     "execution_count": 8,
     "metadata": {},
     "output_type": "execute_result"
    }
   ],
   "source": [
    "u.m"
   ]
  },
  {
   "cell_type": "code",
   "execution_count": 10,
   "metadata": {},
   "outputs": [
    {
     "data": {
      "text/latex": [
       "$\\mathrm{pc}$"
      ],
      "text/plain": [
       "Unit(\"pc\")"
      ]
     },
     "execution_count": 10,
     "metadata": {},
     "output_type": "execute_result"
    }
   ],
   "source": [
    "u.pc"
   ]
  },
  {
   "cell_type": "code",
   "execution_count": 11,
   "metadata": {},
   "outputs": [
    {
     "data": {
      "text/latex": [
       "$\\mathrm{s}$"
      ],
      "text/plain": [
       "Unit(\"s\")"
      ]
     },
     "execution_count": 11,
     "metadata": {},
     "output_type": "execute_result"
    }
   ],
   "source": [
    "u.s"
   ]
  },
  {
   "cell_type": "code",
   "execution_count": 12,
   "metadata": {},
   "outputs": [
    {
     "data": {
      "text/latex": [
       "$\\mathrm{kg}$"
      ],
      "text/plain": [
       "Unit(\"kg\")"
      ]
     },
     "execution_count": 12,
     "metadata": {},
     "output_type": "execute_result"
    }
   ],
   "source": [
    "u.kg"
   ]
  },
  {
   "cell_type": "markdown",
   "metadata": {},
   "source": [
    "We can also create composite units:"
   ]
  },
  {
   "cell_type": "code",
   "execution_count": 7,
   "metadata": {},
   "outputs": [
    {
     "data": {
      "text/latex": [
       "$\\mathrm{\\frac{m}{kg\\,s^{2}}}$"
      ],
      "text/plain": [
       "Unit(\"m / (kg s2)\")"
      ]
     },
     "execution_count": 7,
     "metadata": {},
     "output_type": "execute_result"
    }
   ],
   "source": [
    "u.m / u.kg / u.s**2"
   ]
  },
  {
   "cell_type": "markdown",
   "metadata": {},
   "source": [
    "The most useful feature about the units is the ability to attach them to scalars or arrays, creating ``Quantity`` objects:"
   ]
  },
  {
   "cell_type": "code",
   "execution_count": 3,
   "metadata": {},
   "outputs": [
    {
     "data": {
      "text/latex": [
       "$3 \\; \\mathrm{Myr}$"
      ],
      "text/plain": [
       "<Quantity 3. Myr>"
      ]
     },
     "execution_count": 3,
     "metadata": {},
     "output_type": "execute_result"
    }
   ],
   "source": [
    "time = 3 * u.Myr\n",
    "time"
   ]
  },
  {
   "cell_type": "code",
   "execution_count": 4,
   "metadata": {},
   "outputs": [
    {
     "data": {
      "text/latex": [
       "$[4,~5,~6] \\; \\mathrm{kg}$"
      ],
      "text/plain": [
       "<Quantity [4., 5., 6.] kg>"
      ]
     },
     "execution_count": 4,
     "metadata": {},
     "output_type": "execute_result"
    }
   ],
   "source": [
    "weights = [4, 5, 6] * u.kg\n",
    "weights"
   ]
  },
  {
   "cell_type": "code",
   "execution_count": 5,
   "metadata": {},
   "outputs": [
    {
     "data": {
      "text/latex": [
       "$[1.2,~2.2,~4.7] \\; \\mathrm{kpc}$"
      ],
      "text/plain": [
       "<Quantity [1.2, 2.2, 4.7] kpc>"
      ]
     },
     "execution_count": 5,
     "metadata": {},
     "output_type": "execute_result"
    }
   ],
   "source": [
    "import numpy as np\n",
    "distance = np.array([1.2, 2.2, 4.7]) * u.kpc\n",
    "distance"
   ]
  },
  {
   "cell_type": "markdown",
   "metadata": {},
   "source": [
    "and we can use this with composite units:"
   ]
  },
  {
   "cell_type": "code",
   "execution_count": 6,
   "metadata": {},
   "outputs": [],
   "source": [
    "HO = 75 * u.km / u.Mpc / u.s"
   ]
  },
  {
   "cell_type": "markdown",
   "metadata": {},
   "source": [
    "We can access the unit and the value of a quantity separately:"
   ]
  },
  {
   "cell_type": "code",
   "execution_count": 7,
   "metadata": {},
   "outputs": [
    {
     "data": {
      "text/plain": [
       "75.0"
      ]
     },
     "execution_count": 7,
     "metadata": {},
     "output_type": "execute_result"
    }
   ],
   "source": [
    "HO.value"
   ]
  },
  {
   "cell_type": "code",
   "execution_count": 8,
   "metadata": {},
   "outputs": [
    {
     "data": {
      "text/latex": [
       "$\\mathrm{\\frac{km}{Mpc\\,s}}$"
      ],
      "text/plain": [
       "Unit(\"km / (Mpc s)\")"
      ]
     },
     "execution_count": 8,
     "metadata": {},
     "output_type": "execute_result"
    }
   ],
   "source": [
    "HO.unit"
   ]
  },
  {
   "cell_type": "markdown",
   "metadata": {},
   "source": [
    "Finally, note that 'imperial' units can be accessed using:"
   ]
  },
  {
   "cell_type": "code",
   "execution_count": 9,
   "metadata": {},
   "outputs": [
    {
     "data": {
      "text/latex": [
       "$\\mathrm{gallon}$"
      ],
      "text/plain": [
       "Unit(\"gallon\")"
      ]
     },
     "execution_count": 9,
     "metadata": {},
     "output_type": "execute_result"
    }
   ],
   "source": [
    "from astropy.units import imperial\n",
    "imperial.gallon"
   ]
  },
  {
   "cell_type": "markdown",
   "metadata": {},
   "source": [
    "## Combining and converting quantities\n",
    "\n",
    "Quantities can be combined via standard arithmetic - for example multiplication and division will result in the units being combined:"
   ]
  },
  {
   "cell_type": "code",
   "execution_count": 10,
   "metadata": {},
   "outputs": [
    {
     "data": {
      "text/latex": [
       "$[0.4,~0.73333333,~1.5666667] \\; \\mathrm{\\frac{kpc}{Myr}}$"
      ],
      "text/plain": [
       "<Quantity [0.4       , 0.73333333, 1.56666667] kpc / Myr>"
      ]
     },
     "execution_count": 10,
     "metadata": {},
     "output_type": "execute_result"
    }
   ],
   "source": [
    "speed = distance / time\n",
    "speed"
   ]
  },
  {
   "cell_type": "markdown",
   "metadata": {},
   "source": [
    "while addition and subtraction will work only if the units are compatible:"
   ]
  },
  {
   "cell_type": "code",
   "execution_count": 11,
   "metadata": {},
   "outputs": [
    {
     "data": {
      "text/latex": [
       "$0.29 \\; \\mathrm{Mpc}$"
      ],
      "text/plain": [
       "<Quantity 0.29 Mpc>"
      ]
     },
     "execution_count": 11,
     "metadata": {},
     "output_type": "execute_result"
    }
   ],
   "source": [
    "start_distance = 10 * u.kpc\n",
    "end_distance = 0.3 * u.Mpc\n",
    "end_distance - start_distance"
   ]
  },
  {
   "cell_type": "markdown",
   "metadata": {},
   "source": [
    "Quantities can be converted to different units using ``.to``:"
   ]
  },
  {
   "cell_type": "code",
   "execution_count": 14,
   "metadata": {},
   "outputs": [
    {
     "data": {
      "text/latex": [
       "$[391.11689,~717.04763,~1531.8745] \\; \\mathrm{\\frac{km}{s}}$"
      ],
      "text/plain": [
       "<Quantity [ 391.11688867,  717.04762923, 1531.87448063] km / s>"
      ]
     },
     "execution_count": 14,
     "metadata": {},
     "output_type": "execute_result"
    }
   ],
   "source": [
    "speed.to(u.km / u.s)"
   ]
  },
  {
   "cell_type": "code",
   "execution_count": 15,
   "metadata": {},
   "outputs": [
    {
     "data": {
      "text/latex": [
       "$[82.505922,~151.26086,~323.1482] \\; \\mathrm{\\frac{AU}{yr}}$"
      ],
      "text/plain": [
       "<Quantity [ 82.5059225 , 151.26085791, 323.14819645] AU / yr>"
      ]
     },
     "execution_count": 15,
     "metadata": {},
     "output_type": "execute_result"
    }
   ],
   "source": [
    "speed.to(u.au / u.year)"
   ]
  },
  {
   "cell_type": "markdown",
   "metadata": {},
   "source": [
    "There are also convenience attributes to convert quantities to e.g. SI and cgs units:"
   ]
  },
  {
   "cell_type": "code",
   "execution_count": 16,
   "metadata": {},
   "outputs": [
    {
     "data": {
      "text/latex": [
       "$[391116.89,~717047.63,~1531874.5] \\; \\mathrm{\\frac{m}{s}}$"
      ],
      "text/plain": [
       "<Quantity [ 391116.88867232,  717047.62923258, 1531874.48063324] m / s>"
      ]
     },
     "execution_count": 16,
     "metadata": {},
     "output_type": "execute_result"
    }
   ],
   "source": [
    "speed.si"
   ]
  },
  {
   "cell_type": "code",
   "execution_count": 17,
   "metadata": {},
   "outputs": [
    {
     "data": {
      "text/latex": [
       "$[39111689,~71704763,~1.5318745 \\times 10^{8}] \\; \\mathrm{\\frac{cm}{s}}$"
      ],
      "text/plain": [
       "<Quantity [3.91116889e+07, 7.17047629e+07, 1.53187448e+08] cm / s>"
      ]
     },
     "execution_count": 17,
     "metadata": {},
     "output_type": "execute_result"
    }
   ],
   "source": [
    "speed.cgs"
   ]
  },
  {
   "cell_type": "markdown",
   "metadata": {},
   "source": [
    "Finally, by default units will not be simplified - but you can use the ``.decompose()`` method for this:"
   ]
  },
  {
   "cell_type": "code",
   "execution_count": 33,
   "metadata": {},
   "outputs": [
    {
     "data": {
      "text/latex": [
       "$[0.0053333333,~0.0097777778,~0.020888889] \\; \\mathrm{\\frac{Mpc\\,kpc\\,s}{Myr\\,km}}$"
      ],
      "text/plain": [
       "<Quantity [0.00533333, 0.00977778, 0.02088889] kpc Mpc s / (km Myr)>"
      ]
     },
     "execution_count": 33,
     "metadata": {},
     "output_type": "execute_result"
    }
   ],
   "source": [
    "speed / HO"
   ]
  },
  {
   "cell_type": "code",
   "execution_count": 35,
   "metadata": {},
   "outputs": [
    {
     "data": {
      "text/latex": [
       "$[1.6091475 \\times 10^{23},~2.9501037 \\times 10^{23},~6.3024943 \\times 10^{23}] \\; \\mathrm{m}$"
      ],
      "text/plain": [
       "<Quantity [1.60914749e+23, 2.95010373e+23, 6.30249432e+23] m>"
      ]
     },
     "execution_count": 35,
     "metadata": {},
     "output_type": "execute_result"
    }
   ],
   "source": [
    "(speed / HO).decompose()"
   ]
  },
  {
   "cell_type": "markdown",
   "metadata": {},
   "source": [
    "or you can convert directly to the desired unit:"
   ]
  },
  {
   "cell_type": "code",
   "execution_count": 36,
   "metadata": {},
   "outputs": [
    {
     "data": {
      "text/latex": [
       "$[5.2148918,~9.5606351,~20.424993] \\; \\mathrm{Mpc}$"
      ],
      "text/plain": [
       "<Quantity [ 5.21489185,  9.56063506, 20.42499308] Mpc>"
      ]
     },
     "execution_count": 36,
     "metadata": {},
     "output_type": "execute_result"
    }
   ],
   "source": [
    "(speed / HO).to(u.Mpc)"
   ]
  },
  {
   "cell_type": "markdown",
   "metadata": {},
   "source": [
    "\n",
    "<section class=\"challenge panel panel-success\">\n",
    "<div class=\"panel-heading\">\n",
    "<h2><span class=\"fa fa-pencil\"></span> Challenge: Unit conversions</h2>\n",
    "</div>\n",
    "\n",
    "\n",
    "<div class=\"panel-body\">\n",
    "\n",
    "<ol>\n",
    "<li>Convert the speed above to miles/hour</li>\n",
    "<li>Calculate whether a pint is more than half litre.\n",
    "    <em>You can compare quantities as comparing variables.</em>\n",
    "    Notice something strange? Check what deffinition of <a href=\"https://en.wikipedia.org/wiki/Pint\">pint</a> astropy is using.</li>\n",
    "<li>Calculate the area of a rectangle of 3 km of side and 5 meter of width. Show this in $m^2$ and also convert it to yards$^2$</li>\n",
    "</ol>\n",
    "\n",
    "</div>\n",
    "\n",
    "</section>\n"
   ]
  },
  {
   "cell_type": "code",
   "execution_count": 30,
   "metadata": {},
   "outputs": [
    {
     "data": {
      "text/latex": [
       "$[874903.56,~1603989.9,~3426705.6] \\; \\mathrm{\\frac{mi}{h}}$"
      ],
      "text/plain": [
       "<Quantity [ 874903.5627065 , 1603989.86496192, 3426705.62060047] mi / h>"
      ]
     },
     "execution_count": 30,
     "metadata": {},
     "output_type": "execute_result"
    }
   ],
   "source": [
    "speed.to(imperial.mi / u.hr)"
   ]
  },
  {
   "cell_type": "code",
   "execution_count": 34,
   "metadata": {},
   "outputs": [
    {
     "data": {
      "text/latex": [
       "$0.15011867 \\; \\mathrm{gallon}$"
      ],
      "text/plain": [
       "<Quantity 0.15011867 gallon>"
      ]
     },
     "execution_count": 34,
     "metadata": {},
     "output_type": "execute_result"
    }
   ],
   "source": [
    "pint = 0.568261 * u.l\n",
    "pint.to(imperial.gallon)"
   ]
  },
  {
   "cell_type": "code",
   "execution_count": 37,
   "metadata": {},
   "outputs": [
    {
     "data": {
      "text/latex": [
       "$15000 \\; \\mathrm{m^{2}}$"
      ],
      "text/plain": [
       "<Quantity 15000. m2>"
      ]
     },
     "execution_count": 37,
     "metadata": {},
     "output_type": "execute_result"
    }
   ],
   "source": [
    "rect_height = (3 * u.km)\n",
    "rect_width = (5 * u.m)\n",
    "rect_height.to(u.m) * rect_width"
   ]
  },
  {
   "cell_type": "code",
   "execution_count": 39,
   "metadata": {},
   "outputs": [
    {
     "data": {
      "text/latex": [
       "$17939.851 \\; \\mathrm{yd^{2}}$"
      ],
      "text/plain": [
       "<Quantity 17939.85069452 yd2>"
      ]
     },
     "execution_count": 39,
     "metadata": {},
     "output_type": "execute_result"
    }
   ],
   "source": [
    "rect_height.to(imperial.yard) * rect_width.to(imperial.yard)"
   ]
  },
  {
   "cell_type": "markdown",
   "metadata": {},
   "source": [
    "## Composed units\n",
    "\n",
    "Many units are compositions of others, and you can create new combinations for ease of use:"
   ]
  },
  {
   "cell_type": "code",
   "execution_count": 12,
   "metadata": {},
   "outputs": [
    {
     "data": {
      "text/latex": [
       "$[39111689,~71704763,~1.5318745 \\times 10^{8}] \\; \\mathrm{\\frac{cm}{s}}$"
      ],
      "text/plain": [
       "<Quantity [3.91116889e+07, 7.17047629e+07, 1.53187448e+08] cm / s>"
      ]
     },
     "execution_count": 12,
     "metadata": {},
     "output_type": "execute_result"
    }
   ],
   "source": [
    "cms = u.cm / u.s\n",
    "speed.to(cms)"
   ]
  },
  {
   "cell_type": "code",
   "execution_count": 13,
   "metadata": {},
   "outputs": [
    {
     "data": {
      "text/latex": [
       "$[874903.56,~1603989.9,~3426705.6] \\; \\mathrm{\\frac{mi}{h}}$"
      ],
      "text/plain": [
       "<Quantity [ 874903.5627065 , 1603989.86496192, 3426705.62060047] mi / h>"
      ]
     },
     "execution_count": 13,
     "metadata": {},
     "output_type": "execute_result"
    }
   ],
   "source": [
    "mph = u.imperial.mile / u.hour\n",
    "speed.to(mph)"
   ]
  },
  {
   "cell_type": "markdown",
   "metadata": {},
   "source": [
    "You can use the ``compose()`` unit to find other units that are equivalent:"
   ]
  },
  {
   "cell_type": "code",
   "execution_count": 22,
   "metadata": {},
   "outputs": [
    {
     "data": {
      "text/plain": [
       "[Unit(\"J\"), Unit(\"1e+07 erg\"), Unit(\"4.58742e+17 Ry\"), Unit(\"6.24151e+18 eV\")]"
      ]
     },
     "execution_count": 22,
     "metadata": {},
     "output_type": "execute_result"
    }
   ],
   "source": [
    "u.joule.compose()"
   ]
  },
  {
   "cell_type": "code",
   "execution_count": 21,
   "metadata": {},
   "outputs": [
    {
     "data": {
      "text/plain": [
       "<bound method UnitBase.compose of Unit(\"1 / s\")>"
      ]
     },
     "execution_count": 21,
     "metadata": {},
     "output_type": "execute_result"
    }
   ],
   "source": [
    "(u.s ** -1).compose"
   ]
  },
  {
   "cell_type": "markdown",
   "metadata": {},
   "source": [
    "You can also use ``find_equivalent_units`` to print a table with more information:"
   ]
  },
  {
   "cell_type": "code",
   "execution_count": 22,
   "metadata": {},
   "outputs": [
    {
     "data": {
      "text/plain": [
       "<bound method UnitBase.find_equivalent_units of Unit(\"1 / s2\")>"
      ]
     },
     "execution_count": 22,
     "metadata": {},
     "output_type": "execute_result"
    }
   ],
   "source": [
    "(u.s ** -2).find_equivalent_units"
   ]
  },
  {
   "cell_type": "markdown",
   "metadata": {},
   "source": [
    "## Dimensionless quantities\n",
    "\n",
    "Sometime we get quantities which are effectively dimensionless:"
   ]
  },
  {
   "cell_type": "code",
   "execution_count": 23,
   "metadata": {},
   "outputs": [
    {
     "data": {
      "text/latex": [
       "$20 \\; \\mathrm{\\frac{cm}{m}}$"
      ],
      "text/plain": [
       "<Quantity 20. cm / m>"
      ]
     },
     "execution_count": 23,
     "metadata": {},
     "output_type": "execute_result"
    }
   ],
   "source": [
    "dimensionless_quantity = 20 * u.cm / (1 * u.m)\n",
    "dimensionless_quantity"
   ]
  },
  {
   "cell_type": "markdown",
   "metadata": {},
   "source": [
    "What happen if we add a number to this?"
   ]
  },
  {
   "cell_type": "code",
   "execution_count": 24,
   "metadata": {},
   "outputs": [
    {
     "data": {
      "text/latex": [
       "$3.2 \\; \\mathrm{}$"
      ],
      "text/plain": [
       "<Quantity 3.2>"
      ]
     },
     "execution_count": 24,
     "metadata": {},
     "output_type": "execute_result"
    }
   ],
   "source": [
    "dimensionless_quantity + 3"
   ]
  },
  {
   "cell_type": "markdown",
   "metadata": {},
   "source": [
    "We can also convert to the actual dimensionless quantity using:"
   ]
  },
  {
   "cell_type": "code",
   "execution_count": 25,
   "metadata": {},
   "outputs": [
    {
     "data": {
      "text/latex": [
       "$0.2 \\; \\mathrm{}$"
      ],
      "text/plain": [
       "<Quantity 0.2>"
      ]
     },
     "execution_count": 25,
     "metadata": {},
     "output_type": "execute_result"
    }
   ],
   "source": [
    "dimensionless_quantity.decompose()"
   ]
  },
  {
   "cell_type": "markdown",
   "metadata": {},
   "source": [
    "## Equivalencies\n",
    "\n",
    "Some conversions are not done by a conversion factor as between miles and kilometers – for example converting between wavelength and frequency:"
   ]
  },
  {
   "cell_type": "code",
   "execution_count": 26,
   "metadata": {},
   "outputs": [
    {
     "data": {
      "text/latex": [
       "$656.281 \\; \\mathrm{nm}$"
      ],
      "text/plain": [
       "<Quantity 656.281 nm>"
      ]
     },
     "execution_count": 26,
     "metadata": {},
     "output_type": "execute_result"
    }
   ],
   "source": [
    "(656.281 * u.nm)"
   ]
  },
  {
   "cell_type": "markdown",
   "metadata": {},
   "source": [
    "However we can make use of a spectral *equivalency* to indicate the link between the units:"
   ]
  },
  {
   "cell_type": "code",
   "execution_count": 27,
   "metadata": {},
   "outputs": [
    {
     "data": {
      "text/latex": [
       "$4.5680502 \\times 10^{14} \\; \\mathrm{Hz}$"
      ],
      "text/plain": [
       "<Quantity 4.56805024e+14 Hz>"
      ]
     },
     "execution_count": 27,
     "metadata": {},
     "output_type": "execute_result"
    }
   ],
   "source": [
    "(656.281 * u.nm).to(u.Hz, equivalencies=u.spectral())"
   ]
  },
  {
   "cell_type": "markdown",
   "metadata": {},
   "source": [
    "Other built-in equivalencies are: \n",
    " - [Parallax](https://docs.astropy.org/en/stable/units/equivalencies.html#how-to-convert-parallax-to-distance)\n",
    " - [Doppler](https://docs.astropy.org/en/stable/units/equivalencies.html#spectral-doppler-equivalencies)\n",
    " - [Spectral flux density](https://docs.astropy.org/en/stable/units/equivalencies.html#spectral-flux-luminosity-density-units)\n",
    " - [Brigthness temperature](https://docs.astropy.org/en/stable/units/equivalencies.html#brightness-temperature-surface-brightness-equivalency)\n",
    " - [Temperature energy](https://docs.astropy.org/en/stable/units/equivalencies.html#temperature-energy-equivalency)\n",
    " - and you can [build your own](http://astropy.readthedocs.org/en/stable/units/equivalencies.html#writing-new-equivalencies)"
   ]
  },
  {
   "cell_type": "markdown",
   "metadata": {},
   "source": [
    "We can use ``find_equivalent_units`` as above to show how using an equivalency expands the number of equivalent units:"
   ]
  },
  {
   "cell_type": "code",
   "execution_count": 42,
   "metadata": {},
   "outputs": [
    {
     "data": {
      "text/html": [
       "<table style=\"width:50%\"><tr><th>Primary name</th><th>Unit definition</th><th>Aliases</th></tr><tr><td>Bq</td><td>1 / s</td><td>becquerel</td></tr><tr><td>Ci</td><td>3.7e+10 / s</td><td>curie</td></tr><tr><td>Hz</td><td>1 / s</td><td>Hertz, hertz</td></tr></table>"
      ],
      "text/plain": [
       "  Primary name | Unit definition | Aliases     \n",
       "[\n",
       "  Bq           | 1 / s           | becquerel    ,\n",
       "  Ci           | 3.7e+10 / s     | curie        ,\n",
       "  Hz           | 1 / s           | Hertz, hertz ,\n",
       "]"
      ]
     },
     "execution_count": 42,
     "metadata": {},
     "output_type": "execute_result"
    }
   ],
   "source": [
    "u.Hz.find_equivalent_units()"
   ]
  },
  {
   "cell_type": "code",
   "execution_count": 44,
   "metadata": {},
   "outputs": [
    {
     "data": {
      "text/html": [
       "<table style=\"width:50%\"><tr><th>Primary name</th><th>Unit definition</th><th>Aliases</th></tr><tr><td>AU</td><td>1.49598e+11 m</td><td>au, astronomical_unit</td></tr><tr><td>Angstrom</td><td>1e-10 m</td><td>AA, angstrom</td></tr><tr><td>Bq</td><td>1 / s</td><td>becquerel</td></tr><tr><td>Ci</td><td>3.7e+10 / s</td><td>curie</td></tr><tr><td>Hz</td><td>1 / s</td><td>Hertz, hertz</td></tr><tr><td>J</td><td>kg m2 / s2</td><td>Joule, joule</td></tr><tr><td>Ry</td><td>2.17987e-18 kg m2 / s2</td><td>rydberg</td></tr><tr><td>cm</td><td>0.01 m</td><td>centimeter</td></tr><tr><td>eV</td><td>1.60218e-19 kg m2 / s2</td><td>electronvolt</td></tr><tr><td>earthRad</td><td>6.3781e+06 m</td><td>R_earth, Rearth</td></tr><tr><td>erg</td><td>1e-07 kg m2 / s2</td><td></td></tr><tr><td>jupiterRad</td><td>7.1492e+07 m</td><td>R_jup, Rjup, R_jupiter, Rjupiter</td></tr><tr><td>k</td><td>100 / m</td><td>Kayser, kayser</td></tr><tr><td>lyr</td><td>9.46073e+15 m</td><td>lightyear</td></tr><tr><td>m</td><td>irreducible</td><td>meter</td></tr><tr><td>micron</td><td>1e-06 m</td><td></td></tr><tr><td>pc</td><td>3.08568e+16 m</td><td>parsec</td></tr><tr><td>solRad</td><td>6.957e+08 m</td><td>R_sun, Rsun</td></tr></table>"
      ],
      "text/plain": [
       "  Primary name | Unit definition        | Aliases                         \n",
       "[\n",
       "  AU           | 1.49598e+11 m          | au, astronomical_unit            ,\n",
       "  Angstrom     | 1e-10 m                | AA, angstrom                     ,\n",
       "  Bq           | 1 / s                  | becquerel                        ,\n",
       "  Ci           | 3.7e+10 / s            | curie                            ,\n",
       "  Hz           | 1 / s                  | Hertz, hertz                     ,\n",
       "  J            | kg m2 / s2             | Joule, joule                     ,\n",
       "  Ry           | 2.17987e-18 kg m2 / s2 | rydberg                          ,\n",
       "  cm           | 0.01 m                 | centimeter                       ,\n",
       "  eV           | 1.60218e-19 kg m2 / s2 | electronvolt                     ,\n",
       "  earthRad     | 6.3781e+06 m           | R_earth, Rearth                  ,\n",
       "  erg          | 1e-07 kg m2 / s2       |                                  ,\n",
       "  jupiterRad   | 7.1492e+07 m           | R_jup, Rjup, R_jupiter, Rjupiter ,\n",
       "  k            | 100 / m                | Kayser, kayser                   ,\n",
       "  lyr          | 9.46073e+15 m          | lightyear                        ,\n",
       "  m            | irreducible            | meter                            ,\n",
       "  micron       | 1e-06 m                |                                  ,\n",
       "  pc           | 3.08568e+16 m          | parsec                           ,\n",
       "  solRad       | 6.957e+08 m            | R_sun, Rsun                      ,\n",
       "]"
      ]
     },
     "execution_count": 44,
     "metadata": {},
     "output_type": "execute_result"
    }
   ],
   "source": [
    "u.Hz.find_equivalent_units(equivalencies=u.spectral())"
   ]
  },
  {
   "cell_type": "markdown",
   "metadata": {},
   "source": [
    "\n",
    "<section class=\"challenge panel panel-success\">\n",
    "<div class=\"panel-heading\">\n",
    "<h2><span class=\"fa fa-pencil\"></span> Challenge: Using equivalencies</h2>\n",
    "</div>\n",
    "\n",
    "\n",
    "<div class=\"panel-body\">\n",
    "\n",
    "<ol>\n",
    "<li>Find out more about the spectral flux equivalency and convert 12 mJy to ergs/cm^2/s/Hz and to W/m^2/Hz</li>\n",
    "</ol>\n",
    "\n",
    "</div>\n",
    "\n",
    "</section>\n"
   ]
  },
  {
   "cell_type": "code",
   "execution_count": 18,
   "metadata": {},
   "outputs": [
    {
     "data": {
      "text/latex": [
       "$1.2 \\times 10^{-25} \\; \\mathrm{\\frac{erg}{Hz\\,s\\,cm^{2}}}$"
      ],
      "text/plain": [
       "<Quantity 1.2e-25 erg / (cm2 Hz s)>"
      ]
     },
     "execution_count": 18,
     "metadata": {},
     "output_type": "execute_result"
    }
   ],
   "source": [
    "(12 * u.mJy).to(u.erg/u.cm ** 2 / u.s / u.Hz)"
   ]
  },
  {
   "cell_type": "code",
   "execution_count": 19,
   "metadata": {},
   "outputs": [
    {
     "data": {
      "text/latex": [
       "$1.2 \\times 10^{-28} \\; \\mathrm{\\frac{W}{Hz\\,m^{2}}}$"
      ],
      "text/plain": [
       "<Quantity 1.2e-28 W / (Hz m2)>"
      ]
     },
     "execution_count": 19,
     "metadata": {},
     "output_type": "execute_result"
    }
   ],
   "source": [
    "(12 * u.mJy).to(u.W / u.m ** 2 / u.Hz)"
   ]
  },
  {
   "cell_type": "markdown",
   "metadata": {},
   "source": [
    "## Logarithmic units"
   ]
  },
  {
   "cell_type": "markdown",
   "metadata": {},
   "source": [
    "Quantities can also be constructed with [Logarithmic Units](https://docs.astropy.org/en/stable/units/logarithmic_units.html), including various kinds of magnitude and dex:"
   ]
  },
  {
   "cell_type": "code",
   "execution_count": 53,
   "metadata": {},
   "outputs": [
    {
     "data": {
      "text/latex": [
       "$3.6307805 \\times 10^{-11} \\; \\mathrm{\\frac{erg}{\\mathring{A}\\,s\\,cm^{2}}}$"
      ],
      "text/plain": [
       "<Quantity 3.63078055e-11 erg / (Angstrom cm2 s)>"
      ]
     },
     "execution_count": 53,
     "metadata": {},
     "output_type": "execute_result"
    }
   ],
   "source": [
    "(5 * u.STmag).to(u.erg/u.s/u.cm**2/u.AA)"
   ]
  },
  {
   "cell_type": "code",
   "execution_count": 72,
   "metadata": {},
   "outputs": [
    {
     "data": {
      "text/latex": [
       "$0.030277451 \\; \\mathrm{mJy}$"
      ],
      "text/plain": [
       "<Quantity 0.03027745 mJy>"
      ]
     },
     "execution_count": 72,
     "metadata": {},
     "output_type": "execute_result"
    }
   ],
   "source": [
    "(15*u.STmag).to(u.mJy, equivalencies=u.spectral_density(500*u.AA))"
   ]
  },
  {
   "cell_type": "code",
   "execution_count": 73,
   "metadata": {},
   "outputs": [
    {
     "data": {
      "text/latex": [
       "$36307.805 \\; \\mathrm{mJy}$"
      ],
      "text/plain": [
       "<Quantity 36307.80547701 mJy>"
      ]
     },
     "execution_count": 73,
     "metadata": {},
     "output_type": "execute_result"
    }
   ],
   "source": [
    "(5*u.ABmag).to(u.mJy)"
   ]
  },
  {
   "cell_type": "code",
   "execution_count": null,
   "metadata": {},
   "outputs": [],
   "source": []
  },
  {
   "cell_type": "markdown",
   "metadata": {},
   "source": [
    "## Printing the quantities\n",
    "\n",
    "If you want to print quantities using formatting, you can use ``.value`` and ``.unit`` as shown here:"
   ]
  },
  {
   "cell_type": "code",
   "execution_count": 24,
   "metadata": {},
   "outputs": [
    {
     "name": "stdout",
     "output_type": "stream",
     "text": [
      "3.000 Myr\n"
     ]
    }
   ],
   "source": [
    "print(\"{0.value:0.03f} {0.unit:fits}\".format(time))"
   ]
  },
  {
   "cell_type": "code",
   "execution_count": 25,
   "metadata": {},
   "outputs": [
    {
     "name": "stdout",
     "output_type": "stream",
     "text": [
      "3.000 $\\mathrm{Myr}$\n"
     ]
    }
   ],
   "source": [
    "print((\"{0.value:0.03f} {0.unit:latex_inline}\".format(time)))"
   ]
  },
  {
   "cell_type": "markdown",
   "metadata": {},
   "source": [
    "## Using quantities with Numpy functions\n",
    "\n",
    "Quantities work as expected with a number of Numpy functions (though not all):"
   ]
  },
  {
   "cell_type": "code",
   "execution_count": 26,
   "metadata": {},
   "outputs": [
    {
     "data": {
      "text/latex": [
       "$[1,~0.99998022,~0.99992089,~\\dots,~0.99992089,~0.99998022,~1] \\; \\mathrm{}$"
      ],
      "text/plain": [
       "<Quantity [ 1.        ,  0.99998022,  0.99992089,  0.999822  ,  0.99968356,\n",
       "            0.99950557,  0.99928805,  0.999031  ,  0.99873443,  0.99839835,\n",
       "            0.99802278,  0.99760773,  0.99715321,  0.99665925,  0.99612587,\n",
       "            0.99555308,  0.99494091,  0.99428939,  0.99359853,  0.99286837,\n",
       "            0.99209893,  0.99129025,  0.99044235,  0.98955528,  0.98862906,\n",
       "            0.98766373,  0.98665934,  0.98561591,  0.9845335 ,  0.98341214,\n",
       "            0.98225188,  0.98105276,  0.97981484,  0.97853816,  0.97722277,\n",
       "            0.97586872,  0.97447607,  0.97304487,  0.97157518,  0.97006706,\n",
       "            0.96852057,  0.96693576,  0.9653127 ,  0.96365146,  0.9619521 ,\n",
       "            0.96021469,  0.95843929,  0.95662598,  0.95477483,  0.95288591,\n",
       "            0.95095929,  0.94899506,  0.94699329,  0.94495406,  0.94287745,\n",
       "            0.94076354,  0.93861241,  0.93642416,  0.93419886,  0.93193662,\n",
       "            0.9296375 ,  0.92730161,  0.92492904,  0.92251988,  0.92007423,\n",
       "            0.91759219,  0.91507385,  0.9125193 ,  0.90992867,  0.90730203,\n",
       "            0.90463951,  0.9019412 ,  0.89920721,  0.89643766,  0.89363264,\n",
       "            0.89079227,  0.88791667,  0.88500594,  0.8820602 ,  0.87907957,\n",
       "            0.87606417,  0.87301411,  0.86992952,  0.86681052,  0.86365722,\n",
       "            0.86046977,  0.85724827,  0.85399287,  0.85070368,  0.84738084,\n",
       "            0.84402448,  0.84063474,  0.83721174,  0.83375562,  0.83026652,\n",
       "            0.82674458,  0.82318994,  0.81960273,  0.8159831 ,  0.81233119,\n",
       "            0.80864715,  0.80493112,  0.80118325,  0.79740368,  0.79359258,\n",
       "            0.78975008,  0.78587634,  0.78197151,  0.77803575,  0.77406922,\n",
       "            0.77007206,  0.76604444,  0.76198652,  0.75789846,  0.75378041,\n",
       "            0.74963255,  0.74545504,  0.74124804,  0.73701171,  0.73274623,\n",
       "            0.72845177,  0.72412849,  0.71977656,  0.71539616,  0.71098747,\n",
       "            0.70655065,  0.70208588,  0.69759333,  0.69307319,  0.68852564,\n",
       "            0.68395085,  0.679349  ,  0.67472028,  0.67006487,  0.66538296,\n",
       "            0.66067472,  0.65594035,  0.65118003,  0.64639396,  0.64158231,\n",
       "            0.63674529,  0.63188307,  0.62699586,  0.62208385,  0.61714723,\n",
       "            0.6121862 ,  0.60720095,  0.60219168,  0.59715859,  0.59210188,\n",
       "            0.58702175,  0.58191839,  0.57679202,  0.57164283,  0.56647103,\n",
       "            0.56127682,  0.5560604 ,  0.55082199,  0.54556179,  0.54028001,\n",
       "            0.53497686,  0.52965255,  0.52430728,  0.51894128,  0.51355474,\n",
       "            0.5081479 ,  0.50272095,  0.49727411,  0.4918076 ,  0.48632164,\n",
       "            0.48081644,  0.47529222,  0.4697492 ,  0.4641876 ,  0.45860764,\n",
       "            0.45300953,  0.44739351,  0.44175978,  0.43610858,  0.43044014,\n",
       "            0.42475466,  0.41905238,  0.41333353,  0.40759832,  0.40184699,\n",
       "            0.39607977,  0.39029687,  0.38449854,  0.378685  ,  0.37285648,\n",
       "            0.36701321,  0.36115542,  0.35528334,  0.34939721,  0.34349726,\n",
       "            0.33758372,  0.33165683,  0.32571682,  0.31976392,  0.31379838,\n",
       "            0.30782042,  0.30183029,  0.29582821,  0.28981444,  0.28378919,\n",
       "            0.27775273,  0.27170527,  0.26564707,  0.25957836,  0.25349938,\n",
       "            0.24741038,  0.24131158,  0.23520324,  0.2290856 ,  0.2229589 ,\n",
       "            0.21682337,  0.21067927,  0.20452683,  0.19836631,  0.19219794,\n",
       "            0.18602196,  0.17983863,  0.17364818,  0.16745086,  0.16124692,\n",
       "            0.1550366 ,  0.14882015,  0.14259781,  0.13636983,  0.13013645,\n",
       "            0.12389793,  0.11765451,  0.11140643,  0.10515394,  0.0988973 ,\n",
       "            0.09263674,  0.08637252,  0.08010489,  0.07383408,  0.06756035,\n",
       "            0.06128395,  0.05500513,  0.04872413,  0.0424412 ,  0.0361566 ,\n",
       "            0.02987056,  0.02358334,  0.01729519,  0.01100636,  0.00471709,\n",
       "           -0.00157237, -0.00786176, -0.01415085, -0.02043937, -0.02672708,\n",
       "           -0.03301374, -0.03929909, -0.04558289, -0.05186489, -0.05814483,\n",
       "           -0.06442247, -0.07069757, -0.07696986, -0.08323912, -0.08950508,\n",
       "           -0.0957675 , -0.10202613, -0.10828072, -0.11453103, -0.12077682,\n",
       "           -0.12701782, -0.1332538 , -0.13948451, -0.1457097 , -0.15192912,\n",
       "           -0.15814254, -0.1643497 , -0.17055036, -0.17674428, -0.1829312 ,\n",
       "           -0.18911088, -0.19528309, -0.20144757, -0.20760408, -0.21375238,\n",
       "           -0.21989222, -0.22602337, -0.23214557, -0.23825859, -0.24436219,\n",
       "           -0.25045612, -0.25654014, -0.26261401, -0.2686775 , -0.27473036,\n",
       "           -0.28077235, -0.28680323, -0.29282277, -0.29883073, -0.30482686,\n",
       "           -0.31081094, -0.31678272, -0.32274197, -0.32868845, -0.33462193,\n",
       "           -0.34054218, -0.34644895, -0.35234202, -0.35822115, -0.36408611,\n",
       "           -0.36993667, -0.3757726 , -0.38159366, -0.38739962, -0.39319026,\n",
       "           -0.39896535, -0.40472466, -0.41046795, -0.41619501, -0.42190561,\n",
       "           -0.42759951, -0.4332765 , -0.43893635, -0.44457884, -0.45020374,\n",
       "           -0.45581084, -0.4613999 , -0.46697071, -0.47252305, -0.4780567 ,\n",
       "           -0.48357143, -0.48906704, -0.4945433 , -0.5       , -0.50543692,\n",
       "           -0.51085385, -0.51625056, -0.52162686, -0.52698252, -0.53231734,\n",
       "           -0.5376311 , -0.54292359, -0.5481946 , -0.55344393, -0.55867137,\n",
       "           -0.56387671, -0.56905974, -0.57422026, -0.57935807, -0.58447296,\n",
       "           -0.58956473, -0.59463318, -0.5996781 , -0.60469931, -0.60969659,\n",
       "           -0.61466975, -0.6196186 , -0.62454294, -0.62944258, -0.63431732,\n",
       "           -0.63916696, -0.64399132, -0.6487902 , -0.65356343, -0.65831079,\n",
       "           -0.66303212, -0.66772722, -0.6723959 , -0.67703799, -0.6816533 ,\n",
       "           -0.68624164, -0.69080283, -0.6953367 , -0.69984306, -0.70432174,\n",
       "           -0.70877256, -0.71319534, -0.71758991, -0.72195609, -0.72629372,\n",
       "           -0.73060261, -0.7348826 , -0.73913353, -0.74335521, -0.74754749,\n",
       "           -0.7517102 , -0.75584317, -0.75994625, -0.76401926, -0.76806205,\n",
       "           -0.77207446, -0.77605632, -0.78000749, -0.7839278 , -0.78781711,\n",
       "           -0.79167524, -0.79550207, -0.79929742, -0.80306115, -0.80679312,\n",
       "           -0.81049318, -0.81416117, -0.81779696, -0.82140039, -0.82497134,\n",
       "           -0.82850965, -0.83201519, -0.83548781, -0.83892739, -0.84233378,\n",
       "           -0.84570685, -0.84904646, -0.85235249, -0.8556248 , -0.85886327,\n",
       "           -0.86206776, -0.86523815, -0.86837431, -0.87147613, -0.87454347,\n",
       "           -0.87757621, -0.88057424, -0.88353744, -0.88646569, -0.88935887,\n",
       "           -0.89221687, -0.89503957, -0.89782688, -0.90057866, -0.90329482,\n",
       "           -0.90597525, -0.90861984, -0.91122849, -0.91380109, -0.91633755,\n",
       "           -0.91883775, -0.92130162, -0.92372903, -0.92611991, -0.92847415,\n",
       "           -0.93079166, -0.93307235, -0.93531614, -0.93752292, -0.93969262,\n",
       "           -0.94182515, -0.94392042, -0.94597835, -0.94799886, -0.94998187,\n",
       "           -0.95192731, -0.95383508, -0.95570513, -0.95753737, -0.95933173,\n",
       "           -0.96108814, -0.96280654, -0.96448685, -0.96612901, -0.96773295,\n",
       "           -0.96929861, -0.97082592, -0.97231483, -0.97376528, -0.97517722,\n",
       "           -0.97655057, -0.9778853 , -0.97918134, -0.98043865, -0.98165717,\n",
       "           -0.98283687, -0.98397768, -0.98507957, -0.9861425 , -0.98716641,\n",
       "           -0.98815128, -0.98909706, -0.99000371, -0.9908712 , -0.99169949,\n",
       "           -0.99248855, -0.99323836, -0.99394887, -0.99462007, -0.99525192,\n",
       "           -0.9958444 , -0.99639749, -0.99691116, -0.9973854 , -0.99782019,\n",
       "           -0.9982155 , -0.99857133, -0.99888765, -0.99916446, -0.99940175,\n",
       "           -0.99959951, -0.99975772, -0.99987639, -0.9999555 , -0.99999506,\n",
       "           -0.99999506, -0.9999555 , -0.99987639, -0.99975772, -0.99959951,\n",
       "           -0.99940175, -0.99916446, -0.99888765, -0.99857133, -0.9982155 ,\n",
       "           -0.99782019, -0.9973854 , -0.99691116, -0.99639749, -0.9958444 ,\n",
       "           -0.99525192, -0.99462007, -0.99394887, -0.99323836, -0.99248855,\n",
       "           -0.99169949, -0.9908712 , -0.99000371, -0.98909706, -0.98815128,\n",
       "           -0.98716641, -0.9861425 , -0.98507957, -0.98397768, -0.98283687,\n",
       "           -0.98165717, -0.98043865, -0.97918134, -0.9778853 , -0.97655057,\n",
       "           -0.97517722, -0.97376528, -0.97231483, -0.97082592, -0.96929861,\n",
       "           -0.96773295, -0.96612901, -0.96448685, -0.96280654, -0.96108814,\n",
       "           -0.95933173, -0.95753737, -0.95570513, -0.95383508, -0.95192731,\n",
       "           -0.94998187, -0.94799886, -0.94597835, -0.94392042, -0.94182515,\n",
       "           -0.93969262, -0.93752292, -0.93531614, -0.93307235, -0.93079166,\n",
       "           -0.92847415, -0.92611991, -0.92372903, -0.92130162, -0.91883775,\n",
       "           -0.91633755, -0.91380109, -0.91122849, -0.90861984, -0.90597525,\n",
       "           -0.90329482, -0.90057866, -0.89782688, -0.89503957, -0.89221687,\n",
       "           -0.88935887, -0.88646569, -0.88353744, -0.88057424, -0.87757621,\n",
       "           -0.87454347, -0.87147613, -0.86837431, -0.86523815, -0.86206776,\n",
       "           -0.85886327, -0.8556248 , -0.85235249, -0.84904646, -0.84570685,\n",
       "           -0.84233378, -0.83892739, -0.83548781, -0.83201519, -0.82850965,\n",
       "           -0.82497134, -0.82140039, -0.81779696, -0.81416117, -0.81049318,\n",
       "           -0.80679312, -0.80306115, -0.79929742, -0.79550207, -0.79167524,\n",
       "           -0.78781711, -0.7839278 , -0.78000749, -0.77605632, -0.77207446,\n",
       "           -0.76806205, -0.76401926, -0.75994625, -0.75584317, -0.7517102 ,\n",
       "           -0.74754749, -0.74335521, -0.73913353, -0.7348826 , -0.73060261,\n",
       "           -0.72629372, -0.72195609, -0.71758991, -0.71319534, -0.70877256,\n",
       "           -0.70432174, -0.69984306, -0.6953367 , -0.69080283, -0.68624164,\n",
       "           -0.6816533 , -0.67703799, -0.6723959 , -0.66772722, -0.66303212,\n",
       "           -0.65831079, -0.65356343, -0.6487902 , -0.64399132, -0.63916696,\n",
       "           -0.63431732, -0.62944258, -0.62454294, -0.6196186 , -0.61466975,\n",
       "           -0.60969659, -0.60469931, -0.5996781 , -0.59463318, -0.58956473,\n",
       "           -0.58447296, -0.57935807, -0.57422026, -0.56905974, -0.56387671,\n",
       "           -0.55867137, -0.55344393, -0.5481946 , -0.54292359, -0.5376311 ,\n",
       "           -0.53231734, -0.52698252, -0.52162686, -0.51625056, -0.51085385,\n",
       "           -0.50543692, -0.5       , -0.4945433 , -0.48906704, -0.48357143,\n",
       "           -0.4780567 , -0.47252305, -0.46697071, -0.4613999 , -0.45581084,\n",
       "           -0.45020374, -0.44457884, -0.43893635, -0.4332765 , -0.42759951,\n",
       "           -0.42190561, -0.41619501, -0.41046795, -0.40472466, -0.39896535,\n",
       "           -0.39319026, -0.38739962, -0.38159366, -0.3757726 , -0.36993667,\n",
       "           -0.36408611, -0.35822115, -0.35234202, -0.34644895, -0.34054218,\n",
       "           -0.33462193, -0.32868845, -0.32274197, -0.31678272, -0.31081094,\n",
       "           -0.30482686, -0.29883073, -0.29282277, -0.28680323, -0.28077235,\n",
       "           -0.27473036, -0.2686775 , -0.26261401, -0.25654014, -0.25045612,\n",
       "           -0.24436219, -0.23825859, -0.23214557, -0.22602337, -0.21989222,\n",
       "           -0.21375238, -0.20760408, -0.20144757, -0.19528309, -0.18911088,\n",
       "           -0.1829312 , -0.17674428, -0.17055036, -0.1643497 , -0.15814254,\n",
       "           -0.15192912, -0.1457097 , -0.13948451, -0.1332538 , -0.12701782,\n",
       "           -0.12077682, -0.11453103, -0.10828072, -0.10202613, -0.0957675 ,\n",
       "           -0.08950508, -0.08323912, -0.07696986, -0.07069757, -0.06442247,\n",
       "           -0.05814483, -0.05186489, -0.04558289, -0.03929909, -0.03301374,\n",
       "           -0.02672708, -0.02043937, -0.01415085, -0.00786176, -0.00157237,\n",
       "            0.00471709,  0.01100636,  0.01729519,  0.02358334,  0.02987056,\n",
       "            0.0361566 ,  0.0424412 ,  0.04872413,  0.05500513,  0.06128395,\n",
       "            0.06756035,  0.07383408,  0.08010489,  0.08637252,  0.09263674,\n",
       "            0.0988973 ,  0.10515394,  0.11140643,  0.11765451,  0.12389793,\n",
       "            0.13013645,  0.13636983,  0.14259781,  0.14882015,  0.1550366 ,\n",
       "            0.16124692,  0.16745086,  0.17364818,  0.17983863,  0.18602196,\n",
       "            0.19219794,  0.19836631,  0.20452683,  0.21067927,  0.21682337,\n",
       "            0.2229589 ,  0.2290856 ,  0.23520324,  0.24131158,  0.24741038,\n",
       "            0.25349938,  0.25957836,  0.26564707,  0.27170527,  0.27775273,\n",
       "            0.28378919,  0.28981444,  0.29582821,  0.30183029,  0.30782042,\n",
       "            0.31379838,  0.31976392,  0.32571682,  0.33165683,  0.33758372,\n",
       "            0.34349726,  0.34939721,  0.35528334,  0.36115542,  0.36701321,\n",
       "            0.37285648,  0.378685  ,  0.38449854,  0.39029687,  0.39607977,\n",
       "            0.40184699,  0.40759832,  0.41333353,  0.41905238,  0.42475466,\n",
       "            0.43044014,  0.43610858,  0.44175978,  0.44739351,  0.45300953,\n",
       "            0.45860764,  0.4641876 ,  0.4697492 ,  0.47529222,  0.48081644,\n",
       "            0.48632164,  0.4918076 ,  0.49727411,  0.50272095,  0.5081479 ,\n",
       "            0.51355474,  0.51894128,  0.52430728,  0.52965255,  0.53497686,\n",
       "            0.54028001,  0.54556179,  0.55082199,  0.5560604 ,  0.56127682,\n",
       "            0.56647103,  0.57164283,  0.57679202,  0.58191839,  0.58702175,\n",
       "            0.59210188,  0.59715859,  0.60219168,  0.60720095,  0.6121862 ,\n",
       "            0.61714723,  0.62208385,  0.62699586,  0.63188307,  0.63674529,\n",
       "            0.64158231,  0.64639396,  0.65118003,  0.65594035,  0.66067472,\n",
       "            0.66538296,  0.67006487,  0.67472028,  0.679349  ,  0.68395085,\n",
       "            0.68852564,  0.69307319,  0.69759333,  0.70208588,  0.70655065,\n",
       "            0.71098747,  0.71539616,  0.71977656,  0.72412849,  0.72845177,\n",
       "            0.73274623,  0.73701171,  0.74124804,  0.74545504,  0.74963255,\n",
       "            0.75378041,  0.75789846,  0.76198652,  0.76604444,  0.77007206,\n",
       "            0.77406922,  0.77803575,  0.78197151,  0.78587634,  0.78975008,\n",
       "            0.79359258,  0.79740368,  0.80118325,  0.80493112,  0.80864715,\n",
       "            0.81233119,  0.8159831 ,  0.81960273,  0.82318994,  0.82674458,\n",
       "            0.83026652,  0.83375562,  0.83721174,  0.84063474,  0.84402448,\n",
       "            0.84738084,  0.85070368,  0.85399287,  0.85724827,  0.86046977,\n",
       "            0.86365722,  0.86681052,  0.86992952,  0.87301411,  0.87606417,\n",
       "            0.87907957,  0.8820602 ,  0.88500594,  0.88791667,  0.89079227,\n",
       "            0.89363264,  0.89643766,  0.89920721,  0.9019412 ,  0.90463951,\n",
       "            0.90730203,  0.90992867,  0.9125193 ,  0.91507385,  0.91759219,\n",
       "            0.92007423,  0.92251988,  0.92492904,  0.92730161,  0.9296375 ,\n",
       "            0.93193662,  0.93419886,  0.93642416,  0.93861241,  0.94076354,\n",
       "            0.94287745,  0.94495406,  0.94699329,  0.94899506,  0.95095929,\n",
       "            0.95288591,  0.95477483,  0.95662598,  0.95843929,  0.96021469,\n",
       "            0.9619521 ,  0.96365146,  0.9653127 ,  0.96693576,  0.96852057,\n",
       "            0.97006706,  0.97157518,  0.97304487,  0.97447607,  0.97586872,\n",
       "            0.97722277,  0.97853816,  0.97981484,  0.98105276,  0.98225188,\n",
       "            0.98341214,  0.9845335 ,  0.98561591,  0.98665934,  0.98766373,\n",
       "            0.98862906,  0.98955528,  0.99044235,  0.99129025,  0.99209893,\n",
       "            0.99286837,  0.99359853,  0.99428939,  0.99494091,  0.99555308,\n",
       "            0.99612587,  0.99665925,  0.99715321,  0.99760773,  0.99802278,\n",
       "            0.99839835,  0.99873443,  0.999031  ,  0.99928805,  0.99950557,\n",
       "            0.99968356,  0.999822  ,  0.99992089,  0.99998022,  1.        ]>"
      ]
     },
     "execution_count": 26,
     "metadata": {},
     "output_type": "execute_result"
    }
   ],
   "source": [
    "angle = np.linspace(0, 360, 1000) * u.deg\n",
    "np.cos(angle)"
   ]
  },
  {
   "cell_type": "code",
   "execution_count": 27,
   "metadata": {},
   "outputs": [
    {
     "data": {
      "text/latex": [
       "$[0,~0.36036036,~0.72072072,~\\dots,~359.27928,~359.63964,~360] \\; \\mathrm{{}^{\\circ}}$"
      ],
      "text/plain": [
       "<Quantity [  0.        ,   0.36036036,   0.72072072,   1.08108108,\n",
       "             1.44144144,   1.8018018 ,   2.16216216,   2.52252252,\n",
       "             2.88288288,   3.24324324,   3.6036036 ,   3.96396396,\n",
       "             4.32432432,   4.68468468,   5.04504505,   5.40540541,\n",
       "             5.76576577,   6.12612613,   6.48648649,   6.84684685,\n",
       "             7.20720721,   7.56756757,   7.92792793,   8.28828829,\n",
       "             8.64864865,   9.00900901,   9.36936937,   9.72972973,\n",
       "            10.09009009,  10.45045045,  10.81081081,  11.17117117,\n",
       "            11.53153153,  11.89189189,  12.25225225,  12.61261261,\n",
       "            12.97297297,  13.33333333,  13.69369369,  14.05405405,\n",
       "            14.41441441,  14.77477477,  15.13513514,  15.4954955 ,\n",
       "            15.85585586,  16.21621622,  16.57657658,  16.93693694,\n",
       "            17.2972973 ,  17.65765766,  18.01801802,  18.37837838,\n",
       "            18.73873874,  19.0990991 ,  19.45945946,  19.81981982,\n",
       "            20.18018018,  20.54054054,  20.9009009 ,  21.26126126,\n",
       "            21.62162162,  21.98198198,  22.34234234,  22.7027027 ,\n",
       "            23.06306306,  23.42342342,  23.78378378,  24.14414414,\n",
       "            24.5045045 ,  24.86486486,  25.22522523,  25.58558559,\n",
       "            25.94594595,  26.30630631,  26.66666667,  27.02702703,\n",
       "            27.38738739,  27.74774775,  28.10810811,  28.46846847,\n",
       "            28.82882883,  29.18918919,  29.54954955,  29.90990991,\n",
       "            30.27027027,  30.63063063,  30.99099099,  31.35135135,\n",
       "            31.71171171,  32.07207207,  32.43243243,  32.79279279,\n",
       "            33.15315315,  33.51351351,  33.87387387,  34.23423423,\n",
       "            34.59459459,  34.95495495,  35.31531532,  35.67567568,\n",
       "            36.03603604,  36.3963964 ,  36.75675676,  37.11711712,\n",
       "            37.47747748,  37.83783784,  38.1981982 ,  38.55855856,\n",
       "            38.91891892,  39.27927928,  39.63963964,  40.        ,\n",
       "            40.36036036,  40.72072072,  41.08108108,  41.44144144,\n",
       "            41.8018018 ,  42.16216216,  42.52252252,  42.88288288,\n",
       "            43.24324324,  43.6036036 ,  43.96396396,  44.32432432,\n",
       "            44.68468468,  45.04504505,  45.40540541,  45.76576577,\n",
       "            46.12612613,  46.48648649,  46.84684685,  47.20720721,\n",
       "            47.56756757,  47.92792793,  48.28828829,  48.64864865,\n",
       "            49.00900901,  49.36936937,  49.72972973,  50.09009009,\n",
       "            50.45045045,  50.81081081,  51.17117117,  51.53153153,\n",
       "            51.89189189,  52.25225225,  52.61261261,  52.97297297,\n",
       "            53.33333333,  53.69369369,  54.05405405,  54.41441441,\n",
       "            54.77477477,  55.13513514,  55.4954955 ,  55.85585586,\n",
       "            56.21621622,  56.57657658,  56.93693694,  57.2972973 ,\n",
       "            57.65765766,  58.01801802,  58.37837838,  58.73873874,\n",
       "            59.0990991 ,  59.45945946,  59.81981982,  60.18018018,\n",
       "            60.54054054,  60.9009009 ,  61.26126126,  61.62162162,\n",
       "            61.98198198,  62.34234234,  62.7027027 ,  63.06306306,\n",
       "            63.42342342,  63.78378378,  64.14414414,  64.5045045 ,\n",
       "            64.86486486,  65.22522523,  65.58558559,  65.94594595,\n",
       "            66.30630631,  66.66666667,  67.02702703,  67.38738739,\n",
       "            67.74774775,  68.10810811,  68.46846847,  68.82882883,\n",
       "            69.18918919,  69.54954955,  69.90990991,  70.27027027,\n",
       "            70.63063063,  70.99099099,  71.35135135,  71.71171171,\n",
       "            72.07207207,  72.43243243,  72.79279279,  73.15315315,\n",
       "            73.51351351,  73.87387387,  74.23423423,  74.59459459,\n",
       "            74.95495495,  75.31531532,  75.67567568,  76.03603604,\n",
       "            76.3963964 ,  76.75675676,  77.11711712,  77.47747748,\n",
       "            77.83783784,  78.1981982 ,  78.55855856,  78.91891892,\n",
       "            79.27927928,  79.63963964,  80.        ,  80.36036036,\n",
       "            80.72072072,  81.08108108,  81.44144144,  81.8018018 ,\n",
       "            82.16216216,  82.52252252,  82.88288288,  83.24324324,\n",
       "            83.6036036 ,  83.96396396,  84.32432432,  84.68468468,\n",
       "            85.04504505,  85.40540541,  85.76576577,  86.12612613,\n",
       "            86.48648649,  86.84684685,  87.20720721,  87.56756757,\n",
       "            87.92792793,  88.28828829,  88.64864865,  89.00900901,\n",
       "            89.36936937,  89.72972973,  90.09009009,  90.45045045,\n",
       "            90.81081081,  91.17117117,  91.53153153,  91.89189189,\n",
       "            92.25225225,  92.61261261,  92.97297297,  93.33333333,\n",
       "            93.69369369,  94.05405405,  94.41441441,  94.77477477,\n",
       "            95.13513514,  95.4954955 ,  95.85585586,  96.21621622,\n",
       "            96.57657658,  96.93693694,  97.2972973 ,  97.65765766,\n",
       "            98.01801802,  98.37837838,  98.73873874,  99.0990991 ,\n",
       "            99.45945946,  99.81981982, 100.18018018, 100.54054054,\n",
       "           100.9009009 , 101.26126126, 101.62162162, 101.98198198,\n",
       "           102.34234234, 102.7027027 , 103.06306306, 103.42342342,\n",
       "           103.78378378, 104.14414414, 104.5045045 , 104.86486486,\n",
       "           105.22522523, 105.58558559, 105.94594595, 106.30630631,\n",
       "           106.66666667, 107.02702703, 107.38738739, 107.74774775,\n",
       "           108.10810811, 108.46846847, 108.82882883, 109.18918919,\n",
       "           109.54954955, 109.90990991, 110.27027027, 110.63063063,\n",
       "           110.99099099, 111.35135135, 111.71171171, 112.07207207,\n",
       "           112.43243243, 112.79279279, 113.15315315, 113.51351351,\n",
       "           113.87387387, 114.23423423, 114.59459459, 114.95495495,\n",
       "           115.31531532, 115.67567568, 116.03603604, 116.3963964 ,\n",
       "           116.75675676, 117.11711712, 117.47747748, 117.83783784,\n",
       "           118.1981982 , 118.55855856, 118.91891892, 119.27927928,\n",
       "           119.63963964, 120.        , 120.36036036, 120.72072072,\n",
       "           121.08108108, 121.44144144, 121.8018018 , 122.16216216,\n",
       "           122.52252252, 122.88288288, 123.24324324, 123.6036036 ,\n",
       "           123.96396396, 124.32432432, 124.68468468, 125.04504505,\n",
       "           125.40540541, 125.76576577, 126.12612613, 126.48648649,\n",
       "           126.84684685, 127.20720721, 127.56756757, 127.92792793,\n",
       "           128.28828829, 128.64864865, 129.00900901, 129.36936937,\n",
       "           129.72972973, 130.09009009, 130.45045045, 130.81081081,\n",
       "           131.17117117, 131.53153153, 131.89189189, 132.25225225,\n",
       "           132.61261261, 132.97297297, 133.33333333, 133.69369369,\n",
       "           134.05405405, 134.41441441, 134.77477477, 135.13513514,\n",
       "           135.4954955 , 135.85585586, 136.21621622, 136.57657658,\n",
       "           136.93693694, 137.2972973 , 137.65765766, 138.01801802,\n",
       "           138.37837838, 138.73873874, 139.0990991 , 139.45945946,\n",
       "           139.81981982, 140.18018018, 140.54054054, 140.9009009 ,\n",
       "           141.26126126, 141.62162162, 141.98198198, 142.34234234,\n",
       "           142.7027027 , 143.06306306, 143.42342342, 143.78378378,\n",
       "           144.14414414, 144.5045045 , 144.86486486, 145.22522523,\n",
       "           145.58558559, 145.94594595, 146.30630631, 146.66666667,\n",
       "           147.02702703, 147.38738739, 147.74774775, 148.10810811,\n",
       "           148.46846847, 148.82882883, 149.18918919, 149.54954955,\n",
       "           149.90990991, 150.27027027, 150.63063063, 150.99099099,\n",
       "           151.35135135, 151.71171171, 152.07207207, 152.43243243,\n",
       "           152.79279279, 153.15315315, 153.51351351, 153.87387387,\n",
       "           154.23423423, 154.59459459, 154.95495495, 155.31531532,\n",
       "           155.67567568, 156.03603604, 156.3963964 , 156.75675676,\n",
       "           157.11711712, 157.47747748, 157.83783784, 158.1981982 ,\n",
       "           158.55855856, 158.91891892, 159.27927928, 159.63963964,\n",
       "           160.        , 160.36036036, 160.72072072, 161.08108108,\n",
       "           161.44144144, 161.8018018 , 162.16216216, 162.52252252,\n",
       "           162.88288288, 163.24324324, 163.6036036 , 163.96396396,\n",
       "           164.32432432, 164.68468468, 165.04504505, 165.40540541,\n",
       "           165.76576577, 166.12612613, 166.48648649, 166.84684685,\n",
       "           167.20720721, 167.56756757, 167.92792793, 168.28828829,\n",
       "           168.64864865, 169.00900901, 169.36936937, 169.72972973,\n",
       "           170.09009009, 170.45045045, 170.81081081, 171.17117117,\n",
       "           171.53153153, 171.89189189, 172.25225225, 172.61261261,\n",
       "           172.97297297, 173.33333333, 173.69369369, 174.05405405,\n",
       "           174.41441441, 174.77477477, 175.13513514, 175.4954955 ,\n",
       "           175.85585586, 176.21621622, 176.57657658, 176.93693694,\n",
       "           177.2972973 , 177.65765766, 178.01801802, 178.37837838,\n",
       "           178.73873874, 179.0990991 , 179.45945946, 179.81981982,\n",
       "           180.18018018, 180.54054054, 180.9009009 , 181.26126126,\n",
       "           181.62162162, 181.98198198, 182.34234234, 182.7027027 ,\n",
       "           183.06306306, 183.42342342, 183.78378378, 184.14414414,\n",
       "           184.5045045 , 184.86486486, 185.22522523, 185.58558559,\n",
       "           185.94594595, 186.30630631, 186.66666667, 187.02702703,\n",
       "           187.38738739, 187.74774775, 188.10810811, 188.46846847,\n",
       "           188.82882883, 189.18918919, 189.54954955, 189.90990991,\n",
       "           190.27027027, 190.63063063, 190.99099099, 191.35135135,\n",
       "           191.71171171, 192.07207207, 192.43243243, 192.79279279,\n",
       "           193.15315315, 193.51351351, 193.87387387, 194.23423423,\n",
       "           194.59459459, 194.95495495, 195.31531532, 195.67567568,\n",
       "           196.03603604, 196.3963964 , 196.75675676, 197.11711712,\n",
       "           197.47747748, 197.83783784, 198.1981982 , 198.55855856,\n",
       "           198.91891892, 199.27927928, 199.63963964, 200.        ,\n",
       "           200.36036036, 200.72072072, 201.08108108, 201.44144144,\n",
       "           201.8018018 , 202.16216216, 202.52252252, 202.88288288,\n",
       "           203.24324324, 203.6036036 , 203.96396396, 204.32432432,\n",
       "           204.68468468, 205.04504505, 205.40540541, 205.76576577,\n",
       "           206.12612613, 206.48648649, 206.84684685, 207.20720721,\n",
       "           207.56756757, 207.92792793, 208.28828829, 208.64864865,\n",
       "           209.00900901, 209.36936937, 209.72972973, 210.09009009,\n",
       "           210.45045045, 210.81081081, 211.17117117, 211.53153153,\n",
       "           211.89189189, 212.25225225, 212.61261261, 212.97297297,\n",
       "           213.33333333, 213.69369369, 214.05405405, 214.41441441,\n",
       "           214.77477477, 215.13513514, 215.4954955 , 215.85585586,\n",
       "           216.21621622, 216.57657658, 216.93693694, 217.2972973 ,\n",
       "           217.65765766, 218.01801802, 218.37837838, 218.73873874,\n",
       "           219.0990991 , 219.45945946, 219.81981982, 220.18018018,\n",
       "           220.54054054, 220.9009009 , 221.26126126, 221.62162162,\n",
       "           221.98198198, 222.34234234, 222.7027027 , 223.06306306,\n",
       "           223.42342342, 223.78378378, 224.14414414, 224.5045045 ,\n",
       "           224.86486486, 225.22522523, 225.58558559, 225.94594595,\n",
       "           226.30630631, 226.66666667, 227.02702703, 227.38738739,\n",
       "           227.74774775, 228.10810811, 228.46846847, 228.82882883,\n",
       "           229.18918919, 229.54954955, 229.90990991, 230.27027027,\n",
       "           230.63063063, 230.99099099, 231.35135135, 231.71171171,\n",
       "           232.07207207, 232.43243243, 232.79279279, 233.15315315,\n",
       "           233.51351351, 233.87387387, 234.23423423, 234.59459459,\n",
       "           234.95495495, 235.31531532, 235.67567568, 236.03603604,\n",
       "           236.3963964 , 236.75675676, 237.11711712, 237.47747748,\n",
       "           237.83783784, 238.1981982 , 238.55855856, 238.91891892,\n",
       "           239.27927928, 239.63963964, 240.        , 240.36036036,\n",
       "           240.72072072, 241.08108108, 241.44144144, 241.8018018 ,\n",
       "           242.16216216, 242.52252252, 242.88288288, 243.24324324,\n",
       "           243.6036036 , 243.96396396, 244.32432432, 244.68468468,\n",
       "           245.04504505, 245.40540541, 245.76576577, 246.12612613,\n",
       "           246.48648649, 246.84684685, 247.20720721, 247.56756757,\n",
       "           247.92792793, 248.28828829, 248.64864865, 249.00900901,\n",
       "           249.36936937, 249.72972973, 250.09009009, 250.45045045,\n",
       "           250.81081081, 251.17117117, 251.53153153, 251.89189189,\n",
       "           252.25225225, 252.61261261, 252.97297297, 253.33333333,\n",
       "           253.69369369, 254.05405405, 254.41441441, 254.77477477,\n",
       "           255.13513514, 255.4954955 , 255.85585586, 256.21621622,\n",
       "           256.57657658, 256.93693694, 257.2972973 , 257.65765766,\n",
       "           258.01801802, 258.37837838, 258.73873874, 259.0990991 ,\n",
       "           259.45945946, 259.81981982, 260.18018018, 260.54054054,\n",
       "           260.9009009 , 261.26126126, 261.62162162, 261.98198198,\n",
       "           262.34234234, 262.7027027 , 263.06306306, 263.42342342,\n",
       "           263.78378378, 264.14414414, 264.5045045 , 264.86486486,\n",
       "           265.22522523, 265.58558559, 265.94594595, 266.30630631,\n",
       "           266.66666667, 267.02702703, 267.38738739, 267.74774775,\n",
       "           268.10810811, 268.46846847, 268.82882883, 269.18918919,\n",
       "           269.54954955, 269.90990991, 270.27027027, 270.63063063,\n",
       "           270.99099099, 271.35135135, 271.71171171, 272.07207207,\n",
       "           272.43243243, 272.79279279, 273.15315315, 273.51351351,\n",
       "           273.87387387, 274.23423423, 274.59459459, 274.95495495,\n",
       "           275.31531532, 275.67567568, 276.03603604, 276.3963964 ,\n",
       "           276.75675676, 277.11711712, 277.47747748, 277.83783784,\n",
       "           278.1981982 , 278.55855856, 278.91891892, 279.27927928,\n",
       "           279.63963964, 280.        , 280.36036036, 280.72072072,\n",
       "           281.08108108, 281.44144144, 281.8018018 , 282.16216216,\n",
       "           282.52252252, 282.88288288, 283.24324324, 283.6036036 ,\n",
       "           283.96396396, 284.32432432, 284.68468468, 285.04504505,\n",
       "           285.40540541, 285.76576577, 286.12612613, 286.48648649,\n",
       "           286.84684685, 287.20720721, 287.56756757, 287.92792793,\n",
       "           288.28828829, 288.64864865, 289.00900901, 289.36936937,\n",
       "           289.72972973, 290.09009009, 290.45045045, 290.81081081,\n",
       "           291.17117117, 291.53153153, 291.89189189, 292.25225225,\n",
       "           292.61261261, 292.97297297, 293.33333333, 293.69369369,\n",
       "           294.05405405, 294.41441441, 294.77477477, 295.13513514,\n",
       "           295.4954955 , 295.85585586, 296.21621622, 296.57657658,\n",
       "           296.93693694, 297.2972973 , 297.65765766, 298.01801802,\n",
       "           298.37837838, 298.73873874, 299.0990991 , 299.45945946,\n",
       "           299.81981982, 300.18018018, 300.54054054, 300.9009009 ,\n",
       "           301.26126126, 301.62162162, 301.98198198, 302.34234234,\n",
       "           302.7027027 , 303.06306306, 303.42342342, 303.78378378,\n",
       "           304.14414414, 304.5045045 , 304.86486486, 305.22522523,\n",
       "           305.58558559, 305.94594595, 306.30630631, 306.66666667,\n",
       "           307.02702703, 307.38738739, 307.74774775, 308.10810811,\n",
       "           308.46846847, 308.82882883, 309.18918919, 309.54954955,\n",
       "           309.90990991, 310.27027027, 310.63063063, 310.99099099,\n",
       "           311.35135135, 311.71171171, 312.07207207, 312.43243243,\n",
       "           312.79279279, 313.15315315, 313.51351351, 313.87387387,\n",
       "           314.23423423, 314.59459459, 314.95495495, 315.31531532,\n",
       "           315.67567568, 316.03603604, 316.3963964 , 316.75675676,\n",
       "           317.11711712, 317.47747748, 317.83783784, 318.1981982 ,\n",
       "           318.55855856, 318.91891892, 319.27927928, 319.63963964,\n",
       "           320.        , 320.36036036, 320.72072072, 321.08108108,\n",
       "           321.44144144, 321.8018018 , 322.16216216, 322.52252252,\n",
       "           322.88288288, 323.24324324, 323.6036036 , 323.96396396,\n",
       "           324.32432432, 324.68468468, 325.04504505, 325.40540541,\n",
       "           325.76576577, 326.12612613, 326.48648649, 326.84684685,\n",
       "           327.20720721, 327.56756757, 327.92792793, 328.28828829,\n",
       "           328.64864865, 329.00900901, 329.36936937, 329.72972973,\n",
       "           330.09009009, 330.45045045, 330.81081081, 331.17117117,\n",
       "           331.53153153, 331.89189189, 332.25225225, 332.61261261,\n",
       "           332.97297297, 333.33333333, 333.69369369, 334.05405405,\n",
       "           334.41441441, 334.77477477, 335.13513514, 335.4954955 ,\n",
       "           335.85585586, 336.21621622, 336.57657658, 336.93693694,\n",
       "           337.2972973 , 337.65765766, 338.01801802, 338.37837838,\n",
       "           338.73873874, 339.0990991 , 339.45945946, 339.81981982,\n",
       "           340.18018018, 340.54054054, 340.9009009 , 341.26126126,\n",
       "           341.62162162, 341.98198198, 342.34234234, 342.7027027 ,\n",
       "           343.06306306, 343.42342342, 343.78378378, 344.14414414,\n",
       "           344.5045045 , 344.86486486, 345.22522523, 345.58558559,\n",
       "           345.94594595, 346.30630631, 346.66666667, 347.02702703,\n",
       "           347.38738739, 347.74774775, 348.10810811, 348.46846847,\n",
       "           348.82882883, 349.18918919, 349.54954955, 349.90990991,\n",
       "           350.27027027, 350.63063063, 350.99099099, 351.35135135,\n",
       "           351.71171171, 352.07207207, 352.43243243, 352.79279279,\n",
       "           353.15315315, 353.51351351, 353.87387387, 354.23423423,\n",
       "           354.59459459, 354.95495495, 355.31531532, 355.67567568,\n",
       "           356.03603604, 356.3963964 , 356.75675676, 357.11711712,\n",
       "           357.47747748, 357.83783784, 358.1981982 , 358.55855856,\n",
       "           358.91891892, 359.27927928, 359.63963964, 360.        ] deg>"
      ]
     },
     "execution_count": 27,
     "metadata": {},
     "output_type": "execute_result"
    }
   ],
   "source": [
    "angle"
   ]
  },
  {
   "cell_type": "code",
   "execution_count": 28,
   "metadata": {},
   "outputs": [
    {
     "data": {
      "text/plain": [
       "array([1.        , 0.93576982, 0.7513303 , 0.47037462, 0.12899444])"
      ]
     },
     "execution_count": 28,
     "metadata": {},
     "output_type": "execute_result"
    }
   ],
   "source": [
    "np.cos(angle.value)[:5]"
   ]
  },
  {
   "cell_type": "code",
   "execution_count": 29,
   "metadata": {},
   "outputs": [
    {
     "data": {
      "text/latex": [
       "$0.36787944 \\; \\mathrm{}$"
      ],
      "text/plain": [
       "<Quantity 0.36787944>"
      ]
     },
     "execution_count": 29,
     "metadata": {},
     "output_type": "execute_result"
    }
   ],
   "source": [
    "np.exp(-4*u.m / (400 * u.cm))"
   ]
  },
  {
   "cell_type": "markdown",
   "metadata": {},
   "source": [
    "## Performance considerations\n",
    "\n",
    "If performance is important, and you are attaching units to arrays, you may want to consider using the ``<<`` operator to attach units to arrays - this prevents the array data from being copied:"
   ]
  },
  {
   "cell_type": "code",
   "execution_count": 88,
   "metadata": {},
   "outputs": [],
   "source": [
    "array = np.random.random(10000000)"
   ]
  },
  {
   "cell_type": "code",
   "execution_count": 89,
   "metadata": {},
   "outputs": [
    {
     "name": "stdout",
     "output_type": "stream",
     "text": [
      "Wall time: 38 ms\n"
     ]
    },
    {
     "data": {
      "text/latex": [
       "$[0.19615286,~0.37541727,~0.17524072,~\\dots,~0.32581064,~0.84104545,~0.44410826] \\; \\mathrm{\\frac{m}{s}}$"
      ],
      "text/plain": [
       "<Quantity [0.19615286, 0.37541727, 0.17524072, ..., 0.32581064, 0.84104545,\n",
       "           0.44410826] m / s>"
      ]
     },
     "execution_count": 89,
     "metadata": {},
     "output_type": "execute_result"
    }
   ],
   "source": [
    "%time array * u.m / u.s"
   ]
  },
  {
   "cell_type": "code",
   "execution_count": 90,
   "metadata": {},
   "outputs": [
    {
     "name": "stdout",
     "output_type": "stream",
     "text": [
      "Wall time: 0 ns\n"
     ]
    },
    {
     "data": {
      "text/latex": [
       "$[0.19615286,~0.37541727,~0.17524072,~\\dots,~0.32581064,~0.84104545,~0.44410826] \\; \\mathrm{\\frac{m}{s}}$"
      ],
      "text/plain": [
       "<Quantity [0.19615286, 0.37541727, 0.17524072, ..., 0.32581064, 0.84104545,\n",
       "           0.44410826] m / s>"
      ]
     },
     "execution_count": 90,
     "metadata": {},
     "output_type": "execute_result"
    }
   ],
   "source": [
    "%time array << u.m / u.s"
   ]
  },
  {
   "cell_type": "code",
   "execution_count": null,
   "metadata": {},
   "outputs": [],
   "source": []
  },
  {
   "cell_type": "markdown",
   "metadata": {},
   "source": [
    "If you are using composite units in your code, it can also be beneficial to compute the composite units once and for all as shown earlier, e.g.:"
   ]
  },
  {
   "cell_type": "code",
   "execution_count": 91,
   "metadata": {},
   "outputs": [],
   "source": [
    "kms = u.km / u.s"
   ]
  },
  {
   "cell_type": "markdown",
   "metadata": {},
   "source": [
    "Finally, if having Quantity classes is still slowing down your code, you can consider using the units only to find scalefactors and then use then to modify arrays:"
   ]
  },
  {
   "cell_type": "code",
   "execution_count": 92,
   "metadata": {},
   "outputs": [],
   "source": [
    "kms_to_cgs = (u.km / u.s).to(u.cm/u.s)"
   ]
  },
  {
   "cell_type": "code",
   "execution_count": 93,
   "metadata": {},
   "outputs": [
    {
     "data": {
      "text/plain": [
       "100000.0"
      ]
     },
     "execution_count": 93,
     "metadata": {},
     "output_type": "execute_result"
    }
   ],
   "source": [
    "kms_to_cgs"
   ]
  },
  {
   "cell_type": "markdown",
   "metadata": {},
   "source": [
    "## Plotting quantities\n",
    "\n",
    "To plot quantities nicely with Matplotlib we need to use the ``quantity_support`` function:"
   ]
  },
  {
   "cell_type": "code",
   "execution_count": 14,
   "metadata": {},
   "outputs": [],
   "source": [
    "%matplotlib inline\n",
    "import matplotlib.pyplot as plt"
   ]
  },
  {
   "cell_type": "code",
   "execution_count": 15,
   "metadata": {},
   "outputs": [
    {
     "data": {
      "text/plain": [
       "<astropy.visualization.units.quantity_support.<locals>.MplQuantityConverter at 0x2a376446ee0>"
      ]
     },
     "execution_count": 15,
     "metadata": {},
     "output_type": "execute_result"
    }
   ],
   "source": [
    "from astropy.visualization import quantity_support\n",
    "quantity_support()"
   ]
  },
  {
   "cell_type": "code",
   "execution_count": 32,
   "metadata": {},
   "outputs": [
    {
     "data": {
      "text/plain": [
       "[<matplotlib.lines.Line2D at 0x1790c00e100>]"
      ]
     },
     "execution_count": 32,
     "metadata": {},
     "output_type": "execute_result"
    },
    {
     "data": {
      "image/png": "[encoded data removed]",
      "text/plain": [
       "<Figure size 432x288 with 1 Axes>"
      ]
     },
     "metadata": {
      "needs_background": "light"
     },
     "output_type": "display_data"
    }
   ],
   "source": [
    "plt.plot(angle, np.sin(angle))\n",
    "plt.plot(angle.to(u.rad), np.cos(angle))"
   ]
  },
  {
   "cell_type": "markdown",
   "metadata": {},
   "source": [
    "## Physical constants\n",
    "\n",
    "The [astropy.constants](https://docs.astropy.org/en/stable/constants/index.html) sub-package provides a set of physical constants which are compatible with the units/quantities framework:"
   ]
  },
  {
   "cell_type": "code",
   "execution_count": 33,
   "metadata": {},
   "outputs": [],
   "source": [
    "from astropy.constants import M_sun, c"
   ]
  },
  {
   "cell_type": "code",
   "execution_count": 34,
   "metadata": {},
   "outputs": [],
   "source": [
    "E = 3 * M_sun"
   ]
  },
  {
   "cell_type": "markdown",
   "metadata": {},
   "source": [
    "\n",
    "<section class=\"challenge panel panel-success\">\n",
    "<div class=\"panel-heading\">\n",
    "<h2><span class=\"fa fa-pencil\"></span> Plotting the solar system potential</h2>\n",
    "</div>\n",
    "\n",
    "\n",
    "<div class=\"panel-body\">\n",
    "\n",
    "<ol>\n",
    "<li>The gravitational potential around a point source is $V=-GM/r$ where $M$ is the mass of the point and $r$ is the radius from it. Use what we've seen above to make a plot of the gravitational potential (in MJ/kg) in the solar system between 1 and 50 au.</li>\n",
    "</ol>\n",
    "\n",
    "</div>\n",
    "\n",
    "</section>\n"
   ]
  },
  {
   "cell_type": "code",
   "execution_count": 31,
   "metadata": {},
   "outputs": [],
   "source": [
    "from astropy import constants as const"
   ]
  },
  {
   "cell_type": "code",
   "execution_count": 20,
   "metadata": {},
   "outputs": [
    {
     "data": {
      "text/latex": [
       "$[1,~1.049049,~1.0980981,~\\dots,~49.901902,~49.950951,~50] \\; \\mathrm{AU}$"
      ],
      "text/plain": [
       "<Quantity [ 1.        ,  1.04904905,  1.0980981 ,  1.14714715,  1.1961962 ,\n",
       "            1.24524525,  1.29429429,  1.34334334,  1.39239239,  1.44144144,\n",
       "            1.49049049,  1.53953954,  1.58858859,  1.63763764,  1.68668669,\n",
       "            1.73573574,  1.78478478,  1.83383383,  1.88288288,  1.93193193,\n",
       "            1.98098098,  2.03003003,  2.07907908,  2.12812813,  2.17717718,\n",
       "            2.22622623,  2.27527528,  2.32432432,  2.37337337,  2.42242242,\n",
       "            2.47147147,  2.52052052,  2.56956957,  2.61861862,  2.66766767,\n",
       "            2.71671672,  2.76576577,  2.81481481,  2.86386386,  2.91291291,\n",
       "            2.96196196,  3.01101101,  3.06006006,  3.10910911,  3.15815816,\n",
       "            3.20720721,  3.25625626,  3.30530531,  3.35435435,  3.4034034 ,\n",
       "            3.45245245,  3.5015015 ,  3.55055055,  3.5995996 ,  3.64864865,\n",
       "            3.6976977 ,  3.74674675,  3.7957958 ,  3.84484484,  3.89389389,\n",
       "            3.94294294,  3.99199199,  4.04104104,  4.09009009,  4.13913914,\n",
       "            4.18818819,  4.23723724,  4.28628629,  4.33533534,  4.38438438,\n",
       "            4.43343343,  4.48248248,  4.53153153,  4.58058058,  4.62962963,\n",
       "            4.67867868,  4.72772773,  4.77677678,  4.82582583,  4.87487487,\n",
       "            4.92392392,  4.97297297,  5.02202202,  5.07107107,  5.12012012,\n",
       "            5.16916917,  5.21821822,  5.26726727,  5.31631632,  5.36536537,\n",
       "            5.41441441,  5.46346346,  5.51251251,  5.56156156,  5.61061061,\n",
       "            5.65965966,  5.70870871,  5.75775776,  5.80680681,  5.85585586,\n",
       "            5.9049049 ,  5.95395395,  6.003003  ,  6.05205205,  6.1011011 ,\n",
       "            6.15015015,  6.1991992 ,  6.24824825,  6.2972973 ,  6.34634635,\n",
       "            6.3953954 ,  6.44444444,  6.49349349,  6.54254254,  6.59159159,\n",
       "            6.64064064,  6.68968969,  6.73873874,  6.78778779,  6.83683684,\n",
       "            6.88588589,  6.93493493,  6.98398398,  7.03303303,  7.08208208,\n",
       "            7.13113113,  7.18018018,  7.22922923,  7.27827828,  7.32732733,\n",
       "            7.37637638,  7.42542543,  7.47447447,  7.52352352,  7.57257257,\n",
       "            7.62162162,  7.67067067,  7.71971972,  7.76876877,  7.81781782,\n",
       "            7.86686687,  7.91591592,  7.96496496,  8.01401401,  8.06306306,\n",
       "            8.11211211,  8.16116116,  8.21021021,  8.25925926,  8.30830831,\n",
       "            8.35735736,  8.40640641,  8.45545546,  8.5045045 ,  8.55355355,\n",
       "            8.6026026 ,  8.65165165,  8.7007007 ,  8.74974975,  8.7987988 ,\n",
       "            8.84784785,  8.8968969 ,  8.94594595,  8.99499499,  9.04404404,\n",
       "            9.09309309,  9.14214214,  9.19119119,  9.24024024,  9.28928929,\n",
       "            9.33833834,  9.38738739,  9.43643644,  9.48548549,  9.53453453,\n",
       "            9.58358358,  9.63263263,  9.68168168,  9.73073073,  9.77977978,\n",
       "            9.82882883,  9.87787788,  9.92692693,  9.97597598, 10.02502503,\n",
       "           10.07407407, 10.12312312, 10.17217217, 10.22122122, 10.27027027,\n",
       "           10.31931932, 10.36836837, 10.41741742, 10.46646647, 10.51551552,\n",
       "           10.56456456, 10.61361361, 10.66266266, 10.71171171, 10.76076076,\n",
       "           10.80980981, 10.85885886, 10.90790791, 10.95695696, 11.00600601,\n",
       "           11.05505506, 11.1041041 , 11.15315315, 11.2022022 , 11.25125125,\n",
       "           11.3003003 , 11.34934935, 11.3983984 , 11.44744745, 11.4964965 ,\n",
       "           11.54554555, 11.59459459, 11.64364364, 11.69269269, 11.74174174,\n",
       "           11.79079079, 11.83983984, 11.88888889, 11.93793794, 11.98698699,\n",
       "           12.03603604, 12.08508509, 12.13413413, 12.18318318, 12.23223223,\n",
       "           12.28128128, 12.33033033, 12.37937938, 12.42842843, 12.47747748,\n",
       "           12.52652653, 12.57557558, 12.62462462, 12.67367367, 12.72272272,\n",
       "           12.77177177, 12.82082082, 12.86986987, 12.91891892, 12.96796797,\n",
       "           13.01701702, 13.06606607, 13.11511512, 13.16416416, 13.21321321,\n",
       "           13.26226226, 13.31131131, 13.36036036, 13.40940941, 13.45845846,\n",
       "           13.50750751, 13.55655656, 13.60560561, 13.65465465, 13.7037037 ,\n",
       "           13.75275275, 13.8018018 , 13.85085085, 13.8998999 , 13.94894895,\n",
       "           13.997998  , 14.04704705, 14.0960961 , 14.14514515, 14.19419419,\n",
       "           14.24324324, 14.29229229, 14.34134134, 14.39039039, 14.43943944,\n",
       "           14.48848849, 14.53753754, 14.58658659, 14.63563564, 14.68468468,\n",
       "           14.73373373, 14.78278278, 14.83183183, 14.88088088, 14.92992993,\n",
       "           14.97897898, 15.02802803, 15.07707708, 15.12612613, 15.17517518,\n",
       "           15.22422422, 15.27327327, 15.32232232, 15.37137137, 15.42042042,\n",
       "           15.46946947, 15.51851852, 15.56756757, 15.61661662, 15.66566567,\n",
       "           15.71471471, 15.76376376, 15.81281281, 15.86186186, 15.91091091,\n",
       "           15.95995996, 16.00900901, 16.05805806, 16.10710711, 16.15615616,\n",
       "           16.20520521, 16.25425425, 16.3033033 , 16.35235235, 16.4014014 ,\n",
       "           16.45045045, 16.4994995 , 16.54854855, 16.5975976 , 16.64664665,\n",
       "           16.6956957 , 16.74474474, 16.79379379, 16.84284284, 16.89189189,\n",
       "           16.94094094, 16.98998999, 17.03903904, 17.08808809, 17.13713714,\n",
       "           17.18618619, 17.23523524, 17.28428428, 17.33333333, 17.38238238,\n",
       "           17.43143143, 17.48048048, 17.52952953, 17.57857858, 17.62762763,\n",
       "           17.67667668, 17.72572573, 17.77477477, 17.82382382, 17.87287287,\n",
       "           17.92192192, 17.97097097, 18.02002002, 18.06906907, 18.11811812,\n",
       "           18.16716717, 18.21621622, 18.26526527, 18.31431431, 18.36336336,\n",
       "           18.41241241, 18.46146146, 18.51051051, 18.55955956, 18.60860861,\n",
       "           18.65765766, 18.70670671, 18.75575576, 18.8048048 , 18.85385385,\n",
       "           18.9029029 , 18.95195195, 19.001001  , 19.05005005, 19.0990991 ,\n",
       "           19.14814815, 19.1971972 , 19.24624625, 19.2952953 , 19.34434434,\n",
       "           19.39339339, 19.44244244, 19.49149149, 19.54054054, 19.58958959,\n",
       "           19.63863864, 19.68768769, 19.73673674, 19.78578579, 19.83483483,\n",
       "           19.88388388, 19.93293293, 19.98198198, 20.03103103, 20.08008008,\n",
       "           20.12912913, 20.17817818, 20.22722723, 20.27627628, 20.32532533,\n",
       "           20.37437437, 20.42342342, 20.47247247, 20.52152152, 20.57057057,\n",
       "           20.61961962, 20.66866867, 20.71771772, 20.76676677, 20.81581582,\n",
       "           20.86486486, 20.91391391, 20.96296296, 21.01201201, 21.06106106,\n",
       "           21.11011011, 21.15915916, 21.20820821, 21.25725726, 21.30630631,\n",
       "           21.35535536, 21.4044044 , 21.45345345, 21.5025025 , 21.55155155,\n",
       "           21.6006006 , 21.64964965, 21.6986987 , 21.74774775, 21.7967968 ,\n",
       "           21.84584585, 21.89489489, 21.94394394, 21.99299299, 22.04204204,\n",
       "           22.09109109, 22.14014014, 22.18918919, 22.23823824, 22.28728729,\n",
       "           22.33633634, 22.38538539, 22.43443443, 22.48348348, 22.53253253,\n",
       "           22.58158158, 22.63063063, 22.67967968, 22.72872873, 22.77777778,\n",
       "           22.82682683, 22.87587588, 22.92492492, 22.97397397, 23.02302302,\n",
       "           23.07207207, 23.12112112, 23.17017017, 23.21921922, 23.26826827,\n",
       "           23.31731732, 23.36636637, 23.41541542, 23.46446446, 23.51351351,\n",
       "           23.56256256, 23.61161161, 23.66066066, 23.70970971, 23.75875876,\n",
       "           23.80780781, 23.85685686, 23.90590591, 23.95495495, 24.004004  ,\n",
       "           24.05305305, 24.1021021 , 24.15115115, 24.2002002 , 24.24924925,\n",
       "           24.2982983 , 24.34734735, 24.3963964 , 24.44544545, 24.49449449,\n",
       "           24.54354354, 24.59259259, 24.64164164, 24.69069069, 24.73973974,\n",
       "           24.78878879, 24.83783784, 24.88688689, 24.93593594, 24.98498498,\n",
       "           25.03403403, 25.08308308, 25.13213213, 25.18118118, 25.23023023,\n",
       "           25.27927928, 25.32832833, 25.37737738, 25.42642643, 25.47547548,\n",
       "           25.52452452, 25.57357357, 25.62262262, 25.67167167, 25.72072072,\n",
       "           25.76976977, 25.81881882, 25.86786787, 25.91691692, 25.96596597,\n",
       "           26.01501502, 26.06406406, 26.11311311, 26.16216216, 26.21121121,\n",
       "           26.26026026, 26.30930931, 26.35835836, 26.40740741, 26.45645646,\n",
       "           26.50550551, 26.55455455, 26.6036036 , 26.65265265, 26.7017017 ,\n",
       "           26.75075075, 26.7997998 , 26.84884885, 26.8978979 , 26.94694695,\n",
       "           26.995996  , 27.04504505, 27.09409409, 27.14314314, 27.19219219,\n",
       "           27.24124124, 27.29029029, 27.33933934, 27.38838839, 27.43743744,\n",
       "           27.48648649, 27.53553554, 27.58458458, 27.63363363, 27.68268268,\n",
       "           27.73173173, 27.78078078, 27.82982983, 27.87887888, 27.92792793,\n",
       "           27.97697698, 28.02602603, 28.07507508, 28.12412412, 28.17317317,\n",
       "           28.22222222, 28.27127127, 28.32032032, 28.36936937, 28.41841842,\n",
       "           28.46746747, 28.51651652, 28.56556557, 28.61461461, 28.66366366,\n",
       "           28.71271271, 28.76176176, 28.81081081, 28.85985986, 28.90890891,\n",
       "           28.95795796, 29.00700701, 29.05605606, 29.10510511, 29.15415415,\n",
       "           29.2032032 , 29.25225225, 29.3013013 , 29.35035035, 29.3993994 ,\n",
       "           29.44844845, 29.4974975 , 29.54654655, 29.5955956 , 29.64464464,\n",
       "           29.69369369, 29.74274274, 29.79179179, 29.84084084, 29.88988989,\n",
       "           29.93893894, 29.98798799, 30.03703704, 30.08608609, 30.13513514,\n",
       "           30.18418418, 30.23323323, 30.28228228, 30.33133133, 30.38038038,\n",
       "           30.42942943, 30.47847848, 30.52752753, 30.57657658, 30.62562563,\n",
       "           30.67467467, 30.72372372, 30.77277277, 30.82182182, 30.87087087,\n",
       "           30.91991992, 30.96896897, 31.01801802, 31.06706707, 31.11611612,\n",
       "           31.16516517, 31.21421421, 31.26326326, 31.31231231, 31.36136136,\n",
       "           31.41041041, 31.45945946, 31.50850851, 31.55755756, 31.60660661,\n",
       "           31.65565566, 31.7047047 , 31.75375375, 31.8028028 , 31.85185185,\n",
       "           31.9009009 , 31.94994995, 31.998999  , 32.04804805, 32.0970971 ,\n",
       "           32.14614615, 32.1951952 , 32.24424424, 32.29329329, 32.34234234,\n",
       "           32.39139139, 32.44044044, 32.48948949, 32.53853854, 32.58758759,\n",
       "           32.63663664, 32.68568569, 32.73473473, 32.78378378, 32.83283283,\n",
       "           32.88188188, 32.93093093, 32.97997998, 33.02902903, 33.07807808,\n",
       "           33.12712713, 33.17617618, 33.22522523, 33.27427427, 33.32332332,\n",
       "           33.37237237, 33.42142142, 33.47047047, 33.51951952, 33.56856857,\n",
       "           33.61761762, 33.66666667, 33.71571572, 33.76476476, 33.81381381,\n",
       "           33.86286286, 33.91191191, 33.96096096, 34.01001001, 34.05905906,\n",
       "           34.10810811, 34.15715716, 34.20620621, 34.25525526, 34.3043043 ,\n",
       "           34.35335335, 34.4024024 , 34.45145145, 34.5005005 , 34.54954955,\n",
       "           34.5985986 , 34.64764765, 34.6966967 , 34.74574575, 34.79479479,\n",
       "           34.84384384, 34.89289289, 34.94194194, 34.99099099, 35.04004004,\n",
       "           35.08908909, 35.13813814, 35.18718719, 35.23623624, 35.28528529,\n",
       "           35.33433433, 35.38338338, 35.43243243, 35.48148148, 35.53053053,\n",
       "           35.57957958, 35.62862863, 35.67767768, 35.72672673, 35.77577578,\n",
       "           35.82482482, 35.87387387, 35.92292292, 35.97197197, 36.02102102,\n",
       "           36.07007007, 36.11911912, 36.16816817, 36.21721722, 36.26626627,\n",
       "           36.31531532, 36.36436436, 36.41341341, 36.46246246, 36.51151151,\n",
       "           36.56056056, 36.60960961, 36.65865866, 36.70770771, 36.75675676,\n",
       "           36.80580581, 36.85485485, 36.9039039 , 36.95295295, 37.002002  ,\n",
       "           37.05105105, 37.1001001 , 37.14914915, 37.1981982 , 37.24724725,\n",
       "           37.2962963 , 37.34534535, 37.39439439, 37.44344344, 37.49249249,\n",
       "           37.54154154, 37.59059059, 37.63963964, 37.68868869, 37.73773774,\n",
       "           37.78678679, 37.83583584, 37.88488488, 37.93393393, 37.98298298,\n",
       "           38.03203203, 38.08108108, 38.13013013, 38.17917918, 38.22822823,\n",
       "           38.27727728, 38.32632633, 38.37537538, 38.42442442, 38.47347347,\n",
       "           38.52252252, 38.57157157, 38.62062062, 38.66966967, 38.71871872,\n",
       "           38.76776777, 38.81681682, 38.86586587, 38.91491491, 38.96396396,\n",
       "           39.01301301, 39.06206206, 39.11111111, 39.16016016, 39.20920921,\n",
       "           39.25825826, 39.30730731, 39.35635636, 39.40540541, 39.45445445,\n",
       "           39.5035035 , 39.55255255, 39.6016016 , 39.65065065, 39.6996997 ,\n",
       "           39.74874875, 39.7977978 , 39.84684685, 39.8958959 , 39.94494494,\n",
       "           39.99399399, 40.04304304, 40.09209209, 40.14114114, 40.19019019,\n",
       "           40.23923924, 40.28828829, 40.33733734, 40.38638639, 40.43543544,\n",
       "           40.48448448, 40.53353353, 40.58258258, 40.63163163, 40.68068068,\n",
       "           40.72972973, 40.77877878, 40.82782783, 40.87687688, 40.92592593,\n",
       "           40.97497497, 41.02402402, 41.07307307, 41.12212212, 41.17117117,\n",
       "           41.22022022, 41.26926927, 41.31831832, 41.36736737, 41.41641642,\n",
       "           41.46546547, 41.51451451, 41.56356356, 41.61261261, 41.66166166,\n",
       "           41.71071071, 41.75975976, 41.80880881, 41.85785786, 41.90690691,\n",
       "           41.95595596, 42.00500501, 42.05405405, 42.1031031 , 42.15215215,\n",
       "           42.2012012 , 42.25025025, 42.2992993 , 42.34834835, 42.3973974 ,\n",
       "           42.44644645, 42.4954955 , 42.54454454, 42.59359359, 42.64264264,\n",
       "           42.69169169, 42.74074074, 42.78978979, 42.83883884, 42.88788789,\n",
       "           42.93693694, 42.98598599, 43.03503504, 43.08408408, 43.13313313,\n",
       "           43.18218218, 43.23123123, 43.28028028, 43.32932933, 43.37837838,\n",
       "           43.42742743, 43.47647648, 43.52552553, 43.57457457, 43.62362362,\n",
       "           43.67267267, 43.72172172, 43.77077077, 43.81981982, 43.86886887,\n",
       "           43.91791792, 43.96696697, 44.01601602, 44.06506507, 44.11411411,\n",
       "           44.16316316, 44.21221221, 44.26126126, 44.31031031, 44.35935936,\n",
       "           44.40840841, 44.45745746, 44.50650651, 44.55555556, 44.6046046 ,\n",
       "           44.65365365, 44.7027027 , 44.75175175, 44.8008008 , 44.84984985,\n",
       "           44.8988989 , 44.94794795, 44.996997  , 45.04604605, 45.0950951 ,\n",
       "           45.14414414, 45.19319319, 45.24224224, 45.29129129, 45.34034034,\n",
       "           45.38938939, 45.43843844, 45.48748749, 45.53653654, 45.58558559,\n",
       "           45.63463463, 45.68368368, 45.73273273, 45.78178178, 45.83083083,\n",
       "           45.87987988, 45.92892893, 45.97797798, 46.02702703, 46.07607608,\n",
       "           46.12512513, 46.17417417, 46.22322322, 46.27227227, 46.32132132,\n",
       "           46.37037037, 46.41941942, 46.46846847, 46.51751752, 46.56656657,\n",
       "           46.61561562, 46.66466466, 46.71371371, 46.76276276, 46.81181181,\n",
       "           46.86086086, 46.90990991, 46.95895896, 47.00800801, 47.05705706,\n",
       "           47.10610611, 47.15515516, 47.2042042 , 47.25325325, 47.3023023 ,\n",
       "           47.35135135, 47.4004004 , 47.44944945, 47.4984985 , 47.54754755,\n",
       "           47.5965966 , 47.64564565, 47.69469469, 47.74374374, 47.79279279,\n",
       "           47.84184184, 47.89089089, 47.93993994, 47.98898899, 48.03803804,\n",
       "           48.08708709, 48.13613614, 48.18518519, 48.23423423, 48.28328328,\n",
       "           48.33233233, 48.38138138, 48.43043043, 48.47947948, 48.52852853,\n",
       "           48.57757758, 48.62662663, 48.67567568, 48.72472472, 48.77377377,\n",
       "           48.82282282, 48.87187187, 48.92092092, 48.96996997, 49.01901902,\n",
       "           49.06806807, 49.11711712, 49.16616617, 49.21521522, 49.26426426,\n",
       "           49.31331331, 49.36236236, 49.41141141, 49.46046046, 49.50950951,\n",
       "           49.55855856, 49.60760761, 49.65665666, 49.70570571, 49.75475475,\n",
       "           49.8038038 , 49.85285285, 49.9019019 , 49.95095095, 50.        ] AU>"
      ]
     },
     "execution_count": 20,
     "metadata": {},
     "output_type": "execute_result"
    }
   ],
   "source": [
    "range = np.linspace(1, 50, 1000)*u.au\n",
    "range"
   ]
  },
  {
   "cell_type": "code",
   "execution_count": 29,
   "metadata": {},
   "outputs": [
    {
     "data": {
      "text/latex": [
       "$1.9884099 \\times 10^{30} \\; \\mathrm{kg}$"
      ],
      "text/plain": [
       "<<class 'astropy.constants.iau2015.IAU2015'> name='Solar mass' value=1.988409870698051e+30 uncertainty=4.468805426856864e+25 unit='kg' reference='IAU 2015 Resolution B 3 + CODATA 2018'>"
      ]
     },
     "execution_count": 29,
     "metadata": {},
     "output_type": "execute_result"
    }
   ],
   "source": [
    "const.M_sun"
   ]
  },
  {
   "cell_type": "code",
   "execution_count": 35,
   "metadata": {},
   "outputs": [
    {
     "data": {
      "text/latex": [
       "$[-887.12787,~-845.64956,~-807.8767,~\\dots,~-17.777436,~-17.75998,~-17.742557] \\; \\mathrm{\\frac{MJ}{kg}}$"
      ],
      "text/plain": [
       "<Quantity [-887.12786739, -845.64956061, -807.87669965, -773.33397864,\n",
       "           -741.62404981, -712.41217003, -685.41433838, -660.38803243,\n",
       "           -637.1249026 , -615.444958  , -595.19190028, -576.22934949,\n",
       "           -558.43776907, -541.71194347, -525.95889586, -511.09615889,\n",
       "           -497.05033063, -483.75586218, -471.15403483, -459.19209302,\n",
       "           -447.82250607, -437.00233704, -426.69270078, -416.85829705,\n",
       "           -407.46700668, -398.48954115, -389.89913749, -381.67129178,\n",
       "           -373.78352574, -366.21518162, -358.9472416 , -351.9621682 ,\n",
       "           -345.24376296, -338.7770411 , -332.5481199 , -326.5441192 ,\n",
       "           -320.75307257, -315.16384762, -309.76607463, -304.55008231,\n",
       "           -299.50683999, -294.62790543, -289.90537766, -285.33185432,\n",
       "           -280.90039288, -276.60447551, -272.4379771 , -268.39513614,\n",
       "           -264.47052806, -260.65904104, -256.95585373, -253.35641496,\n",
       "           -249.85642501, -246.45181855, -243.13874884, -239.91357323,\n",
       "           -236.77283984, -233.71327519, -230.73177285, -227.82538291,\n",
       "           -224.99130224, -222.22686548, -219.52953667, -216.8969015 ,\n",
       "           -214.3266601 , -211.81662034, -209.36469159, -206.96887892,\n",
       "           -204.62727765, -202.33806838, -200.0995122 , -197.9099463 ,\n",
       "           -195.76777988, -193.67149028, -191.61961936, -189.61077012,\n",
       "           -187.64360354, -185.71683561, -183.8292345 , -181.97961797,\n",
       "           -180.16685089, -178.3898429 , -176.64754625, -174.93895372,\n",
       "           -173.26309668, -171.61904328, -170.0058967 , -168.42279352,\n",
       "           -166.86890219, -165.34342155, -163.8455795 , -162.37463165,\n",
       "           -160.92986009, -159.51057227, -158.11609983, -156.74579758,\n",
       "           -155.39904253, -154.07523288, -152.7737872 , -151.49414351,\n",
       "           -150.23575852, -148.99810685, -147.78068026, -146.58298702,\n",
       "           -145.40455119, -144.24491203, -143.10362337, -141.98025305,\n",
       "           -140.87438238, -139.7856056 , -138.71352943, -137.65777253,\n",
       "           -136.61796509, -135.5937484 , -134.58477441, -133.59070538,\n",
       "           -132.61121346, -131.64598032, -130.69469688, -129.75706289,\n",
       "           -128.83278667, -127.9215848 , -127.02318181, -126.13730992,\n",
       "           -125.26370877, -124.40212514, -123.55231277, -122.71403206,\n",
       "           -121.88704986, -121.07113928, -120.26607946, -119.47165537,\n",
       "           -118.68765763, -117.91388232, -117.1501308 , -116.39620955,\n",
       "           -115.65192999, -114.91710834, -114.19156546, -113.4751267 ,\n",
       "           -112.76762177, -112.06888461, -111.37875324, -110.69706964,\n",
       "           -110.02367964, -109.35843281, -108.70118233, -108.05178487,\n",
       "           -107.41010054, -106.77599271, -106.14932801, -105.52997613,\n",
       "           -104.91780982, -104.31270475, -103.71453944, -103.1231952 ,\n",
       "           -102.538556  , -101.96050846, -101.38894171, -100.82374739,\n",
       "           -100.2648195 ,  -99.7120544 ,  -99.16535074,  -98.62460934,\n",
       "            -98.08973321,  -97.56062742,  -97.03719912,  -96.51935739,\n",
       "            -96.00701327,  -95.50007969,  -94.99847138,  -94.50210488,\n",
       "            -94.01089843,  -93.52477201,  -93.04364719,  -92.5674472 ,\n",
       "            -92.0960968 ,  -91.62952228,  -91.16765143,  -90.71041346,\n",
       "            -90.25773903,  -89.80956015,  -89.36581018,  -88.92642379,\n",
       "            -88.49133695,  -88.06048684,  -87.63381188,  -87.21125168,\n",
       "            -86.79274699,  -86.37823972,  -85.96767286,  -85.56099049,\n",
       "            -85.15813775,  -84.75906078,  -84.36370676,  -83.97202383,\n",
       "            -83.5839611 ,  -83.1994686 ,  -82.81849729,  -82.44099903,\n",
       "            -82.06692652,  -81.69623336,  -81.32887396,  -80.96480354,\n",
       "            -80.60397813,  -80.24635454,  -79.89189034,  -79.54054385,\n",
       "            -79.19227411,  -78.84704088,  -78.50480463,  -78.16552651,\n",
       "            -77.82916831,  -77.49569251,  -77.16506221,  -76.83724116,\n",
       "            -76.51219369,  -76.18988476,  -75.8702799 ,  -75.55334523,\n",
       "            -75.23904742,  -74.9273537 ,  -74.61823184,  -74.31165014,\n",
       "            -74.00757741,  -73.70598299,  -73.4068367 ,  -73.11010885,\n",
       "            -72.81577023,  -72.5237921 ,  -72.23414618,  -71.94680464,\n",
       "            -71.66174008,  -71.37892554,  -71.0983345 ,  -70.81994083,\n",
       "            -70.54371882,  -70.26964316,  -69.99768893,  -69.72783159,\n",
       "            -69.46004699,  -69.19431133,  -68.93060119,  -68.6688935 ,\n",
       "            -68.40916554,  -68.15139492,  -67.8955596 ,  -67.64163788,\n",
       "            -67.38960836,  -67.13944996,  -66.89114194,  -66.64466382,\n",
       "            -66.39999547,  -66.15711701,  -65.91600889,  -65.67665181,\n",
       "            -65.43902677,  -65.20311503,  -64.96889814,  -64.73635789,\n",
       "            -64.50547635,  -64.27623582,  -64.04861889,  -63.82260835,\n",
       "            -63.59818726,  -63.37533892,  -63.15404686,  -62.93429481,\n",
       "            -62.71606677,  -62.49934693,  -62.28411972,  -62.07036977,\n",
       "            -61.85808191,  -61.6472412 ,  -61.4378329 ,  -61.22984244,\n",
       "            -61.02325549,  -60.81805789,  -60.61423566,  -60.41177502,\n",
       "            -60.21066238,  -60.01088431,  -59.81242758,  -59.61527913,\n",
       "            -59.41942605,  -59.22485562,  -59.03155529,  -58.83951265,\n",
       "            -58.64871547,  -58.45915168,  -58.27080936,  -58.08367673,\n",
       "            -57.89774218,  -57.71299424,  -57.52942159,  -57.34701304,\n",
       "            -57.16575756,  -56.98564426,  -56.80666236,  -56.62880125,\n",
       "            -56.45205042,  -56.27639951,  -56.10183829,  -55.92835665,\n",
       "            -55.75594461,  -55.58459229,  -55.41428997,  -55.24502802,\n",
       "            -55.07679694,  -54.90958733,  -54.74338993,  -54.57819556,\n",
       "            -54.41399518,  -54.25077984,  -54.08854071,  -53.92726905,\n",
       "            -53.76695623,  -53.60759373,  -53.44917312,  -53.29168608,\n",
       "            -53.13512438,  -52.97947989,  -52.82474456,  -52.67091047,\n",
       "            -52.51796975,  -52.36591465,  -52.2147375 ,  -52.06443071,\n",
       "            -51.91498679,  -51.76639834,  -51.61865802,  -51.4717586 ,\n",
       "            -51.32569291,  -51.18045389,  -51.03603452,  -50.8924279 ,\n",
       "            -50.74962718,  -50.6076256 ,  -50.46641646,  -50.32599316,\n",
       "            -50.18634914,  -50.04747795,  -49.90937318,  -49.7720285 ,\n",
       "            -49.63543767,  -49.49959448,  -49.36449282,  -49.23012663,\n",
       "            -49.09648992,  -48.96357677,  -48.83138132,  -48.69989776,\n",
       "            -48.56912038,  -48.43904348,  -48.30966146,  -48.18096877,\n",
       "            -48.0529599 ,  -47.92562944,  -47.79897198,  -47.67298222,\n",
       "            -47.54765489,  -47.42298478,  -47.29896672,  -47.17559563,\n",
       "            -47.05286645,  -46.93077418,  -46.80931387,  -46.68848064,\n",
       "            -46.56826964,  -46.44867608,  -46.3296952 ,  -46.21132232,\n",
       "            -46.09355279,  -45.976382  ,  -45.85980541,  -45.74381849,\n",
       "            -45.6284168 ,  -45.51359591,  -45.39935144,  -45.28567908,\n",
       "            -45.17257452,  -45.06003353,  -44.94805191,  -44.83662549,\n",
       "            -44.72575017,  -44.61542184,  -44.50563649,  -44.39639012,\n",
       "            -44.28767875,  -44.17949848,  -44.07184542,  -43.96471572,\n",
       "            -43.85810558,  -43.75201123,  -43.64642893,  -43.54135499,\n",
       "            -43.43678574,  -43.33271756,  -43.22914685,  -43.12607005,\n",
       "            -43.02348364,  -42.92138413,  -42.81976806,  -42.718632  ,\n",
       "            -42.61797257,  -42.51778639,  -42.41807014,  -42.31882053,\n",
       "            -42.22003428,  -42.12170815,  -42.02383895,  -41.92642348,\n",
       "            -41.82945861,  -41.73294121,  -41.63686819,  -41.5412365 ,\n",
       "            -41.4460431 ,  -41.35128497,  -41.25695915,  -41.16306268,\n",
       "            -41.06959264,  -40.97654612,  -40.88392026,  -40.79171221,\n",
       "            -40.69991915,  -40.60853828,  -40.51756684,  -40.42700208,\n",
       "            -40.33684127,  -40.24708172,  -40.15772076,  -40.06875574,\n",
       "            -39.98018404,  -39.89200304,  -39.80421017,  -39.71680288,\n",
       "            -39.62977863,  -39.54313491,  -39.45686922,  -39.3709791 ,\n",
       "            -39.2854621 ,  -39.2003158 ,  -39.11553778,  -39.03112567,\n",
       "            -38.9470771 ,  -38.86338974,  -38.78006124,  -38.69708932,\n",
       "            -38.61447168,  -38.53220607,  -38.45029023,  -38.36872195,\n",
       "            -38.28749901,  -38.20661922,  -38.12608043,  -38.04588046,\n",
       "            -37.9660172 ,  -37.88648852,  -37.80729233,  -37.72842654,\n",
       "            -37.6498891 ,  -37.57167795,  -37.49379107,  -37.41622644,\n",
       "            -37.33898207,  -37.26205598,  -37.18544621,  -37.1091508 ,\n",
       "            -37.03316784,  -36.95749539,  -36.88213157,  -36.80707449,\n",
       "            -36.73232227,  -36.65787308,  -36.58372506,  -36.50987639,\n",
       "            -36.43632527,  -36.3630699 ,  -36.29010849,  -36.21743929,\n",
       "            -36.14506055,  -36.07297051,  -36.00116747,  -35.9296497 ,\n",
       "            -35.85841552,  -35.78746323,  -35.71679118,  -35.6463977 ,\n",
       "            -35.57628114,  -35.50643988,  -35.43687231,  -35.3675768 ,\n",
       "            -35.29855178,  -35.22979566,  -35.16130686,  -35.09308385,\n",
       "            -35.02512507,  -34.95742898,  -34.88999408,  -34.82281884,\n",
       "            -34.75590178,  -34.68924141,  -34.62283625,  -34.55668484,\n",
       "            -34.49078574,  -34.42513749,  -34.35973867,  -34.29458786,\n",
       "            -34.22968366,  -34.16502465,  -34.10060947,  -34.03643673,\n",
       "            -33.97250506,  -33.90881311,  -33.84535954,  -33.782143  ,\n",
       "            -33.71916218,  -33.65641575,  -33.59390241,  -33.53162087,\n",
       "            -33.46956983,  -33.40774802,  -33.34615418,  -33.28478703,\n",
       "            -33.22364534,  -33.16272787,  -33.10203337,  -33.04156064,\n",
       "            -32.98130846,  -32.92127561,  -32.86146092,  -32.80186318,\n",
       "            -32.74248123,  -32.68331389,  -32.62436   ,  -32.56561841,\n",
       "            -32.50708798,  -32.44876756,  -32.39065603,  -32.33275226,\n",
       "            -32.27505516,  -32.2175636 ,  -32.1602765 ,  -32.10319277,\n",
       "            -32.04631132,  -31.98963108,  -31.93315099,  -31.87686999,\n",
       "            -31.82078703,  -31.76490106,  -31.70921105,  -31.65371596,\n",
       "            -31.59841479,  -31.5433065 ,  -31.48839011,  -31.43366459,\n",
       "            -31.37912897,  -31.32478225,  -31.27062346,  -31.21665162,\n",
       "            -31.16286577,  -31.10926494,  -31.05584818,  -31.00261455,\n",
       "            -30.94956311,  -30.89669291,  -30.84400305,  -30.79149258,\n",
       "            -30.73916061,  -30.68700622,  -30.6350285 ,  -30.58322657,\n",
       "            -30.53159953,  -30.4801465 ,  -30.42886659,  -30.37775895,\n",
       "            -30.32682269,  -30.27605697,  -30.22546092,  -30.17503369,\n",
       "            -30.12477445,  -30.07468235,  -30.02475656,  -29.97499626,\n",
       "            -29.92540063,  -29.87596883,  -29.82670008,  -29.77759356,\n",
       "            -29.72864847,  -29.67986402,  -29.63123941,  -29.58277387,\n",
       "            -29.53446661,  -29.48631686,  -29.43832385,  -29.39048682,\n",
       "            -29.342805  ,  -29.29527765,  -29.24790401,  -29.20068335,\n",
       "            -29.15361491,  -29.10669796,  -29.05993178,  -29.01331564,\n",
       "            -28.96684882,  -28.92053059,  -28.87436026,  -28.82833711,\n",
       "            -28.78246044,  -28.73672956,  -28.69114376,  -28.64570236,\n",
       "            -28.60040467,  -28.55525002,  -28.51023772,  -28.46536711,\n",
       "            -28.42063751,  -28.37604827,  -28.33159872,  -28.28728821,\n",
       "            -28.24311608,  -28.1990817 ,  -28.15518441,  -28.11142357,\n",
       "            -28.06779856,  -28.02430874,  -27.98095348,  -27.93773216,\n",
       "            -27.89464416,  -27.85168886,  -27.80886565,  -27.76617393,\n",
       "            -27.72361309,  -27.68118252,  -27.63888163,  -27.59670983,\n",
       "            -27.55466653,  -27.51275113,  -27.47096307,  -27.42930175,\n",
       "            -27.3877666 ,  -27.34635706,  -27.30507254,  -27.26391249,\n",
       "            -27.22287635,  -27.18196355,  -27.14117354,  -27.10050576,\n",
       "            -27.05995968,  -27.01953474,  -26.9792304 ,  -26.93904613,\n",
       "            -26.89898138,  -26.85903563,  -26.81920834,  -26.77949899,\n",
       "            -26.73990705,  -26.70043202,  -26.66107336,  -26.62183057,\n",
       "            -26.58270313,  -26.54369053,  -26.50479228,  -26.46600787,\n",
       "            -26.4273368 ,  -26.38877857,  -26.35033269,  -26.31199868,\n",
       "            -26.27377604,  -26.23566428,  -26.19766294,  -26.15977152,\n",
       "            -26.12198955,  -26.08431656,  -26.04675208,  -26.00929564,\n",
       "            -25.97194677,  -25.93470501,  -25.8975699 ,  -25.86054098,\n",
       "            -25.82361781,  -25.78679992,  -25.75008686,  -25.7134782 ,\n",
       "            -25.67697348,  -25.64057226,  -25.6042741 ,  -25.56807857,\n",
       "            -25.53198524,  -25.49599366,  -25.46010341,  -25.42431406,\n",
       "            -25.38862519,  -25.35303637,  -25.31754719,  -25.28215723,\n",
       "            -25.24686607,  -25.21167329,  -25.17657849,  -25.14158126,\n",
       "            -25.1066812 ,  -25.07187789,  -25.03717093,  -25.00255994,\n",
       "            -24.9680445 ,  -24.93362423,  -24.89929873,  -24.8650676 ,\n",
       "            -24.83093047,  -24.79688695,  -24.76293664,  -24.72907918,\n",
       "            -24.69531417,  -24.66164124,  -24.62806001,  -24.59457011,\n",
       "            -24.56117118,  -24.52786282,  -24.49464469,  -24.46151641,\n",
       "            -24.42847762,  -24.39552795,  -24.36266706,  -24.32989457,\n",
       "            -24.29721013,  -24.26461339,  -24.232104  ,  -24.1996816 ,\n",
       "            -24.16734585,  -24.13509639,  -24.10293289,  -24.070855  ,\n",
       "            -24.03886238,  -24.0069547 ,  -23.9751316 ,  -23.94339276,\n",
       "            -23.91173784,  -23.88016651,  -23.84867844,  -23.8172733 ,\n",
       "            -23.78595076,  -23.75471051,  -23.7235522 ,  -23.69247553,\n",
       "            -23.66148016,  -23.63056579,  -23.5997321 ,  -23.56897876,\n",
       "            -23.53830548,  -23.50771192,  -23.47719779,  -23.44676278,\n",
       "            -23.41640657,  -23.38612887,  -23.35592936,  -23.32580775,\n",
       "            -23.29576373,  -23.26579701,  -23.23590728,  -23.20609425,\n",
       "            -23.17635763,  -23.14669712,  -23.11711244,  -23.08760328,\n",
       "            -23.05816936,  -23.0288104 ,  -22.99952611,  -22.9703162 ,\n",
       "            -22.94118039,  -22.9121184 ,  -22.88312994,  -22.85421475,\n",
       "            -22.82537254,  -22.79660303,  -22.76790596,  -22.73928105,\n",
       "            -22.71072802,  -22.68224661,  -22.65383655,  -22.62549756,\n",
       "            -22.59722939,  -22.56903177,  -22.54090443,  -22.51284711,\n",
       "            -22.48485956,  -22.4569415 ,  -22.42909269,  -22.40131286,\n",
       "            -22.37360177,  -22.34595914,  -22.31838474,  -22.2908783 ,\n",
       "            -22.26343958,  -22.23606833,  -22.2087643 ,  -22.18152724,\n",
       "            -22.15435691,  -22.12725306,  -22.10021544,  -22.07324382,\n",
       "            -22.04633796,  -22.0194976 ,  -21.99272252,  -21.96601248,\n",
       "            -21.93936724,  -21.91278656,  -21.88627021,  -21.85981795,\n",
       "            -21.83342957,  -21.80710481,  -21.78084346,  -21.75464528,\n",
       "            -21.72851005,  -21.70243754,  -21.67642753,  -21.65047979,\n",
       "            -21.62459409,  -21.59877022,  -21.57300795,  -21.54730706,\n",
       "            -21.52166734,  -21.49608857,  -21.47057052,  -21.44511299,\n",
       "            -21.41971576,  -21.39437861,  -21.36910133,  -21.34388371,\n",
       "            -21.31872554,  -21.29362661,  -21.26858671,  -21.24360563,\n",
       "            -21.21868316,  -21.1938191 ,  -21.16901325,  -21.14426539,\n",
       "            -21.11957533,  -21.09494286,  -21.07036779,  -21.04584991,\n",
       "            -21.02138902,  -20.99698492,  -20.97263742,  -20.94834632,\n",
       "            -20.92411143,  -20.89993254,  -20.87580947,  -20.85174202,\n",
       "            -20.82773001,  -20.80377323,  -20.7798715 ,  -20.75602463,\n",
       "            -20.73223243,  -20.70849471,  -20.68481129,  -20.66118197,\n",
       "            -20.63760658,  -20.61408493,  -20.59061684,  -20.56720212,\n",
       "            -20.5438406 ,  -20.52053208,  -20.4972764 ,  -20.47407336,\n",
       "            -20.4509228 ,  -20.42782453,  -20.40477838,  -20.38178418,\n",
       "            -20.35884173,  -20.33595088,  -20.31311145,  -20.29032326,\n",
       "            -20.26758615,  -20.24489993,  -20.22226445,  -20.19967953,\n",
       "            -20.17714499,  -20.15466068,  -20.13222643,  -20.10984206,\n",
       "            -20.08750741,  -20.06522232,  -20.04298662,  -20.02080015,\n",
       "            -19.99866274,  -19.97657424,  -19.95453447,  -19.93254328,\n",
       "            -19.91060051,  -19.888706  ,  -19.86685959,  -19.84506112,\n",
       "            -19.82331043,  -19.80160737,  -19.77995178,  -19.7583435 ,\n",
       "            -19.73678239,  -19.71526828,  -19.69380102,  -19.67238046,\n",
       "            -19.65100644,  -19.62967882,  -19.60839745,  -19.58716217,\n",
       "            -19.56597283,  -19.54482929,  -19.5237314 ,  -19.50267901,\n",
       "            -19.48167197,  -19.46071013,  -19.43979336,  -19.4189215 ,\n",
       "            -19.39809441,  -19.37731195,  -19.35657398,  -19.33588034,\n",
       "            -19.3152309 ,  -19.29462552,  -19.27406406,  -19.25354637,\n",
       "            -19.23307232,  -19.21264177,  -19.19225458,  -19.1719106 ,\n",
       "            -19.15160971,  -19.13135177,  -19.11113664,  -19.09096419,\n",
       "            -19.07083427,  -19.05074677,  -19.03070153,  -19.01069843,\n",
       "            -18.99073734,  -18.97081812,  -18.95094065,  -18.93110479,\n",
       "            -18.91131041,  -18.89155737,  -18.87184556,  -18.85217485,\n",
       "            -18.83254509,  -18.81295618,  -18.79340797,  -18.77390034,\n",
       "            -18.75443317,  -18.73500633,  -18.7156197 ,  -18.69627314,\n",
       "            -18.67696654,  -18.65769978,  -18.63847272,  -18.61928525,\n",
       "            -18.60013725,  -18.58102859,  -18.56195915,  -18.54292881,\n",
       "            -18.52393745,  -18.50498496,  -18.4860712 ,  -18.46719607,\n",
       "            -18.44835945,  -18.42956121,  -18.41080124,  -18.39207943,\n",
       "            -18.37339566,  -18.3547498 ,  -18.33614176,  -18.3175714 ,\n",
       "            -18.29903862,  -18.28054331,  -18.26208534,  -18.24366461,\n",
       "            -18.22528101,  -18.20693441,  -18.18862472,  -18.17035182,\n",
       "            -18.15211559,  -18.13391593,  -18.11575273,  -18.09762588,\n",
       "            -18.07953527,  -18.06148079,  -18.04346234,  -18.02547979,\n",
       "            -18.00753306,  -17.98962203,  -17.97174659,  -17.95390664,\n",
       "            -17.93610207,  -17.91833278,  -17.90059867,  -17.88289962,\n",
       "            -17.86523554,  -17.84760632,  -17.83001186,  -17.81245205,\n",
       "            -17.7949268 ,  -17.777436  ,  -17.75997955,  -17.74255735] MJ / kg>"
      ]
     },
     "execution_count": 35,
     "metadata": {},
     "output_type": "execute_result"
    }
   ],
   "source": [
    "pot = -const.G * const.M_sun / range\n",
    "pot.to(u.MJ / u.kg)"
   ]
  },
  {
   "cell_type": "code",
   "execution_count": 38,
   "metadata": {},
   "outputs": [
    {
     "data": {
      "text/plain": [
       "[<matplotlib.lines.Line2D at 0x2a37897d520>]"
      ]
     },
     "execution_count": 38,
     "metadata": {},
     "output_type": "execute_result"
    },
    {
     "data": {
      "image/png": "[encoded data removed]",
      "text/plain": [
       "<Figure size 432x288 with 1 Axes>"
      ]
     },
     "metadata": {
      "needs_background": "light"
     },
     "output_type": "display_data"
    }
   ],
   "source": [
    "plt.plot(range, pot.to(u.MJ / u.kg))"
   ]
  },
  {
   "cell_type": "markdown",
   "metadata": {},
   "source": [
    "<center><i>This notebook was originally written by <a href=\"https://aperiosoftware.com/\">Aperio Software Ltd</a> and modified by Brigitta Sipőcz. &copy; 2019-2021 and is licensed under a <a href=\"https://creativecommons.org/licenses/by/4.0/\">Creative Commons Attribution 4.0 International License (CC BY 4.0)</a></i></center>\n",
    "\n",
    "![cc](https://mirrors.creativecommons.org/presskit/buttons/88x31/svg/by.svg)"
   ]
  },
  {
   "cell_type": "code",
   "execution_count": null,
   "metadata": {},
   "outputs": [],
   "source": []
  }
 ],
 "metadata": {
  "kernelspec": {
   "display_name": "Python 3",
   "language": "python",
   "name": "python3"
  },
  "language_info": {
   "codemirror_mode": {
    "name": "ipython",
    "version": 3
   },
   "file_extension": ".py",
   "mimetype": "text/x-python",
   "name": "python",
   "nbconvert_exporter": "python",
   "pygments_lexer": "ipython3",
   "version": "3.9.3"
  },
  "toc": {
   "base_numbering": 1,
   "nav_menu": {},
   "number_sections": true,
   "sideBar": true,
   "skip_h1_title": false,
   "title_cell": "Table of Contents",
   "title_sidebar": "Contents",
   "toc_cell": false,
   "toc_position": {},
   "toc_section_display": true,
   "toc_window_display": false
  }
 },
 "nbformat": 4,
 "nbformat_minor": 4
}
