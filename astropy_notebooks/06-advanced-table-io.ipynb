{
 "cells": [
  {
   "cell_type": "markdown",
   "metadata": {},
   "source": [
    "# Advanced table access for ASCII and VO Tables\n",
    "\n",
    "In the previous tutorial, we saw how the Table class can be used to read in, write out, and manipulate a variety of table types. For many use cases, this will be sufficient, but in some cases, you may need to access certain file formats at a lower level that is more format-specific. We already saw how to access FITS tables with astropy.io.fits in the FITS tutorial, and here we take a look at the [astropy.io.ascii](https://docs.astropy.org/en/stable/io/ascii/) and [astropy.io.votable](https://docs.astropy.org/en/stable/io/votable/) sub-packages for accessing ASCII tables and VO Tables respectively."
   ]
  },
  {
   "cell_type": "markdown",
   "metadata": {},
   "source": [
    "\n",
    "<section class=\"objectives panel panel-warning\">\n",
    "<div class=\"panel-heading\">\n",
    "<h2><span class=\"fa fa-certificate\"></span> Objectives</h2>\n",
    "</div>\n",
    "\n",
    "\n",
    "<div class=\"panel-body\">\n",
    "\n",
    "<ul>\n",
    "<li>Read ASCII tables with astropy.io.ascii</li>\n",
    "<li>Read VO tables with astropy.io.votable</li>\n",
    "</ul>\n",
    "\n",
    "</div>\n",
    "\n",
    "</section>\n"
   ]
  },
  {
   "cell_type": "markdown",
   "metadata": {},
   "source": [
    "## Documentation\n",
    "\n",
    "This notebook only shows a subset of the functionality in astropy.io.ascii and astropy.io.votable. For more information about the features presented below as well as other available features, you can read the\n",
    "[astropy.io.ascii](https://docs.astropy.org/en/stable/io/ascii/) and the [astropy.io.votable](https://docs.astropy.org/en/stable/io/votable/) documentation."
   ]
  },
  {
   "cell_type": "code",
   "execution_count": 1,
   "metadata": {},
   "outputs": [],
   "source": [
    "%matplotlib inline\n",
    "import matplotlib.pyplot as plt\n",
    "plt.rc('image', origin='lower')\n",
    "plt.rc('figure', figsize=(10, 6))"
   ]
  },
  {
   "cell_type": "markdown",
   "metadata": {},
   "source": [
    "# Accessing ASCII tables\n",
    "\n",
    "The astropy.io.ascii sub-package contains an advanced framework for reading and writing out ASCII tables, and is what is used behind the scenes when reading and writing ASCII tables with the Table class.\n",
    "\n",
    "The main functions are [read](http://docs.astropy.org/en/stable/api/astropy.io.ascii.read.html#astropy.io.ascii.read) and [write](http://docs.astropy.org/en/stable/api/astropy.io.ascii.write.html#astropy.io.ascii.write) which can be imported as:"
   ]
  },
  {
   "cell_type": "code",
   "execution_count": 2,
   "metadata": {},
   "outputs": [],
   "source": [
    "from astropy.io.ascii import read, write"
   ]
  },
  {
   "cell_type": "markdown",
   "metadata": {},
   "source": [
    "although for readability we recommend importing:"
   ]
  },
  {
   "cell_type": "code",
   "execution_count": 3,
   "metadata": {},
   "outputs": [],
   "source": [
    "from astropy.io import ascii"
   ]
  },
  {
   "cell_type": "markdown",
   "metadata": {},
   "source": [
    "and using ``ascii.read`` and ``ascii.write``.\n",
    "\n",
    "Let's take a look at the following example of ASCII table:"
   ]
  },
  {
   "cell_type": "code",
   "execution_count": 4,
   "metadata": {},
   "outputs": [],
   "source": [
    "lines = \"\"\"\n",
    "objID                   & osrcid            & xsrcid       \n",
    "----------------------- & ----------------- & -------------\n",
    "              277955213 & S000.7044P00.7513 & XS04861B6_005\n",
    "              889974380 & S002.9051P14.7003 & XS03957B7_004\n",
    "\"\"\".lstrip()"
   ]
  },
  {
   "cell_type": "markdown",
   "metadata": {},
   "source": [
    "Unlike the Table class, the ``read`` function can be given a string containing the table instead of just a filename (which it also supports). This can come in handy if you want to read/write tables to memory. However, ``read`` is not able to guess the format of the above table correctly:"
   ]
  },
  {
   "cell_type": "code",
   "execution_count": 5,
   "metadata": {},
   "outputs": [
    {
     "data": {
      "text/html": [
       "<i>Table length=3</i>\n",
       "<table id=\"table1745513881456\" class=\"table-striped table-bordered table-condensed\">\n",
       "<thead><tr><th>objID</th><th>&amp;</th><th>osrcid</th><th>&amp;_1</th><th>xsrcid</th></tr></thead>\n",
       "<thead><tr><th>str23</th><th>str1</th><th>str17</th><th>str1</th><th>str13</th></tr></thead>\n",
       "<tr><td>-----------------------</td><td>&amp;</td><td>-----------------</td><td>&amp;</td><td>-------------</td></tr>\n",
       "<tr><td>277955213</td><td>&amp;</td><td>S000.7044P00.7513</td><td>&amp;</td><td>XS04861B6_005</td></tr>\n",
       "<tr><td>889974380</td><td>&amp;</td><td>S002.9051P14.7003</td><td>&amp;</td><td>XS03957B7_004</td></tr>\n",
       "</table>"
      ],
      "text/plain": [
       "<Table length=3>\n",
       "         objID           &         osrcid      &_1      xsrcid   \n",
       "         str23          str1       str17       str1     str13    \n",
       "----------------------- ---- ----------------- ---- -------------\n",
       "-----------------------    & -----------------    & -------------\n",
       "              277955213    & S000.7044P00.7513    & XS04861B6_005\n",
       "              889974380    & S002.9051P14.7003    & XS03957B7_004"
      ]
     },
     "execution_count": 5,
     "metadata": {},
     "output_type": "execute_result"
    }
   ],
   "source": [
    "ascii.read(lines)"
   ]
  },
  {
   "cell_type": "markdown",
   "metadata": {},
   "source": [
    "We therefore need to specify details about what kind of table it is, and what the main delimiter is. Is this case, these options are:"
   ]
  },
  {
   "cell_type": "code",
   "execution_count": 6,
   "metadata": {},
   "outputs": [
    {
     "data": {
      "text/html": [
       "<i>Table length=2</i>\n",
       "<table id=\"table1745513878912\" class=\"table-striped table-bordered table-condensed\">\n",
       "<thead><tr><th>objID</th><th>osrcid</th><th>xsrcid</th></tr></thead>\n",
       "<thead><tr><th>int32</th><th>str17</th><th>str13</th></tr></thead>\n",
       "<tr><td>277955213</td><td>S000.7044P00.7513</td><td>XS04861B6_005</td></tr>\n",
       "<tr><td>889974380</td><td>S002.9051P14.7003</td><td>XS03957B7_004</td></tr>\n",
       "</table>"
      ],
      "text/plain": [
       "<Table length=2>\n",
       "  objID         osrcid          xsrcid   \n",
       "  int32         str17           str13    \n",
       "--------- ----------------- -------------\n",
       "277955213 S000.7044P00.7513 XS04861B6_005\n",
       "889974380 S002.9051P14.7003 XS03957B7_004"
      ]
     },
     "execution_count": 6,
     "metadata": {},
     "output_type": "execute_result"
    }
   ],
   "source": [
    "ascii.read(lines, format='fixed_width_two_line', delimiter='&')"
   ]
  },
  {
   "cell_type": "markdown",
   "metadata": {},
   "source": [
    "A list of supported files can be found [in the documentation](http://docs.astropy.org/en/stable/io/ascii/index.html#supported-formats) and it is also possible to [define your own formats](http://docs.astropy.org/en/stable/io/ascii/read.html#advanced-customization).\n",
    "\n",
    "Because this framework allows a lot of control over how the data is parsed, it is even possible to read data from a table such as:"
   ]
  },
  {
   "cell_type": "code",
   "execution_count": 7,
   "metadata": {},
   "outputs": [],
   "source": [
    "lines2 = \"\"\"\n",
    "# This is the start of my data file\n",
    "\n",
    "Automatically generated by my_script.py at 2012-01-01T12:13:14\n",
    "Run parameters: None\n",
    "Column header line:\n",
    "\n",
    "x:y:z\n",
    "\n",
    "Data values section:\n",
    "\n",
    "1:2:3\n",
    "4:5:6\n",
    "\n",
    "Run completed at 2012:01-01T12:14:01\n",
    "\"\"\".lstrip()"
   ]
  },
  {
   "cell_type": "markdown",
   "metadata": {},
   "source": [
    "In this case, we would need to specify the following options:"
   ]
  },
  {
   "cell_type": "code",
   "execution_count": 8,
   "metadata": {},
   "outputs": [],
   "source": [
    "tab = ascii.read(lines2, header_start=3, data_start=5, data_end=7, delimiter=':')"
   ]
  },
  {
   "cell_type": "code",
   "execution_count": 9,
   "metadata": {},
   "outputs": [
    {
     "data": {
      "text/html": [
       "<i>Table length=2</i>\n",
       "<table id=\"table1745513855632\" class=\"table-striped table-bordered table-condensed\">\n",
       "<thead><tr><th>x</th><th>y</th><th>z</th></tr></thead>\n",
       "<thead><tr><th>int32</th><th>int32</th><th>int32</th></tr></thead>\n",
       "<tr><td>1</td><td>2</td><td>3</td></tr>\n",
       "<tr><td>4</td><td>5</td><td>6</td></tr>\n",
       "</table>"
      ],
      "text/plain": [
       "<Table length=2>\n",
       "  x     y     z  \n",
       "int32 int32 int32\n",
       "----- ----- -----\n",
       "    1     2     3\n",
       "    4     5     6"
      ]
     },
     "execution_count": 9,
     "metadata": {},
     "output_type": "execute_result"
    }
   ],
   "source": [
    "tab"
   ]
  },
  {
   "cell_type": "code",
   "execution_count": 17,
   "metadata": {},
   "outputs": [],
   "source": [
    "from astropy.table import Table"
   ]
  },
  {
   "cell_type": "code",
   "execution_count": 19,
   "metadata": {},
   "outputs": [
    {
     "name": "stdout",
     "output_type": "stream",
     "text": [
      "=======================================\n",
      "Table.read(format='fits') documentation\n",
      "=======================================\n",
      "\n",
      "Read a Table object from an FITS file\n",
      "\n",
      "If the ``astropy_native`` argument is ``True``, then input FITS columns\n",
      "which are representations of an astropy core object will be converted to\n",
      "that class and stored in the ``Table`` as \"mixin columns\".  Currently this\n",
      "is limited to FITS columns which adhere to the FITS Time standard, in which\n",
      "case they will be converted to a `~astropy.time.Time` column in the output\n",
      "table.\n",
      "\n",
      "Parameters\n",
      "----------\n",
      "input : str or file-like object or compatible `astropy.io.fits` HDU object\n",
      "    If a string, the filename to read the table from. If a file object, or\n",
      "    a compatible HDU object, the object to extract the table from. The\n",
      "    following `astropy.io.fits` HDU objects can be used as input:\n",
      "    - :class:`~astropy.io.fits.hdu.table.TableHDU`\n",
      "    - :class:`~astropy.io.fits.hdu.table.BinTableHDU`\n",
      "    - :class:`~astropy.io.fits.hdu.table.GroupsHDU`\n",
      "    - :class:`~astropy.io.fits.hdu.hdulist.HDUList`\n",
      "hdu : int or str, optional\n",
      "    The HDU to read the table from.\n",
      "astropy_native : bool, optional\n",
      "    Read in FITS columns as native astropy objects where possible instead\n",
      "    of standard Table Column objects. Default is False.\n",
      "memmap : bool, optional\n",
      "    Whether to use memory mapping, which accesses data on disk as needed. If\n",
      "    you are only accessing part of the data, this is often more efficient.\n",
      "    If you want to access all the values in the table, and you are able to\n",
      "    fit the table in memory, you may be better off leaving memory mapping\n",
      "    off. However, if your table would not fit in memory, you should set this\n",
      "    to `True`.\n",
      "character_as_bytes : bool, optional\n",
      "    If `True`, string columns are stored as Numpy byte arrays (dtype ``S``)\n",
      "    and are converted on-the-fly to unicode strings when accessing\n",
      "    individual elements. If you need to use Numpy unicode arrays (dtype\n",
      "    ``U``) internally, you should set this to `False`, but note that this\n",
      "    will use more memory. If set to `False`, string columns will not be\n",
      "    memory-mapped even if ``memmap`` is `True`."
     ]
    }
   ],
   "source": [
    "Table.read.help('fits')"
   ]
  },
  {
   "cell_type": "markdown",
   "metadata": {},
   "source": [
    "There are many more options and formats available, so if you find yourself needing to read in complicated ASCII formats, be sure to check the [astropy.io.ascii documentation](docs.astropy.org/en/stable/io/ascii/index.html)!"
   ]
  },
  {
   "cell_type": "markdown",
   "metadata": {},
   "source": [
    "## Accessing VO tables\n",
    "\n",
    "As for ASCII tables, you should be able to read/write VO tables from the Table class, but sometimes you will need more control to access VO-specific features.\n",
    "\n",
    "To demonstrate how to access VO tables directly, we will use the [data/xmm-log.vot](data/xmm-log.vot) file which contains a subset of rows from the XMM-Newton observation log which was [obtained from VizieR](http://vizier.u-strasbg.fr/viz-bin/VizieR?-source=B/xmm)."
   ]
  },
  {
   "cell_type": "code",
   "execution_count": 10,
   "metadata": {},
   "outputs": [],
   "source": [
    "from astropy.io.votable import parse"
   ]
  },
  {
   "cell_type": "code",
   "execution_count": 11,
   "metadata": {},
   "outputs": [],
   "source": [
    "votable = parse('data/xmm-log.vot')"
   ]
  },
  {
   "cell_type": "markdown",
   "metadata": {},
   "source": [
    "A VO table file consists of resource elements, each of which can contain one or more table. We can loop over these to check what exists:"
   ]
  },
  {
   "cell_type": "code",
   "execution_count": 12,
   "metadata": {},
   "outputs": [
    {
     "data": {
      "text/plain": [
       "<VOTABLE>... 1 tables ...</VOTABLE>"
      ]
     },
     "execution_count": 12,
     "metadata": {},
     "output_type": "execute_result"
    }
   ],
   "source": [
    "votable"
   ]
  },
  {
   "cell_type": "code",
   "execution_count": 13,
   "metadata": {},
   "outputs": [
    {
     "name": "stdout",
     "output_type": "stream",
     "text": [
      "<class 'astropy.io.votable.tree.Table'>\n"
     ]
    }
   ],
   "source": [
    "for resource in votable.resources:\n",
    "    for vtable in resource.tables:\n",
    "        print(type(vtable))"
   ]
  },
  {
   "cell_type": "markdown",
   "metadata": {},
   "source": [
    "Note that the table returned is **not** a regular astropy Table, it is a different kind of object (even though the class is called the same). If you want to get a regular table out you could do:"
   ]
  },
  {
   "cell_type": "code",
   "execution_count": 14,
   "metadata": {},
   "outputs": [
    {
     "data": {
      "text/html": [
       "<i>Table length=100</i>\n",
       "<table id=\"table1745794578752\" class=\"table-striped table-bordered table-condensed\">\n",
       "<thead><tr><th>Obsno</th><th>PropDate</th><th>Object</th><th>RAJ2000</th><th>DEJ2000</th><th>Obs0</th><th>ObsDur</th><th>Image</th><th>PPSp</th><th>FITS</th><th>XSAlink</th><th>SASVersion</th></tr></thead>\n",
       "<thead><tr><th></th><th>s</th><th></th><th>deg</th><th>deg</th><th>s</th><th>s</th><th></th><th></th><th></th><th></th><th></th></tr></thead>\n",
       "<thead><tr><th>str10</th><th>str10</th><th>str30</th><th>float64</th><th>float64</th><th>str19</th><th>int32</th><th>str1</th><th>str4</th><th>str4</th><th>str1</th><th>str5</th></tr></thead>\n",
       "<tr><td>0000110101</td><td>2002-09-29</td><td>XTE J0421+560</td><td>64.92542</td><td>55.99944</td><td>2001-08-19T07:05:23</td><td>32913</td><td>Y</td><td>PPSp</td><td>FITS</td><td>Y</td><td>9.0</td></tr>\n",
       "<tr><td>0001730101</td><td>2004-12-31</td><td></td><td>--</td><td>--</td><td>2002-03-18T06:40:01</td><td>25296</td><td>N</td><td>PPSp</td><td>FITS</td><td>N</td><td>NOPPS</td></tr>\n",
       "<tr><td>0001730201</td><td>2002-05-25</td><td>HD159176</td><td>263.67495</td><td>-32.58167</td><td>2001-03-09T12:44:21</td><td>17083</td><td>Y</td><td>PPSp</td><td>FITS</td><td>Y</td><td>9.0</td></tr>\n",
       "<tr><td>0001730301</td><td>2002-05-25</td><td>HD159176</td><td>263.67495</td><td>-32.58167</td><td>2001-03-09T17:30:16</td><td>9362</td><td>N</td><td>PPSp</td><td>FITS</td><td>Y</td><td>9.0</td></tr>\n",
       "<tr><td>0001730401</td><td>2002-05-25</td><td>HD159176</td><td>263.67495</td><td>-32.58167</td><td>2001-03-09T09:41:25</td><td>10859</td><td>N</td><td>PPSp</td><td>FITS</td><td>Y</td><td>9.0</td></tr>\n",
       "<tr><td>0001730501</td><td>2004-12-31</td><td>HD47129</td><td>99.34999</td><td>6.13528</td><td>2002-09-17T18:35:28</td><td>21939</td><td>N</td><td>PPSp</td><td>FITS</td><td>Y</td><td>9.0</td></tr>\n",
       "<tr><td>0001730601</td><td>2004-12-31</td><td>HD47129</td><td>99.34999</td><td>6.13528</td><td>2003-03-16T16:01:51</td><td>21863</td><td>Y</td><td>PPSp</td><td>FITS</td><td>Y</td><td>9.0</td></tr>\n",
       "<tr><td>0001930101</td><td>2002-09-18</td><td>IRAS F00235+1024</td><td>6.52917</td><td>10.68917</td><td>2001-01-10T18:47:04</td><td>26609</td><td>Y</td><td>PPSp</td><td>FITS</td><td>Y</td><td>9.0</td></tr>\n",
       "<tr><td>0001930301</td><td>2003-01-16</td><td>IRAS F12514+1027</td><td>193.50000</td><td>10.18639</td><td>2001-12-28T14:44:54</td><td>25192</td><td>Y</td><td>PPSp</td><td>FITS</td><td>Y</td><td>9.0</td></tr>\n",
       "<tr><td>...</td><td>...</td><td>...</td><td>...</td><td>...</td><td>...</td><td>...</td><td>...</td><td>...</td><td>...</td><td>...</td><td>...</td></tr>\n",
       "<tr><td>0009221601</td><td>2003-10-11</td><td>Mrk 3</td><td>93.90125</td><td>71.03750</td><td>2002-09-16T05:09:12</td><td>7891</td><td>Y</td><td>PPSp</td><td>FITS</td><td>Y</td><td>9.0</td></tr>\n",
       "<tr><td>0009650101</td><td>2002-11-02</td><td>AO Psc</td><td>343.82505</td><td>-3.17808</td><td>2001-06-09T13:06:45</td><td>41415</td><td>Y</td><td>PPSp</td><td>FITS</td><td>Y</td><td>9.0</td></tr>\n",
       "<tr><td>0009650201</td><td>2002-09-20</td><td>FO Aqr</td><td>334.48125</td><td>-8.35142</td><td>2001-05-12T09:00:05</td><td>36590</td><td>Y</td><td>PPSp</td><td>FITS</td><td>Y</td><td>9.0</td></tr>\n",
       "<tr><td>0009650301</td><td>2002-09-20</td><td>FO Aqr</td><td>334.48125</td><td>-8.35142</td><td>2001-05-12T06:00:29</td><td>10336</td><td>N</td><td>PPSp</td><td>FITS</td><td>Y</td><td>9.0</td></tr>\n",
       "<tr><td>0010420201</td><td>2002-10-08</td><td>Abell 1644</td><td>194.36670</td><td>-17.34628</td><td>2001-01-08T15:58:43</td><td>22806</td><td>Y</td><td>PPSp</td><td>FITS</td><td>Y</td><td>9.0</td></tr>\n",
       "<tr><td>0010420701</td><td>2002-10-08</td><td>Abell 1644</td><td>194.36670</td><td>-17.34628</td><td>2001-01-08T12:48:31</td><td>10908</td><td>N</td><td>PPSp</td><td>FITS</td><td>Y</td><td>9.0</td></tr>\n",
       "<tr><td>0010620101</td><td>2003-01-05</td><td>V1309 Ori</td><td>78.92250</td><td>1.07797</td><td>2001-03-17T23:37:57</td><td>31641</td><td>Y</td><td>PPSp</td><td>FITS</td><td>Y</td><td>9.0</td></tr>\n",
       "<tr><td>0011420101</td><td>2002-09-19</td><td>NGC 2264 north</td><td>100.18043</td><td>9.85000</td><td>2001-03-20T02:21:43</td><td>41413</td><td>Y</td><td>PPSp</td><td>FITS</td><td>Y</td><td>9.0</td></tr>\n",
       "<tr><td>0011420201</td><td>2003-05-10</td><td>NGC 2264 south</td><td>100.27291</td><td>9.52778</td><td>2002-03-17T18:05:47</td><td>41760</td><td>Y</td><td>PPSp</td><td>FITS</td><td>Y</td><td>9.0</td></tr>\n",
       "<tr><td>0011430201</td><td>2003-07-04</td><td>CTA1</td><td>1.75833</td><td>73.04972</td><td>2002-02-21T18:56:32</td><td>41594</td><td>Y</td><td>PPSp</td><td>FITS</td><td>Y</td><td>9.0</td></tr>\n",
       "</table>"
      ],
      "text/plain": [
       "<Table length=100>\n",
       "  Obsno     PropDate       Object       RAJ2000  ... FITS XSAlink SASVersion\n",
       "               s                          deg    ...                        \n",
       "  str10      str10         str30        float64  ... str4   str1     str5   \n",
       "---------- ---------- ---------------- --------- ... ---- ------- ----------\n",
       "0000110101 2002-09-29    XTE J0421+560  64.92542 ... FITS       Y        9.0\n",
       "0001730101 2004-12-31                         -- ... FITS       N      NOPPS\n",
       "0001730201 2002-05-25         HD159176 263.67495 ... FITS       Y        9.0\n",
       "0001730301 2002-05-25         HD159176 263.67495 ... FITS       Y        9.0\n",
       "0001730401 2002-05-25         HD159176 263.67495 ... FITS       Y        9.0\n",
       "0001730501 2004-12-31          HD47129  99.34999 ... FITS       Y        9.0\n",
       "0001730601 2004-12-31          HD47129  99.34999 ... FITS       Y        9.0\n",
       "0001930101 2002-09-18 IRAS F00235+1024   6.52917 ... FITS       Y        9.0\n",
       "0001930301 2003-01-16 IRAS F12514+1027 193.50000 ... FITS       Y        9.0\n",
       "       ...        ...              ...       ... ...  ...     ...        ...\n",
       "0009221601 2003-10-11            Mrk 3  93.90125 ... FITS       Y        9.0\n",
       "0009650101 2002-11-02           AO Psc 343.82505 ... FITS       Y        9.0\n",
       "0009650201 2002-09-20           FO Aqr 334.48125 ... FITS       Y        9.0\n",
       "0009650301 2002-09-20           FO Aqr 334.48125 ... FITS       Y        9.0\n",
       "0010420201 2002-10-08       Abell 1644 194.36670 ... FITS       Y        9.0\n",
       "0010420701 2002-10-08       Abell 1644 194.36670 ... FITS       Y        9.0\n",
       "0010620101 2003-01-05        V1309 Ori  78.92250 ... FITS       Y        9.0\n",
       "0011420101 2002-09-19   NGC 2264 north 100.18043 ... FITS       Y        9.0\n",
       "0011420201 2003-05-10   NGC 2264 south 100.27291 ... FITS       Y        9.0\n",
       "0011430201 2003-07-04             CTA1   1.75833 ... FITS       Y        9.0"
      ]
     },
     "execution_count": 14,
     "metadata": {},
     "output_type": "execute_result"
    }
   ],
   "source": [
    "vtable.to_table()"
   ]
  },
  {
   "cell_type": "code",
   "execution_count": 15,
   "metadata": {},
   "outputs": [
    {
     "data": {
      "text/plain": [
       "<Table length=100>\n",
       "  Obsno     PropDate       Object       RAJ2000  ... FITS XSAlink SASVersion\n",
       "               s                          deg    ...                        \n",
       "  str10      str10         str30        float64  ... str4   str1     str5   \n",
       "---------- ---------- ---------------- --------- ... ---- ------- ----------\n",
       "0000110101 2002-09-29    XTE J0421+560  64.92542 ... FITS       Y        9.0\n",
       "0001730101 2004-12-31                         -- ... FITS       N      NOPPS\n",
       "0001730201 2002-05-25         HD159176 263.67495 ... FITS       Y        9.0\n",
       "0001730301 2002-05-25         HD159176 263.67495 ... FITS       Y        9.0\n",
       "0001730401 2002-05-25         HD159176 263.67495 ... FITS       Y        9.0\n",
       "0001730501 2004-12-31          HD47129  99.34999 ... FITS       Y        9.0\n",
       "0001730601 2004-12-31          HD47129  99.34999 ... FITS       Y        9.0\n",
       "0001930101 2002-09-18 IRAS F00235+1024   6.52917 ... FITS       Y        9.0\n",
       "0001930301 2003-01-16 IRAS F12514+1027 193.50000 ... FITS       Y        9.0\n",
       "       ...        ...              ...       ... ...  ...     ...        ...\n",
       "0009221601 2003-10-11            Mrk 3  93.90125 ... FITS       Y        9.0\n",
       "0009650101 2002-11-02           AO Psc 343.82505 ... FITS       Y        9.0\n",
       "0009650201 2002-09-20           FO Aqr 334.48125 ... FITS       Y        9.0\n",
       "0009650301 2002-09-20           FO Aqr 334.48125 ... FITS       Y        9.0\n",
       "0010420201 2002-10-08       Abell 1644 194.36670 ... FITS       Y        9.0\n",
       "0010420701 2002-10-08       Abell 1644 194.36670 ... FITS       Y        9.0\n",
       "0010620101 2003-01-05        V1309 Ori  78.92250 ... FITS       Y        9.0\n",
       "0011420101 2002-09-19   NGC 2264 north 100.18043 ... FITS       Y        9.0\n",
       "0011420201 2003-05-10   NGC 2264 south 100.27291 ... FITS       Y        9.0\n",
       "0011430201 2003-07-04             CTA1   1.75833 ... FITS       Y        9.0"
      ]
     },
     "execution_count": 15,
     "metadata": {},
     "output_type": "execute_result"
    }
   ],
   "source": [
    "vtable"
   ]
  },
  {
   "cell_type": "markdown",
   "metadata": {},
   "source": [
    "However here we are interested in using the 'native' VO table object, which is a little different:"
   ]
  },
  {
   "cell_type": "code",
   "execution_count": 16,
   "metadata": {},
   "outputs": [
    {
     "data": {
      "text/plain": [
       "[<FIELD ID=\"Obsno\" arraysize=\"10\" datatype=\"char\" name=\"Obsno\" ucd=\"meta.id;obs\"/>,\n",
       " <FIELD ID=\"PropDate\" arraysize=\"10\" datatype=\"char\" name=\"PropDate\" ucd=\"meta.note\" unit=\"s\"/>,\n",
       " <FIELD ID=\"Object\" arraysize=\"30\" datatype=\"char\" name=\"Object\" ucd=\"meta.id\"/>,\n",
       " <FIELD ID=\"RAJ2000\" datatype=\"double\" name=\"RAJ2000\" precision=\"5\" ref=\"J2000\" ucd=\"pos.eq.ra;meta.main\" unit=\"deg\" width=\"9\"/>,\n",
       " <FIELD ID=\"DEJ2000\" datatype=\"double\" name=\"DEJ2000\" precision=\"5\" ref=\"J2000\" ucd=\"pos.eq.dec;meta.main\" unit=\"deg\" width=\"9\"/>,\n",
       " <FIELD ID=\"Obs0\" arraysize=\"19\" datatype=\"char\" name=\"Obs0\" ucd=\"time.epoch\" unit=\"s\"/>,\n",
       " <FIELD ID=\"ObsDur\" datatype=\"int\" name=\"ObsDur\" ucd=\"time.expo\" unit=\"s\" width=\"7\"/>,\n",
       " <FIELD ID=\"Image\" arraysize=\"1\" datatype=\"char\" name=\"Image\" ucd=\"meta.ref.url\"/>,\n",
       " <FIELD ID=\"PPSp\" arraysize=\"4\" datatype=\"char\" name=\"PPSp\" ucd=\"meta.ref.url\"/>,\n",
       " <FIELD ID=\"FITS\" arraysize=\"4\" datatype=\"char\" name=\"FITS\" ucd=\"meta.ref.url\"/>,\n",
       " <FIELD ID=\"XSAlink\" arraysize=\"1\" datatype=\"char\" name=\"XSAlink\" ucd=\"meta.code\"/>,\n",
       " <FIELD ID=\"SASVersion\" arraysize=\"5\" datatype=\"char\" name=\"SASVersion\" ucd=\"stat.fit.param\"/>]"
      ]
     },
     "execution_count": 16,
     "metadata": {},
     "output_type": "execute_result"
    }
   ],
   "source": [
    "vtable.fields"
   ]
  },
  {
   "cell_type": "code",
   "execution_count": null,
   "metadata": {},
   "outputs": [],
   "source": []
  },
  {
   "cell_type": "code",
   "execution_count": null,
   "metadata": {},
   "outputs": [],
   "source": []
  },
  {
   "cell_type": "code",
   "execution_count": null,
   "metadata": {},
   "outputs": [],
   "source": []
  },
  {
   "cell_type": "markdown",
   "metadata": {},
   "source": [
    "This interface gives full access to the information stored in the XML, and also allows standard-compliant VO tables to be written back out.\n",
    "\n",
    "For more information about reading, manipulating, and writing VO tables, we recommend you take a look at the [astropy.io.votable](http://docs.astropy.org/en/stable/io/votable/index.html) documentation."
   ]
  },
  {
   "cell_type": "markdown",
   "metadata": {},
   "source": [
    "<center><i>This notebook was written by <a href=\"https://aperiosoftware.com/\">Aperio Software Ltd.</a> &copy; 2019, and is licensed under a <a href=\"https://creativecommons.org/licenses/by/4.0/\">Creative Commons Attribution 4.0 International License (CC BY 4.0)</a></i></center>\n",
    "\n",
    "![cc](https://mirrors.creativecommons.org/presskit/buttons/88x31/svg/by.svg)"
   ]
  }
 ],
 "metadata": {
  "kernelspec": {
   "display_name": "Python 3",
   "language": "python",
   "name": "python3"
  },
  "language_info": {
   "codemirror_mode": {
    "name": "ipython",
    "version": 3
   },
   "file_extension": ".py",
   "mimetype": "text/x-python",
   "name": "python",
   "nbconvert_exporter": "python",
   "pygments_lexer": "ipython3",
   "version": "3.9.3"
  },
  "toc": {
   "base_numbering": 1,
   "nav_menu": {},
   "number_sections": true,
   "sideBar": true,
   "skip_h1_title": false,
   "title_cell": "Table of Contents",
   "title_sidebar": "Contents",
   "toc_cell": false,
   "toc_position": {},
   "toc_section_display": true,
   "toc_window_display": false
  }
 },
 "nbformat": 4,
 "nbformat_minor": 4
}
