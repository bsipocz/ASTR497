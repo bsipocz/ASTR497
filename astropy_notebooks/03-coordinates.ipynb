{
 "cells": [
  {
   "cell_type": "markdown",
   "metadata": {},
   "source": [
    "# Celestial coordinates\n",
    "\n",
    "The [astropy.coordinates](https://docs.astropy.org/en/stable/coordinates/index.html) sub-package in astropy provides a way to represent and manipulate celestial coordinates. It supports many different coordinate systems and transformations, and includes support for velocities in addition to positions."
   ]
  },
  {
   "cell_type": "markdown",
   "metadata": {},
   "source": [
    "\n",
    "<section class=\"objectives panel panel-warning\">\n",
    "<div class=\"panel-heading\">\n",
    "<h2><span class=\"fa fa-certificate\"></span> Objectives</h2>\n",
    "</div>\n",
    "\n",
    "\n",
    "<div class=\"panel-body\">\n",
    "\n",
    "<ul>\n",
    "<li>Create SkyCoord objects</li>\n",
    "<li>Access individual coordinates</li>\n",
    "<li>Format coordinates</li>\n",
    "<li>Transforming coordinates</li>\n",
    "<li>Using 3D coordinates and velocities</li>\n",
    "<li>Calculating separations</li>\n",
    "<li>Using arrays of coordinates</li>\n",
    "</ul>\n",
    "\n",
    "</div>\n",
    "\n",
    "</section>\n"
   ]
  },
  {
   "cell_type": "markdown",
   "metadata": {},
   "source": [
    "## Documentation\n",
    "\n",
    "This notebook only shows a subset of the functionality in astropy.coordinates. For more information about the features presented below as well as other available features, you can read the\n",
    "[astropy.coordinates documentation](https://docs.astropy.org/en/stable/coordinates/)."
   ]
  },
  {
   "cell_type": "code",
   "execution_count": 1,
   "metadata": {},
   "outputs": [],
   "source": [
    "%matplotlib inline\n",
    "import matplotlib.pyplot as plt\n",
    "plt.rc('image', origin='lower')\n",
    "plt.rc('figure', figsize=(10, 6))"
   ]
  },
  {
   "cell_type": "markdown",
   "metadata": {},
   "source": [
    "## Creating SkyCoord objects\n",
    "\n",
    "The main user-facing class in astropy.coordinates is the ``SkyCoord`` class:"
   ]
  },
  {
   "cell_type": "code",
   "execution_count": 2,
   "metadata": {},
   "outputs": [],
   "source": [
    "from astropy.coordinates import SkyCoord"
   ]
  },
  {
   "cell_type": "markdown",
   "metadata": {},
   "source": [
    "A SkyCoord object can represent one or more coordinates, and there are a number of different ways to initialize such an object. If you have the coordinates as quantities, you can do:"
   ]
  },
  {
   "cell_type": "code",
   "execution_count": 3,
   "metadata": {},
   "outputs": [
    {
     "data": {
      "text/plain": [
       "<SkyCoord (ICRS): (ra, dec) in deg\n",
       "    (13.443, -33.298)>"
      ]
     },
     "execution_count": 3,
     "metadata": {},
     "output_type": "execute_result"
    }
   ],
   "source": [
    "import astropy.units as u\n",
    "coordl = SkyCoord(13.443 * u.deg, -33.298 * u.deg)\n",
    "coordl"
   ]
  },
  {
   "cell_type": "markdown",
   "metadata": {},
   "source": [
    "As you can see, the default is to assume that the coordinates are in the ICRS frame and represent Right Ascension and Declination. You can also initialize coordinates from strings:"
   ]
  },
  {
   "cell_type": "code",
   "execution_count": 4,
   "metadata": {},
   "outputs": [
    {
     "data": {
      "text/plain": [
       "<SkyCoord (ICRS): (ra, dec) in deg\n",
       "    (199.59166667, -21.72611111)>"
      ]
     },
     "execution_count": 4,
     "metadata": {},
     "output_type": "execute_result"
    }
   ],
   "source": [
    "coord2 = SkyCoord('13:18:22', '-21:43:34', unit=(u.hourangle, u.deg))\n",
    "coord2"
   ]
  },
  {
   "cell_type": "code",
   "execution_count": 5,
   "metadata": {},
   "outputs": [
    {
     "data": {
      "text/plain": [
       "<SkyCoord (ICRS): (ra, dec) in deg\n",
       "    (199.59166667, -21.72611111)>"
      ]
     },
     "execution_count": 5,
     "metadata": {},
     "output_type": "execute_result"
    }
   ],
   "source": [
    "coord3 = SkyCoord('13h18m22s -21d43m34s')\n",
    "coord3"
   ]
  },
  {
   "cell_type": "markdown",
   "metadata": {},
   "source": [
    "To create coordinates in other frames - for example Galactic coordinates - you can use the ``frame=`` argument:"
   ]
  },
  {
   "cell_type": "code",
   "execution_count": 7,
   "metadata": {},
   "outputs": [
    {
     "data": {
      "text/plain": [
       "<SkyCoord (Galactic): (l, b) in deg\n",
       "    (52., 0.1)>"
      ]
     },
     "execution_count": 7,
     "metadata": {},
     "output_type": "execute_result"
    }
   ],
   "source": [
    "coord4 = SkyCoord(13*4 *u.deg, 0.1 * u.deg, frame='galactic')\n",
    "coord4"
   ]
  },
  {
   "cell_type": "code",
   "execution_count": null,
   "metadata": {},
   "outputs": [],
   "source": []
  },
  {
   "cell_type": "markdown",
   "metadata": {},
   "source": [
    "Note that here we've also specified the names of the coordinates explicitly using ``l=`` and ``b=`` (they are not required but can make code more readable)."
   ]
  },
  {
   "cell_type": "markdown",
   "metadata": {},
   "source": [
    "## Initialization from SIMBAD identifier\n",
    "\n",
    "If you are doing quick calculations and want to use the coordinates of a source in the SIMBAD database, you can easily create a ``SkyCoord`` object from the object name:"
   ]
  },
  {
   "cell_type": "code",
   "execution_count": 8,
   "metadata": {},
   "outputs": [
    {
     "data": {
      "text/plain": [
       "<SkyCoord (ICRS): (ra, dec) in deg\n",
       "    (83.82208333, -5.39111111)>"
      ]
     },
     "execution_count": 8,
     "metadata": {},
     "output_type": "execute_result"
    }
   ],
   "source": [
    "m42 = SkyCoord.from_name('M42')\n",
    "m42"
   ]
  },
  {
   "cell_type": "markdown",
   "metadata": {},
   "source": [
    "However, note that this should not be used when precision is critical - the positions are approximate especially for extended sources."
   ]
  },
  {
   "cell_type": "markdown",
   "metadata": {},
   "source": [
    "## Accessing individual coordinates\n",
    "\n",
    "Once you have a coordinate object, you can access the individual coordinates using attributes:"
   ]
  },
  {
   "cell_type": "code",
   "execution_count": 9,
   "metadata": {},
   "outputs": [
    {
     "data": {
      "text/latex": [
       "$199^\\circ35{}^\\prime30{}^{\\prime\\prime}$"
      ],
      "text/plain": [
       "<Longitude 199.59166667 deg>"
      ]
     },
     "execution_count": 9,
     "metadata": {},
     "output_type": "execute_result"
    }
   ],
   "source": [
    "coord3.ra"
   ]
  },
  {
   "cell_type": "code",
   "execution_count": 10,
   "metadata": {},
   "outputs": [
    {
     "data": {
      "text/plain": [
       "astropy.coordinates.angles.Longitude"
      ]
     },
     "execution_count": 10,
     "metadata": {},
     "output_type": "execute_result"
    }
   ],
   "source": [
    "type(coord3.ra)"
   ]
  },
  {
   "cell_type": "markdown",
   "metadata": {},
   "source": [
    "The Longitude class is a sub-class of Quantity so you can convert it to specific units as you would a quantity:"
   ]
  },
  {
   "cell_type": "code",
   "execution_count": 11,
   "metadata": {},
   "outputs": [
    {
     "data": {
      "text/plain": [
       "13.306111111111113"
      ]
     },
     "execution_count": 11,
     "metadata": {},
     "output_type": "execute_result"
    }
   ],
   "source": [
    "coord3.ra.to(u.hourangle).value"
   ]
  },
  {
   "cell_type": "markdown",
   "metadata": {},
   "source": [
    "but the Longitude class also provides shortcuts for this:"
   ]
  },
  {
   "cell_type": "code",
   "execution_count": 12,
   "metadata": {},
   "outputs": [
    {
     "data": {
      "text/plain": [
       "13.306111111111113"
      ]
     },
     "execution_count": 12,
     "metadata": {},
     "output_type": "execute_result"
    }
   ],
   "source": [
    "coord3.ra.hourangle"
   ]
  },
  {
   "cell_type": "markdown",
   "metadata": {},
   "source": [
    "## Formatting coordinates\n",
    "\n",
    "You can format a coordinate object as a string using ``to_string()``:"
   ]
  },
  {
   "cell_type": "code",
   "execution_count": 13,
   "metadata": {},
   "outputs": [
    {
     "data": {
      "text/plain": [
       "'199.592 -21.7261'"
      ]
     },
     "execution_count": 13,
     "metadata": {},
     "output_type": "execute_result"
    }
   ],
   "source": [
    "coord3.to_string()"
   ]
  },
  {
   "cell_type": "markdown",
   "metadata": {},
   "source": [
    "The default format uses floating point values, but you may want instead to use standard sexagesimal format: "
   ]
  },
  {
   "cell_type": "code",
   "execution_count": 14,
   "metadata": {},
   "outputs": [
    {
     "data": {
      "text/plain": [
       "'13h18m22s -21d43m34s'"
      ]
     },
     "execution_count": 14,
     "metadata": {},
     "output_type": "execute_result"
    }
   ],
   "source": [
    "coord2.to_string('hmsdms')"
   ]
  },
  {
   "cell_type": "markdown",
   "metadata": {},
   "source": [
    "You can control the precision using the ``precision=`` keyword argument:"
   ]
  },
  {
   "cell_type": "code",
   "execution_count": 15,
   "metadata": {},
   "outputs": [
    {
     "data": {
      "text/plain": [
       "'13h18m22.00000s -21d43m34.00000s'"
      ]
     },
     "execution_count": 15,
     "metadata": {},
     "output_type": "execute_result"
    }
   ],
   "source": [
    "coord2.to_string('hmsdms', precision=5)"
   ]
  },
  {
   "cell_type": "markdown",
   "metadata": {},
   "source": [
    "## Transforming coordinates\n",
    "\n",
    "``SkyCoord`` objects can be transformed between frames using the ``.transform_to()`` method:"
   ]
  },
  {
   "cell_type": "code",
   "execution_count": 16,
   "metadata": {},
   "outputs": [
    {
     "data": {
      "text/plain": [
       "<SkyCoord (ICRS): (ra, dec) in deg\n",
       "    (13.443, -33.298)>"
      ]
     },
     "execution_count": 16,
     "metadata": {},
     "output_type": "execute_result"
    }
   ],
   "source": [
    "coordl"
   ]
  },
  {
   "cell_type": "code",
   "execution_count": 17,
   "metadata": {},
   "outputs": [
    {
     "data": {
      "text/plain": [
       "<SkyCoord (Galactic): (l, b) in deg\n",
       "    (298.40424611, -83.80972028)>"
      ]
     },
     "execution_count": 17,
     "metadata": {},
     "output_type": "execute_result"
    }
   ],
   "source": [
    "coordl.transform_to('galactic')"
   ]
  },
  {
   "cell_type": "markdown",
   "metadata": {},
   "source": [
    "You can also specify frame objects if you need more control:"
   ]
  },
  {
   "cell_type": "code",
   "execution_count": 4,
   "metadata": {},
   "outputs": [
    {
     "data": {
      "text/plain": [
       "<SkyCoord (FK5: equinox=J2020.000): (ra, dec) in deg\n",
       "    (13.68213385, -33.18976478)>"
      ]
     },
     "execution_count": 4,
     "metadata": {},
     "output_type": "execute_result"
    }
   ],
   "source": [
    "from astropy.coordinates import FK5\n",
    "coordl.transform_to(FK5(equinox='J2020'))"
   ]
  },
  {
   "cell_type": "markdown",
   "metadata": {},
   "source": [
    "A more advanced example is to convert the coordinates to altitude/azimuth as seen from a particular observer at a specific time (in UTC):"
   ]
  },
  {
   "cell_type": "code",
   "execution_count": 5,
   "metadata": {},
   "outputs": [],
   "source": [
    "from astropy.coordinates import EarthLocation, AltAz\n",
    "from astropy.time import Time"
   ]
  },
  {
   "cell_type": "code",
   "execution_count": 6,
   "metadata": {},
   "outputs": [],
   "source": [
    "seattle = EarthLocation(lat=47.6062 * u.deg, lon=122.3321 *u.deg, height=0 * u.m)\n",
    "utc_time = Time.now()"
   ]
  },
  {
   "cell_type": "code",
   "execution_count": 22,
   "metadata": {},
   "outputs": [],
   "source": [
    "coord_altaz = m42.transform_to(AltAz(obstime=utc_time, location=seattle))"
   ]
  },
  {
   "cell_type": "code",
   "execution_count": 23,
   "metadata": {},
   "outputs": [
    {
     "data": {
      "text/latex": [
       "$62^\\circ51{}^\\prime51.7927{}^{\\prime\\prime}$"
      ],
      "text/plain": [
       "<Longitude 62.86438685 deg>"
      ]
     },
     "execution_count": 23,
     "metadata": {},
     "output_type": "execute_result"
    }
   ],
   "source": [
    "coord_altaz.az"
   ]
  },
  {
   "cell_type": "code",
   "execution_count": 24,
   "metadata": {},
   "outputs": [
    {
     "data": {
      "text/latex": [
       "$-29^\\circ20{}^\\prime13.2751{}^{\\prime\\prime}$"
      ],
      "text/plain": [
       "<Latitude -29.33702087 deg>"
      ]
     },
     "execution_count": 24,
     "metadata": {},
     "output_type": "execute_result"
    }
   ],
   "source": [
    "coord_altaz.alt"
   ]
  },
  {
   "cell_type": "markdown",
   "metadata": {},
   "source": [
    "## 3D coordinates\n",
    "\n",
    "The above examples are for coordinates on the sky, which are assumed to be at infinity. However, it is also possible to specify a third coordinate (the distance to the object):"
   ]
  },
  {
   "cell_type": "code",
   "execution_count": 25,
   "metadata": {},
   "outputs": [
    {
     "data": {
      "text/plain": [
       "<SkyCoord (ICRS): (ra, dec, distance) in (deg, deg, kpc)\n",
       "    (83.5, 22., 2.)>"
      ]
     },
     "execution_count": 25,
     "metadata": {},
     "output_type": "execute_result"
    }
   ],
   "source": [
    "crab = SkyCoord('05h34m 22d00m', distance=2 * u.kpc)\n",
    "crab"
   ]
  },
  {
   "cell_type": "markdown",
   "metadata": {},
   "source": [
    "We can convert this to the Galactocentric frame, which is a frame that represents coordinates in cartesian coordinates by default (centered on the center of the Milky Way)."
   ]
  },
  {
   "cell_type": "code",
   "execution_count": 26,
   "metadata": {},
   "outputs": [
    {
     "data": {
      "text/plain": [
       "<SkyCoord (Galactocentric: galcen_coord=<ICRS Coordinate: (ra, dec) in deg\n",
       "    (266.4051, -28.936175)>, galcen_distance=8.122 kpc, galcen_v_sun=(12.9, 245.6, 7.78) km / s, z_sun=20.8 pc, roll=0.0 deg): (x, y, z) in kpc\n",
       "    (-10.10576999, -0.15620074, -0.17958032)>"
      ]
     },
     "execution_count": 26,
     "metadata": {},
     "output_type": "execute_result"
    }
   ],
   "source": [
    "crab_galcen = crab.transform_to('galactocentric')\n",
    "crab_galcen"
   ]
  },
  {
   "cell_type": "code",
   "execution_count": 27,
   "metadata": {},
   "outputs": [
    {
     "data": {
      "text/latex": [
       "$-10.10577 \\; \\mathrm{kpc}$"
      ],
      "text/plain": [
       "<Quantity -10.10576999 kpc>"
      ]
     },
     "execution_count": 27,
     "metadata": {},
     "output_type": "execute_result"
    }
   ],
   "source": [
    "crab_galcen.x"
   ]
  },
  {
   "cell_type": "code",
   "execution_count": 28,
   "metadata": {},
   "outputs": [
    {
     "data": {
      "text/latex": [
       "$-0.15620074 \\; \\mathrm{kpc}$"
      ],
      "text/plain": [
       "<Quantity -0.15620074 kpc>"
      ]
     },
     "execution_count": 28,
     "metadata": {},
     "output_type": "execute_result"
    }
   ],
   "source": [
    "crab_galcen.y"
   ]
  },
  {
   "cell_type": "code",
   "execution_count": 29,
   "metadata": {},
   "outputs": [
    {
     "data": {
      "text/latex": [
       "$-0.17958032 \\; \\mathrm{kpc}$"
      ],
      "text/plain": [
       "<Quantity -0.17958032 kpc>"
      ]
     },
     "execution_count": 29,
     "metadata": {},
     "output_type": "execute_result"
    }
   ],
   "source": [
    "crab_galcen.z"
   ]
  },
  {
   "cell_type": "markdown",
   "metadata": {},
   "source": [
    "## Velocities/proper motions\n",
    "\n",
    "In addition to being able to represent fixed positions in space, it is also possible to add velocities to coordinates, for example to express radial velocity, proper motions, or 3D space motion. For example, to add a radial velocity and proper motion to a coordinate in the ICRS frame, you can do:"
   ]
  },
  {
   "cell_type": "code",
   "execution_count": 30,
   "metadata": {},
   "outputs": [
    {
     "data": {
      "text/plain": [
       "<SkyCoord (ICRS): (ra, dec, distance) in (deg, deg, kpc)\n",
       "    (13.443, -33.298, 1.)\n",
       " (pm_ra_cosdec, pm_dec, radial_velocity) in (mas / yr, mas / yr, km / s)\n",
       "    (100., -80., 20.)>"
      ]
     },
     "execution_count": 30,
     "metadata": {},
     "output_type": "execute_result"
    }
   ],
   "source": [
    "coord4 = SkyCoord(ra=13.443 * u.deg,\n",
    "                  dec=-33.298 * u.deg, distance=1 * u.kpc,\n",
    "                  pm_ra_cosdec=0.1 * u.arcsec / u.yr,\n",
    "                  pm_dec=-0.08 * u.arcsec / u.yr,\n",
    "                  radial_velocity=20 * u.km / u.s)\n",
    "coord4"
   ]
  },
  {
   "cell_type": "markdown",
   "metadata": {},
   "source": [
    "Velocities are then correctly propagated when transforming to different systems:"
   ]
  },
  {
   "cell_type": "code",
   "execution_count": 31,
   "metadata": {},
   "outputs": [
    {
     "data": {
      "text/plain": [
       "<SkyCoord (Galactic): (l, b, distance) in (deg, deg, kpc)\n",
       "    (298.40424611, -83.80972028, 1.)\n",
       " (pm_l_cosb, pm_b, radial_velocity) in (mas / yr, mas / yr, km / s)\n",
       "    (-92.92161928, 88.12248675, 20.)>"
      ]
     },
     "execution_count": 31,
     "metadata": {},
     "output_type": "execute_result"
    }
   ],
   "source": [
    "coord4.transform_to('galactic')"
   ]
  },
  {
   "cell_type": "code",
   "execution_count": 32,
   "metadata": {},
   "outputs": [
    {
     "data": {
      "text/plain": [
       "<SkyCoord (Galactocentric: galcen_coord=<ICRS Coordinate: (ra, dec) in deg\n",
       "    (266.4051, -28.936175)>, galcen_distance=8.122 kpc, galcen_v_sun=(12.9, 245.6, 7.78) km / s, z_sun=20.8 pc, roll=0.0 deg): (x, y, z) in kpc\n",
       "    (-8.07322429, -0.0948479, -0.97349744)\n",
       " (v_x, v_y, v_z) in km / s\n",
       "    (-175.91563317, -331.14327184, 33.4245431)>"
      ]
     },
     "execution_count": 32,
     "metadata": {},
     "output_type": "execute_result"
    }
   ],
   "source": [
    "coord4.transform_to('galactocentric')"
   ]
  },
  {
   "cell_type": "markdown",
   "metadata": {},
   "source": [
    "## Separations\n",
    "\n",
    "Given two coordinates, we can determine the separation between them on the sky:"
   ]
  },
  {
   "cell_type": "code",
   "execution_count": 33,
   "metadata": {},
   "outputs": [
    {
     "name": "stdout",
     "output_type": "stream",
     "text": [
      "<SkyCoord (ICRS): (ra, dec) in deg\n",
      "    (13.443, -33.298)>\n",
      "<SkyCoord (ICRS): (ra, dec) in deg\n",
      "    (199.59166667, -21.72611111)>\n"
     ]
    }
   ],
   "source": [
    "print(coordl)\n",
    "print(coord3)"
   ]
  },
  {
   "cell_type": "code",
   "execution_count": 34,
   "metadata": {},
   "outputs": [
    {
     "data": {
      "text/latex": [
       "$124^\\circ39{}^\\prime50.9389{}^{\\prime\\prime}$"
      ],
      "text/plain": [
       "<Angle 124.66414969 deg>"
      ]
     },
     "execution_count": 34,
     "metadata": {},
     "output_type": "execute_result"
    }
   ],
   "source": [
    "coordl.separation(coord3)"
   ]
  },
  {
   "cell_type": "markdown",
   "metadata": {},
   "source": [
    "We can also do this in 3D to find a physical distance:"
   ]
  },
  {
   "cell_type": "code",
   "execution_count": 35,
   "metadata": {},
   "outputs": [
    {
     "data": {
      "text/latex": [
       "$2.1829591 \\; \\mathrm{kpc}$"
      ],
      "text/plain": [
       "<Distance 2.18295914 kpc>"
      ]
     },
     "execution_count": 35,
     "metadata": {},
     "output_type": "execute_result"
    }
   ],
   "source": [
    "crab_galcen.separation_3d(coord4)"
   ]
  },
  {
   "cell_type": "markdown",
   "metadata": {},
   "source": [
    "## Using arrays in coordinates\n",
    "\n",
    "A common use case is the need to represent large catalogs of coordinates - in this case, it is very inefficient to use a ``SkyCoord`` object for each source. Instead, you can store arrays of coordinates inside ``SkyCoord``:"
   ]
  },
  {
   "cell_type": "code",
   "execution_count": 36,
   "metadata": {},
   "outputs": [
    {
     "data": {
      "text/plain": [
       "<SkyCoord (ICRS): (ra, dec) in deg\n",
       "    [(1., 4.), (2., 5.), (3., 6.)]>"
      ]
     },
     "execution_count": 36,
     "metadata": {},
     "output_type": "execute_result"
    }
   ],
   "source": [
    "coord5 = SkyCoord(ra=[1, 2, 3] * u.deg, dec=[4, 5, 6] * u.deg)\n",
    "coord5"
   ]
  },
  {
   "cell_type": "markdown",
   "metadata": {},
   "source": [
    "Most of the operations shown above should then also work seamlessly with arrays:"
   ]
  },
  {
   "cell_type": "code",
   "execution_count": 37,
   "metadata": {},
   "outputs": [
    {
     "data": {
      "text/latex": [
       "[$39^\\circ06{}^\\prime44.7372{}^{\\prime\\prime}$\n",
       " $39^\\circ48{}^\\prime11.7258{}^{\\prime\\prime}$\n",
       " $40^\\circ31{}^\\prime39.2766{}^{\\prime\\prime}$]"
      ],
      "text/plain": [
       "<Angle [39.112427  , 39.80325718, 40.52757684] deg>"
      ]
     },
     "execution_count": 37,
     "metadata": {},
     "output_type": "execute_result"
    }
   ],
   "source": [
    "coord5.separation(coordl).to(u.deg)"
   ]
  },
  {
   "cell_type": "markdown",
   "metadata": {},
   "source": [
    "## Cross matching arrays of coordinates\n",
    "\n",
    "The ``astroopy.coordinates`` framework also provides functionality to find the closest coordinates in a catalog to a desired set of other coordinates. As for the case of ``separation()`` above, both a match on sky as well as in 3D are provided. More about examples for separations, offsets, matching catalogs, and search around coordinates can be found in the [documentation](https://docs.astropy.org/en/stable/coordinates/matchsep.html)."
   ]
  },
  {
   "cell_type": "code",
   "execution_count": 38,
   "metadata": {},
   "outputs": [
    {
     "data": {
      "text/plain": [
       "(array([2, 0, 1], dtype=int64),\n",
       " <Angle [0.00997564, 0.09961947, 0.00298357] deg>,\n",
       " <Quantity [1.74107772e-04, 1.73868753e-03, 5.20730447e-05]>)"
      ]
     },
     "execution_count": 38,
     "metadata": {},
     "output_type": "execute_result"
    }
   ],
   "source": [
    "catalog = SkyCoord(ra=[2.1, 3.003, 1.01, 7] * u.deg, dec=[5, 6, 4, 4] * u.deg)\n",
    "coord5.match_to_catalog_sky(catalog)"
   ]
  },
  {
   "cell_type": "markdown",
   "metadata": {},
   "source": [
    "## Solar system bodies\n",
    "\n",
    "A [get_body](https://docs.astropy.org/en/stable/api/astropy.coordinates.get_body.html) convenience function is provided in astropy.coordinates to retrieve the 3D coordinates of solar system bodies. This can be done either using default built-in ephemeris, or the more accurate JPL ephemeris (see the ``get_body`` documentation). For now, we will use the default:"
   ]
  },
  {
   "cell_type": "code",
   "execution_count": 8,
   "metadata": {},
   "outputs": [],
   "source": [
    "from astropy.time import Time\n",
    "from astropy.coordinates import get_body\n",
    "mars = get_body('mars', time=Time.now())"
   ]
  },
  {
   "cell_type": "code",
   "execution_count": 40,
   "metadata": {},
   "outputs": [
    {
     "data": {
      "text/plain": [
       "<SkyCoord (GCRS: obstime=2021-04-28 22:27:02.980935, obsgeoloc=(0., 0., 0.) m, obsgeovel=(0., 0., 0.) m / s): (ra, dec, distance) in (deg, deg, AU)\n",
       "    (93.31613117, 24.85282864, 2.0040296)>"
      ]
     },
     "execution_count": 40,
     "metadata": {},
     "output_type": "execute_result"
    }
   ],
   "source": [
    "mars"
   ]
  },
  {
   "cell_type": "markdown",
   "metadata": {},
   "source": [
    "\n",
    "<section class=\"challenge panel panel-success\">\n",
    "<div class=\"panel-heading\">\n",
    "<h2><span class=\"fa fa-pencil\"></span> Challenge</h2>\n",
    "</div>\n",
    "\n",
    "\n",
    "<div class=\"panel-body\">\n",
    "\n",
    "<p>The answer to some of the following can be found in <a href=\"https://docs.astropy.org/en/stable/time/index.html\">the documentation</a>!</p>\n",
    "<ol>\n",
    "<li>Find the coordinates of the Crab Nebula (M1) in ICRS coordinates, and convert them to Galactic Coordinates.</li>\n",
    "<li>Find the separation on the sky between the Crab Nebula and the star 'T Tauri' in degrees</li>\n",
    "<li>Generate random positions in the Galactic plane (between l=0 and l=360 and b=-1 and b=+1), then make a plot showing the position on the sky of these points in FK5.</li>\n",
    "<li>Make a plot showing the altitude above the horizon of the Sun as seen from Seattle over the course of today.</li>\n",
    "</ol>\n",
    "\n",
    "</div>\n",
    "\n",
    "</section>\n"
   ]
  },
  {
   "cell_type": "code",
   "execution_count": 41,
   "metadata": {},
   "outputs": [
    {
     "data": {
      "text/plain": [
       "<SkyCoord (ICRS): (ra, dec) in deg\n",
       "    (83.63308333, 22.0145)>"
      ]
     },
     "execution_count": 41,
     "metadata": {},
     "output_type": "execute_result"
    }
   ],
   "source": [
    "m1 = SkyCoord.from_name('M1')\n",
    "m1"
   ]
  },
  {
   "cell_type": "code",
   "execution_count": 42,
   "metadata": {},
   "outputs": [
    {
     "data": {
      "text/plain": [
       "<SkyCoord (Galactic): (l, b) in deg\n",
       "    (184.55745788, -5.78435671)>"
      ]
     },
     "execution_count": 42,
     "metadata": {},
     "output_type": "execute_result"
    }
   ],
   "source": [
    "m1.transform_to('galactic')"
   ]
  },
  {
   "cell_type": "code",
   "execution_count": null,
   "metadata": {},
   "outputs": [],
   "source": []
  },
  {
   "cell_type": "code",
   "execution_count": 46,
   "metadata": {},
   "outputs": [
    {
     "data": {
      "text/plain": [
       "<SkyCoord (ICRS): (ra, dec) in deg\n",
       "    (65.49763472, 19.53512222)>"
      ]
     },
     "execution_count": 46,
     "metadata": {},
     "output_type": "execute_result"
    }
   ],
   "source": [
    "TTau = SkyCoord.from_name('T Tau')\n",
    "TTau"
   ]
  },
  {
   "cell_type": "code",
   "execution_count": 47,
   "metadata": {},
   "outputs": [
    {
     "data": {
      "text/latex": [
       "$17^\\circ07{}^\\prime33.0804{}^{\\prime\\prime}$"
      ],
      "text/plain": [
       "<Angle 17.12585567 deg>"
      ]
     },
     "execution_count": 47,
     "metadata": {},
     "output_type": "execute_result"
    }
   ],
   "source": [
    "m1.separation(TTau)"
   ]
  },
  {
   "cell_type": "code",
   "execution_count": null,
   "metadata": {},
   "outputs": [],
   "source": []
  },
  {
   "cell_type": "code",
   "execution_count": 7,
   "metadata": {},
   "outputs": [],
   "source": [
    "from astropy import units as u\n",
    "from astropy.coordinates import SkyCoord\n",
    "import numpy as np\n",
    "import matplotlib.axes as ax"
   ]
  },
  {
   "cell_type": "code",
   "execution_count": 54,
   "metadata": {},
   "outputs": [],
   "source": [
    "l_rand = np.random.rand(200)*360 * u.degree\n",
    "b_rand = (np.random.rand(200)*2-1) * u.degree\n",
    "\n",
    "gal_rand = SkyCoord(l_rand, b_rand, frame = 'galactic')"
   ]
  },
  {
   "cell_type": "code",
   "execution_count": 77,
   "metadata": {},
   "outputs": [
    {
     "data": {
      "text/plain": [
       "[<matplotlib.lines.Line2D at 0x292103c7d30>]"
      ]
     },
     "execution_count": 77,
     "metadata": {},
     "output_type": "execute_result"
    },
    {
     "data": {
      "image/png": "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\n",
      "text/plain": [
       "<Figure size 720x432 with 1 Axes>"
      ]
     },
     "metadata": {
      "needs_background": "light"
     },
     "output_type": "display_data"
    }
   ],
   "source": [
    "from matplotlib import pyplot as plt\n",
    "\n",
    "FK5_rand = gal_rand.transform_to(FK5(equinox = 'J2020'))\n",
    "\n",
    "plt.xlabel('ra (degrees)')\n",
    "plt.ylabel('dec (degrees)')\n",
    "\n",
    "plt.plot(FK5_rand.ra, FK5_rand.dec, 's')"
   ]
  },
  {
   "cell_type": "code",
<<<<<<< Updated upstream
   "execution_count": 115,
=======
   "execution_count": 86,
>>>>>>> Stashed changes
   "metadata": {},
   "outputs": [
    {
     "data": {
      "text/plain": [
       "(59334.0, 59335.0)"
      ]
     },
<<<<<<< Updated upstream
     "execution_count": 115,
=======
     "execution_count": 86,
>>>>>>> Stashed changes
     "metadata": {},
     "output_type": "execute_result"
    }
   ],
   "source": [
    "from astropy.coordinates import get_sun\n",
    "\n",
    "t_start = Time('2021-04-30 00:00:00', scale = 'utc')\n",
    "t_end = Time('2021-05-01 00:00:00', scale = 'utc')\n",
    "\n",
    "t_start.mjd, t_end.mjd"
   ]
  },
  {
   "cell_type": "code",
<<<<<<< Updated upstream
   "execution_count": 116,
=======
   "execution_count": 87,
>>>>>>> Stashed changes
   "metadata": {},
   "outputs": [],
   "source": [
    "t_range = Time(np.linspace(59334.0, 59335.0, 1440), format='mjd')\n",
    "\n",
    "sol = get_sun(t_range)"
   ]
  },
  {
   "cell_type": "code",
<<<<<<< Updated upstream
   "execution_count": 121,
=======
   "execution_count": 88,
>>>>>>> Stashed changes
   "metadata": {},
   "outputs": [],
   "source": [
    "## Redmond_home = EarthLocation(lat = 47.67 * u.deg, lon = -122.124 * u.deg, height = 243.84 * u.m)\n",
    "utcoffset = -7 * u.hour\n",
    "\n",
<<<<<<< Updated upstream
    "sun = sol.transform_to(AltAz(obstime = t_range -utcoffset, location = seattle))\n",
    "## sun = get_body('sun', time = t_range)"
=======
    "sun = sol.transform_to(AltAz(obstime = t_range - utcoffset, location = seattle))"
>>>>>>> Stashed changes
   ]
  },
  {
   "cell_type": "code",
<<<<<<< Updated upstream
   "execution_count": 122,
=======
   "execution_count": 94,
>>>>>>> Stashed changes
   "metadata": {},
   "outputs": [
    {
     "data": {
      "text/plain": [
<<<<<<< Updated upstream
       "[<matplotlib.lines.Line2D at 0x1edca280eb0>]"
      ]
     },
     "execution_count": 122,
=======
       "[<matplotlib.lines.Line2D at 0x1edcaad6b50>]"
      ]
     },
     "execution_count": 94,
>>>>>>> Stashed changes
     "metadata": {},
     "output_type": "execute_result"
    },
    {
     "data": {
      "image/png": "iVBORw0KGgoAAAANSUhEUgAAAmYAAAFzCAYAAACU38U/AAAAOXRFWHRTb2Z0d2FyZQBNYXRwbG90bGliIHZlcnNpb24zLjQuMSwgaHR0cHM6Ly9tYXRwbG90bGliLm9yZy/Z1A+gAAAACXBIWXMAAAsTAAALEwEAmpwYAABI20lEQVR4nO3ddXhUZ/7+8fcnTggQJAR3ggQrUOpODSjSUtl26+3u1tutG3XvVrbbduvuBlSAulDDJcGdUCRIBEL8+f2RoZsvPyRAJs/M5H5d11yZOWeSuedch5kP5zFzziEiIiIi/kX5DiAiIiIiFVSYiYiIiIQIFWYiIiIiIUKFmYiIiEiIUGEmIiIiEiJUmImIiIiEiBjfAapDkyZNXLt27XzHEBEREdmtqVOnrnfOpexoX0QUZu3atWPKlCm+Y4iIiIjslpkt39k+r02ZZpZsZh+a2Twzm2tmB5lZIzP7yswWBn429JlRREREpKb47mP2JDDeOdcV6A3MBW4CvnHOdQa+CTwWERERiXjeCjMzawAcDrwE4Jwrds7lAMOA1wJPew0Y7iOfiIiISE3zecWsPZANvGJm083sRTOrC6Q651YHnrMGSPWWUERERKQG+SzMYoC+wLPOuf2ALWzXbOkqVljf4SrrZvY3M5tiZlOys7ODHlZEREQk2HwWZllAlnPu98DjD6ko1NaaWXOAwM91O/pl59zzzrn+zrn+KSk7HHEqIiIiEla8FWbOuTXASjPrEth0DDAHGAucG9h2LjDGQzwRERGRGud7HrMrgLfMLA5YApxPRbH4vpldCCwHTvOYT0RERKTGeC3MnHMzgP472HVMDUcRERER8c73PGYiIiIiEqDCTERERCRE+O5jJiIiIjWoqLSMP3IKyd1aQkFRKaXljrrx0STGxdCiQR0aJMb6jlirqTATERGJUOXljplZOUxaupEpyzcx5488/sjditvhDKEVkhNj6dw0ib5tG9KvTUMO7tSEpHiVCzVFR1pERCSCOOeYvjKHj6dl8WXmWtblFwHQrnEi/do2ZGSTVrRplEjDurHUjYshOsooKC4jv7CUVTkFLN9QwNzVebwycRnPlS0hLiaKQzs1YUiv5gzq2ZyE2GjP7zCyqTATERGJAIUlZXwyfRVv/LqcOavzqBMbzZFdUjg+vRmHdGpCSr34Pf57M1bm8GXmWiZkruHbeeu469M5nNK3FRce1p6WyXWC9E5qN3O7up4ZJvr37++mTJniO4aIiEiNKyot4/3JK/nPd4tYm1dE12b1OPugtgzr07LamiCdc/y6eANvTVrBhIw1mMHIfq259MiOtG6UWC2vUZuY2VTn3I6mC9MVMxERkXDknGN8xhru/Xwuq3K2sn+7hjx+Wh8O6tgYM6vW1zIzDu7UhIM7NWFVzlae/X4R70/O4qOpWVx4WHsuP6oTddUPrVroipmIiEiYWZK9mTvGZvLTwvV0a16fm0/symGdm1R7QbYrq3O38uiEBXw0LYvU+vHcOrg7J/VqXqMZwtWurpipMBMREQkT5eWOV39ZxoPj5xEfHcW1x6Xx1wPbEhPtb1rSqcs3cefYTGavyuX49FTuG9GTJkl71p+ttlFhJiIiEuZW527lug9m8vOiDRzTtSkPnNKTpvUSfMcCoKzc8cJPS3jsywUkJcTwwMk9OT69me9YIWtXhZlm/hcREQlx381bxwlP/MT0FTk8eHJPXjy3f8gUZQDRUcY/jujIZ1ceSovkBP7+xlTu+3wOJWXlvqOFHRVmIiIiIaq83PHk1wu54LXJtEyuwxdXHsYZA9qEbD+utNR6fHTJwZxzUFte+GkpZ77wG2vzCn3HCisqzEREREJQfmEJf3tjCo9/vYARfVry0SUH065JXd+xdis+Jpq7h/XgyTP6kPlHHkOemsisrBzfscKGCjMREZEQszavkFP/+yvfz8/mrqHp/Ou03tSJC68Z94f1acnoyw4hPiaK0577lfEZa3xHCgsqzERERELIgrX5jHj6Z1ZuLODl8/bn3IPbhWzT5e6kpdbjk0sPoUuz+lzy1lRe+HGJ70ghT4WZiIhIiPh9yQZGPvsLpeWO9/9xEIenpfiOtM9S6sXz7sUHckJ6M+77Yi4PjptHJMwIESwqzERERELADwuyOeflSTStn8DHlx5MeosGviNVmzpx0Tx9Zl/OPKAN//1hMaPGZFJeruJsR7R+goiIiGdfz1nLpW9No1PTJN686AAa1Y3zHanaRUUZ9w3vQb34GJ77cQlbikt5+JReXifHDUUqzERERDwan7Gay9+eTnqL+rx+wQE0SIz1HSlozIybTuxKvYQYHv1yAcWl5Txxeh8VZ5WoMBMREfFkfMZqLnt7Or1bNeDVCwZQPyFyi7JtzIzLj+5MfEw0930xl7joKB49tTdRUeE5wKG6qTATERHx4IcF2VzxTkVR9vqFB5AUX7u+ki8+vAPFZeU8MmE+cTFR3D+ip4ozVJiJiIjUuMnLNvL3N6bQqWk9Xjl/QK0ryra57KhOFJWU8e9vFxEXE8VdQ9PDdmqQ6lI7zwQRERFPMlblcsErk2mRXIc3LhxAgzqR33y5K9ccm0ZRaTnP/biEholxXHNsmu9IXqkwExERqSFLsjdzzsuTqF8nljcvPIAmSfG+I3m3bUDApoJinvxmIU3rx3PWAW19x/JGhZmIiEgNWL+5iPNemYwBb150AC2S6/iOFDLMjPtH9GT95mJuH51Bk6R4jk9v5juWFxqfKiIiEmRbi8u46LUprM0r5IVz+9M+DBYjr2kx0VH858z96NUqmSvfmc7kZRt9R/JChZmIiEgQlZU7rn5vOjOzcnjyjP3o26ah70ghKzEuhpfP25+WyXW48NXJLMne7DtSjVNhJiIiEkT3fT6XCZlruX1wd07oUTub5/ZEo7pxvHbBAGKio7jwtSnkFpT4jlSjVJiJiIgEyRu/LuPln5dy/iHtuODQ9r7jhI3WjRJ57ux+ZG0q4JK3plJSVu47Uo1RYSYiIhIEvy7ewF2fzuGYrk25bXB333HCzv7tGvHAyb34ZfEG7hibiXO1Y9FzjcoUERGpZis3FnDZ29No16QuT5zRh2jNaL9XRvZrxaJ1m/nvD4vp3DSJ8w+J/KuOumImIiJSjQqKS/nbG1MpLSvnhXP6U68WrH8ZTDcc34Vju6dyz2dzmLhwve84QafCTEREpJo457j+g1nMX5PHU2f21bQY1SAqynji9D50aprEFe9MI2tTge9IQaXCTEREpJo88/1iPp+9mptO7MoRaSm+40SMuvEx/Pev/Sgtc1zy5jQKS8p8RwoaFWYiIiLV4McF2Tz65XyG92nBxYd18B0n4nRISeKx0/swe1Uuo8ZkROxgABVmIiIi++iPnK1c9e50uqTW44GTe2Gmzv7BcGz3VK44uhPvT8ninUkrfccJChVmIiIi+6CkrJzL355GSZnjmbP6Uicu2nekiHb1wDQOT0vhzrGZzFiZ4ztOtVNhJiIisg8eHDePaStyeOiUXnRISfIdJ+JFRxn/PqMPqQ3iufTNqWzaUuw7UrVSYSYiIrKXxs1ezUsTl3Lewe0Y3Ku57zi1RnJiHE+f2ZfszUVc/+HMiOpvpsJMRERkLyxdv4XrP5xFn9bJ3DKom+84tU6vVhXH/eu563hp4lLfcaqNCjMREZE9VFhSxqVvTSMm2nj6rL7Exejr1IfzDm7Hcd1TeWj8vIjpb6YzSUREZA89OG4ec1fn8dhpvWmZXMd3nFrLzHhkZG+a1kvg8renkbu1xHekfabCTEREZA98M3ctr/6yjPMPacfRXVN9x6n1GiTG8tSZ+7Emt5AbP5wV9v3NVJiJiIhU0bq8Qq7/cBbdmtfnphO7+o4jAX3bNOSGE7owPnMNr/+63HecfaLCTEREpArKyx3/fH8mBcWlPPWXPsTHaL6yUHLRoR04qksK930xl/lr8n3H2WsqzERERKrg+Z+WMHHReu44KZ1OTev5jiPbiYoyHh7Zm3rxMVz17nSKSsNzPU0VZiIiIrsxc2UOj06Yz4k9mnHG/q19x5GdSKkXzyOn9mLemnweGT/fd5y9osJMRERkFzYXlXLlu9NpWi+eB7UOZsg7umsqZx/YlhcnLmXiwvW+4+wxFWYiIiK7cOfYTFZuLOCJM/ajQWKs7zhSBbcM6kbHlLpc+8GMsFuySYWZiIjITkzIXMOHU7O49MhODGjfyHccqaI6cdE8ecZ+bNxSzM0fzw6rKTRUmImIiOzA+s1F3PLxbNJb1OfKYzr7jiN7qEfLBlx7XMUUGh9MyfIdp8pUmImIiGzHOcfNH88mv6iUx0/voyWXwtTFh3XgwA6NuPPTTJat3+I7TpXoTBMREdnOR9NW8dWctVx/XBfSUjU1RriKjjIeO60P0VHGdR/MpKw89Js0VZiJiIhUkrWpgLvGZjKgfSMuOLS97ziyj1ok1+HOk9KZsnwTL09c6jvObqkwExERCSgvd1z/wSzKneNfp/YmOkpTY0SCk/u2ZGC3VB75cj6L1oX2qgAqzERERAJe+WUZvy7ZwB0npdO6UaLvOFJNzIz7T+5BYlw0174/k9Kyct+RdkqFmYiICLBoXT4PjZ/HwG5NObV/K99xpJo1rZfAvcN7MDMrl+d+XOI7zk6pMBMRkVqvtKyca9+fSd24aO4/uadm949QQ3q1YHCv5jzx9QLmrs7zHWeHVJiJiEit9+LEpczMyuXuYT1oWi/BdxwJonuG9aBBnViufX8mxaWh16SpwkxERGq1xdmbeeyrBRyfnsqQXs19x5Ega1Q3jgdO7sWc1Xn859uFvuP8f7wXZmYWbWbTzeyzwOP2Zva7mS0ys/fMLM53RhERiUxl5Y4bPpxFYlw09wzvoSbMWuLY7qmc3LclT3+/mFlZOb7j/B/eCzPgKmBupccPAY875zoBm4ALvaQSEZGI9+ovy5i6fBN3nNRdTZi1zB0npZOSFM91H8ykqLTMd5w/eS3MzKwVMBh4MfDYgKOBDwNPeQ0Y7iWciIhEtGXrt/DIhHkc07Upw/u09B1HaliDOrE8cHJPFqzdzNPfLfYd50++r5g9AdwAbOt91xjIcc6VBh5nAfrXIiIi1aq83HHDR7OIjY7ivhEahVlbHdW1KSfv15JnvlvEnD9CY5Smt8LMzIYA65xzU/fy9/9mZlPMbEp2dnY1pxMRkUj25u/LmbR0I7cP6U6zBmrCrM1GndSd5MQ4rv9wJiUhMPGszytmhwBDzWwZ8C4VTZhPAslmFhN4Titg1Y5+2Tn3vHOuv3Ouf0pKSk3kFRGRCLByYwEPjpvH4WkpnNpPE8nWdsmJcdw7PJ3MP/J4PgQmnvVWmDnnbnbOtXLOtQPOAL51zp0FfAeMDDztXGCMp4giIhJhnHPc9PEsosx4QBPJSsAJPZozuGdznvx6ofe1NH33MduRG4F/mtkiKvqcveQ5D2tyC7nq3emsyyv0HUVERPbBu5NX8vOiDdw8qCstk+v4jiMh5M6h6dSNj+Y/3y7ymiNm908JPufc98D3gftLgAE+82yvoLiUcRlrKC4t59m/9vMdR0RE9sLavELu/3wuB3VozJkD2viOIyEmpV48b1x4AJ2aJnnNEYpXzEJOh5QkrjqmM+My1jAhc43vOCIishfuHJtJcVm5mjBlp3q0bEBCbLTXDCrMquhvh3ega7N6jBqTQV5hie84IiKyB77MXMO4jDVcNbAz7ZrU9R1HZKdUmFVRbHQUD53Si+z8Ih4aN893HBERqaL8whJGjcmkW/P6XHxYB99xRHZJhdke6N06mfMPac9bv69g0tKNvuOIiEgVPDx+PuvyC3nw5J7ERutrT0KbztA9dO1xabRqWIebP55FYUnorK0lIiL/v6nLN/Lm78s57+D29G6d7DuOyG6pMNtDiXEx3DeiJ4uzt/DMd36H1IqIyM4VlZZx00ezadGgDtcel+Y7jkiVqDDbC0ekpTBiv5Y88/1i5q/xOxGdiIjs2H+/X8LCdZu5d3gP6saHxOxQIrulwmwv3T6kO/XrxHLjR7MoK3e+44iISCWL1uXz9HeLOKl3C47q2tR3HJEqU2G2lxrVjWPUkO7MWJnDG78u8x1HREQCyssdN388mzpx0Ywa0t13HJE9osJsHwzr04LD01J4eMJ8VuVs9R1HRESAdyavYPKyTdw6uBsp9eJ9xxHZIyrM9oGZcd/wHjgHt30yG+fUpCki4tPavEIe/GIeB3dszKn9WvmOI7LHVJjto9aNErn2uDS+m5/NF7O1XJOIiE/bll26f4SWXZLwpMKsGpx3cDvSW9Tnrk8ztVyTiIgn385by7iMNVx5jJZdkvClwqwaxERHcf+InmRvLuJfE+b7jiMiUutsLS5j1JhMOjVN0rJLEtZUmFWT3q2TOefAtrz+23JmrszxHUdEpFZ56tuFZG3ayn3DexAXo682CV86e6vRtcd3ISUpnls+mU1pWbnvOCIitcKCtfk8/+MSRvZrxQEdGvuOI7JPVJhVo/oJsdxxUjqZf+Tx2q/LfccREYl4zjlu+ySDpIQYbj6xq+84IvtMhVk1G9SzGUd2SeGxL+ezOldzm4mIBNOHU7OYtGwjN5/YlcZJmrNMwp8Ks2pmZtwzrAdlznHn2EzfcUREItamLcXc/8Vc+rdtyKn9WvuOI1ItVJgFQetGiVx5TGcmZK7l6zlrfccREYlID46bR35hKfeO6EFUlOYsk8igwixILj6sA2mpSdwxNpOC4lLfcUREIsrkZRt5b8pKLjysPV2b1fcdR6TaqDALktjA3GarcrbyxNcLfccREYkYJWXl3PrJbFom1+GqYzr7jiNSrVSYBVH/do04Y//WvDRxKXP+yPMdR0QkIrw0cSkL1m7mrqHpJMbF+I4jUq1UmAXZTSd2pUGdWG4dPZvyci1yLiKyL1ZuLOCJrxdwXPdUBnZP9R1HpNqpMAuy5MQ4bh3Ujekrcnh70grfcUREwpYLjHaPMuOOoem+44gEhQqzGnBy35Yc1KExD42fx7r8Qt9xRETC0pdz1vLNvHVcMzCNlsl1fMcRCQoVZjXAzLh3RA8KS8p44It5vuOIiISdLUWl3Dk2k67N6nHeIe18xxEJGhVmNaRjShJ/P7wjn0xfxW9LNviOIyISVp74egGrcwu5b0RPYqP11SWRS2d3DbrsqE60TK7D7aMzKNEi5yIiVTJvTR4v/7yMvwxoTb+2DX3HEQkqFWY1qE5cNHcNTWfhus28PHGp7zgiIiHPOceo0ZnUT4jhhuO1SLlEPhVmNWxg91QGdmvKk98s5I8cLXIuIrIro2esYtKyjdx4Qlca1o3zHUck6FSYeXDHSemUlTvu+WyO7ygiIiErr7CE+z6fR+/WyZzWX4uUS+2gwsyD1o0SueLoTozLWMMPC7J9xxERCUmPf7WADVuKuHeYFimX2kOFmScXH96BDk3qcseYDApLynzHEREJKXP+yOO1X5Zx1gFt6Nmqge84IjVGhZkn8THR3DUsnWUbCnjuhyW+44iIhAznHKPGZJCcGMd1x3XxHUekRqkw8+iwzikM7tWcp79fxPINW3zHEREJCR9PW8WU5Zu46YSuJCeqw7/ULirMPLt9cHdio4w7x2binBY5F5HaLXdrCQ+Mm8t+bZIZ2a+V7zgiNU6FmWfNGiRwzbFpfDc/my/nrPUdR0TEq8e/WsDGLcXcow7/UkupMAsB5x7cji6p9bj70zkUFJf6jiMi4kXmH7m8/usyzj6wLT1aqsO/1E67LMzMrJWZXWdmY8xsspn9aGbPmNlgM1NRV01io6O4d0QPVuVs5alvF/mOIyJS48rLHaPGZNIwMY5/qsO/1GI7La7M7BXgZaAYeAj4C3Ap8DVwAjDRzA6viZC1wf7tGnFK31a8+NMSFq3b7DuOiEiN+nBaFlOXb+LmQd1oUCfWdxwRb2J2se9fzrmMHWzPAD42szigTXBi1U43D+rKV3PWMGpMBm9ddABm6l8hIpEvt6CEB8fNo3/bhpy8X0vfcUS82ukVs8pFmZnVMbMu2+0vds6p3a0aNUmK5/oTuvLL4g2MnfmH7zgiIjXi0S/nk1NQzN3q8C+y+87/ZjYUmAGMDzzuY2Zjg5yr1jpzQBt6tWrAfZ/PJb+wxHccEZGgmp2Vy5u/L+ecg9rRvUV933FEvKtKB/47gAFADoBzbgbQPniRarfoKOOeYT3I3lzE418t9B1HRCRoyssdt4/JoHHdeK45Ns13HJGQUJXCrMQ5l7vdNs2EGkS9Wydz5oA2vPrLUub8kec7johIUHwwdSUzVuZwy6Cu6vAvElCVwizTzM4Eos2ss5k9BfwS5Fy13g3HVyxFMmpMBuXlqoNFJLLkFBTz4Lh57N+uISPU4V/kT1UpzK4A0oEi4B0gD7g6iJkEaJAYy00ndmXK8k18NC3LdxwRkWr1yIT55BWWcvewHhqBLlLJbgsz51yBc+5W59z+zrn+gfuFNRGuthvZtxV92yTz4Lh55BZoIICIRIZZWTm8PWkF5x7Ujm7N1eFfpLKdzmNmZp+yi75kzrmhQUkkf4qKMu4Z3oOTnprIo1/O557hPXxHEhHZJ+XljttHZ9AkKZ6rj+3sO45IyNnVFbNHgX8BS4GtwAuB22ZgcfCjCUB6iwacc1A73vx9ObOzth+DISISXt6bspKZWbncOqgb9RPU4V9ke7uaYPYH59wPwCHOudOdc58GbmcCh9VcRPnncWk0rhvPbRoIICJhbNOWYh4aP48B7RsxrE8L33FEQlJVOv/XNbMO2x6YWXugbvAiyfbqJ8Ry6+CuzFyZw3tTVvqOIyKyVx6eMJ/8wlLuUYd/kZ2qSmF2DfC9mX1vZj8A36FRmTVueJ+WDGjfiIfGz2PTlmLfcURE9siMlTm8O3kF5x/cji7N6vmOIxKyqjIqczzQGbgKuBLo4pybEOxg8n+ZVawIkF9YysMT5vmOIyJSZWXljlFjMkhJiueqgerwL7IrOx2VuY2ZnbPdpt5mhnPu9SBlkp3o0qweFxzSjhcnLuW0/q3Zr01D35FERHbr3ckrmJWVy5Nn9KGeOvyL7FJVmjL3r3Q7DLgT0FQZnlw1MI2m9eK5fUwGZRoIICIhbuOWYh4eP58DOzRiaG91+BfZnao0ZV5R6XYx0BdICn402ZGk+BhuG9ydjFV5vP37ct9xRER26eHx89hSpBn+RaqqKlfMtrcFaF/dQaTqhvRqzsEdG/PIhPms31zkO46IyA5NW7GJdyev5IJD25OWqg7/IlWx28LMzD41s7GB22fAfGB00JPJTpkZdw/rwdaSMh4cp4EAIhJ6tnX4T60fz5XHqMO/SFXttvM/FSsAbFMKLHfOaVVtzzo1TeKiwzrw7PeLOWP/1vRv18h3JBGRP709aQUZq/J46i/7kRRfla8aEYGqNWUO2rYKgHPuZ+dclpk9tK8vbGatzew7M5tjZplmdlVgeyMz+8rMFgZ+aujhTlxxdCdaNEjgttEZlJaV+44jIgLAhs1FPDJ+Hgd3bMyQXs19xxEJK1UpzI7dwbYTq+G1S4FrnXPdgQOBy8ysO3AT8I1zrjPwTeCx7EBiXAyjTurOvDX5vP6rBgKISGh4cNw8CorLuHtYujr8i+yhnRZmZnaJmc0GupjZrEq3pcCsfX1h59xq59y0wP18YC7QEhgGvBZ42mvA8H19rUh2fHozDk9L4fGvFrAur9B3HBGp5aYu38QHU7O48LD2dGqqDv8ie2pXV8zeBk4CxgZ+brv1c879tTpDmFk7YD/gdyDVObc6sGsNkLqT3/mbmU0xsynZ2dnVGSesmBl3DU2nqLSc+7+Y6zuOiNRiZeWO20dn0Kx+AlcerQ7/IntjV4WZc84tAy4D8ivdMLNq62luZknAR8DVzrm87QMAO5xF1Tn3vHOuv3Ouf0pKSnXFCUvtm9TlH0d0YPSMP/h18QbfcUSklnrr9+XMWZ3HbUO6UVcd/kX2yu6umAFMBaYEfk6t9HifmVksFUXZW865jwOb15pZ88D+5sC66nitSHfJkZ1o1bAOo8ZkUKKBACJSw9ZvLuLRCfM5pFNjBvdUh3+RvbXTwsw5NyTws71zrkPg57Zbh319YavoEfoSMNc591ilXWOBcwP3zwXG7Otr1QZ14qK586R0Fq7bzCs/L/UdR0RqmYfGzWNrSRl3DdUM/yL7oioTzH5TlW174RDgbOBoM5sRuA0CHgSONbOFwMDAY6mCgd1TOaZrU574eiGrc7f6jiMitcTU5RsrOvwf2oFOTbVin8i+2NWozIRAX7ImZtYwML9Yo0BH/Zb7+sLOuYnOOXPO9XLO9QncvnDObXDOHeOc6+ycG+ic27ivr1Wb3Dk0nbJyx72fayCAiARfRYf/TJo3SOCKozv5jiMS9nZ1xezvVPQn6wpM43/9y8YA/wl+NNkbrRslcumRnfh81momLlzvO46IRLg/O/wP7q4O/yLVYFd9zJ50zrUHrtuuf1lv55wKsxD29yM60LZxIqPGZFBUWuY7johEqPWbi3hkwnwO7dSEQT2b+Y4jEhF21ZR5spmdDKzadr/yrQYzyh5KiI3mrqHpLFm/hRd/0kAAEQmOB8fNo7CkjDuHaoZ/keqyq+vOJ+1inwM+3sV+8ezILk05Pj2Vp75dyPD9WtIyuY7vSCISQaYu38iHU7P4xxEd1eFfpBrttDBzzp1fk0Gk+o06KZ1j/vU9d3+ayXNn9/cdR0QiRGlZuTr8iwRJlXpqmtlgIB1I2LbNOXd3sEJJ9WiZXIcrju7MIxPm8938dRzVpanvSCISAd76fQVzVufxzFl91eFfpJpVZR6z/wKnA1cABpwKtA1yLqkmFx/WgQ4pdblzbCaFJRoIICL7Jju/iEe/rOjwf2IPdfgXqW67LcyAg51z5wCbnHN3AQcBacGNJdUlLiaKu4f2YPmGAp77YYnvOCIS5h4arw7/IsFUlcJs2xTyBWbWAigBtBBaGDm0cxMG92rOM98vYsWGAt9xRCRMTVlW0eH/osM0w79IsFSlMPvMzJKBR6iYaHYZ/1vgXMLE7YO7Ex1l3PVppu8oIhKGSsvKuX2MOvyLBNtuCzPn3D3OuRzn3EdU9C3r6pwbFfxoUp2aNUjg6oGd+WbeOr6as9Z3HBEJM2/+tpy5q/O4fUh3EuPU4V8kWHY1weyh229zzhU553ID++ubWY9ghpPqdf4h7UlLTeLOsZlsLdZAABGpmuz8Iv711QIO66wO/yLBtqsrZqeY2S9mNsrMBpvZADM73MwuMLM3gM8AzVoaRmKjo7h7WA9W5Wzlme8X+Y4jImFCM/yL1JxdTTB7jZk1Ak6hYoqM5lQMBJgLPOecm1gzEaU6HdihMcP7tOC5H5Zwct9WtG9S13ckEQlhk5dt5KNpWVxyZEc6pqjDv0iw7bKPmXNuo3PuBefcec65451zw51zN6soC2+3DO5GfEwUd4zNxDnnO46IhKiKGf4zaKEO/yI1piqjMiXCNK2XwDXHpvHjgmzGZ6zxHUdEQtSbvy1n3pp8dfgXqUEqzGqpcw5qS7fm9bn7szkUFJf6jiMiISY7v4h/fVnR4f8EdfgXqTEqzGqpmOgo7hmWzurcQv79jQYCiMj/9cC4uRSWqsO/SE2rylqZp5pZvcD928zsYzPrG/xoEmz92zViZL9WvPjTEhaty/cdR0RCxORlG/l42iouPqyDOvyL1LCqXDG73TmXH5jXbCDwEvBscGNJTbnpxK4kxkUzaowGAojI/+3wf7k6/IvUuKoUZttmIh0MPO+c+xyIC14kqUlNkuK5/vgu/LJ4A5/OWu07joh49vqvFR3+b1OHfxEvqlKYrTKz54DTgS/MLL6Kvydh4swD2tKzZQPu/WwOm4s0EECktlqbV8hjXy3g8LQUzfAv4klVCqzTgAnA8c65HKARcH0wQ0nNio4y7hneg+zNRTzx1QLfcUTEk3s+m0NxWTl3q8O/iDdVWcS8AFgHbFs7sxRYGMxQUvP6tE7mjP1b88ovy5i/RgMBRGqbnxZm89ms1Vx6ZEfaaUUQEW+qMirzDuBG4ObApljgzWCGEj9uOL4r9RJiuH1MhgYCiNQiRaVljBqTSbvGifzjiI6+44jUalVpyhwBDAW2ADjn/gDqBTOU+NGwbhw3ntCVSUs38sn0Vb7jiEgNee6HJSxdv4W7h/UgITbadxyRWq0qhVmxq7h84gDMTNe4I9jp/VvTp3Uy938xl9ytJb7jiEiQLd+whf98t4jBPZtzeFqK7zgitV5VCrP3A6Myk83sYuBr4IXgxhJfoqKMe4f3YMOWYh7XQACRiOac446xmcRGGbcP6e47johQtc7/jwIfAh8BXYBRzrmngh1M/OnRsgF/PaAtr/+6jMw/cn3HEZEgmZC5hu/nZ3PNsWk0a5DgO46IUPX5yBYAE5xz1wE/b1uiSSLXdcd1oWFiHLePzqC8XAMBRCLNlqJS7vp0Dl2b1eO8g9v5jiMiAVUZlXkxFVfMngtsagmMDmImCQENEmO56cSuTFuRw4fTsnzHEZFq9uQ3C1mdW8h9I3oQE605w0VCRVX+NV4GHALkATjnFgJNgxlKQsMpfVvRv21DHhw3j5yCYt9xRKSazF+Tz0sTl3J6/9b0a9vIdxwRqaQqhVmRc+7Pb2UziyEwQlMiW1RgRYDcrSU8MmG+7zgiUg3Kyx23jZ5N/YQYbjqxq+84IrKdqhRmP5jZLUAdMzsW+AD4NLixJFR0a16fcw5qy9uTVjArK8d3HBHZRx9Ny2Lysk3cdGJXGtaN8x1HRLZTlcLsRiAbmA38HfgCuC2YoSS0XHNsGk2S4rl9dAZlGgggErZyCop5YNw8+rVtyKn9WvuOIyI7sMvCzMyigbnOuRecc6c650YG7uvbuRapnxDLrYO6MTMrl/cmr/QdR0T20kPj55O7tYR7h/cgKkqLlIuEol0WZs65MmC+mbWpoTwSoob1acGBHRrx8IR5bNyigQAi4Wbaik28O3kF5x3cjm7N6/uOIyI7UZWmzIZAppl9Y2Zjt92CHUxCi5lx97AebC4s5aFx83zHEZE9UFpWzm2fZNC0XjzXHJvmO46I7EJMFZ5ze9BTSFhIS63HBYe25/kfl3Da/q3p17ah70giUgVv/LacOavzePrMviTFV+VjX0R8qcqSTD/s6FYT4ST0XHVMZ1o0SOCWj2dTUlbuO46I7MbavEL+9eUCDk9LYVDPZr7jiMhuVGXm/3wzy9vuttLMPjGzDjURUkJH3fgY7hrWg/lr83nxp6W+44jIbtw5NpOSsnLuGZaOmTr8i4S6qvQxewK4noqlmFoB1wFvA+8CLwctmYSsY7uncnx6Kk9+s4AVGwp8xxGRnfh6zlrGZazhymM607ZxXd9xRKQKqlKYDXXOPeecy3fO5TnnngeOd869R8XAAKmF7hyaTkxUFLeNyUCzp4iEni1FpdwxNpO01CQuPkyNGyLhoiqFWYGZnWZmUYHbaUBhYJ++kWup5g3qcN1xafy4IJtPZ632HUdEtvPE1wtYlbOV+0f0JC5Gi5SLhIuq/Gs9CzgbWAesDdz/q5nVAS4PYjYJcWcf1I5erRpw96dzyC0o8R1HRAIyVuXy8s/L+MuANvRvp0XKRcJJVUZlLnHOneSca+KcSwncX+Sc2+qcm1gTISU0RUcZ94/oyaaCYh6aoLnNREJBWbnj1k9m0zAxlptO0CLlIuGmKqMy0wKTy2YEHvcyM62VKQD0aNmACw5px9u/r2DKso2+44jUem/8uoyZWbncPqQ7DRJjfccRkT1UlabMF4CbgRIA59ws4IxghpLwcvXANFom1+GWT2ZTXKq5zUR8WZ27lUe/XMBhnZswtHcL33FEZC9UpTBLdM5N2m5baTDCSHiqGx/D3cPSWbB2My/8tMR3HJFa666xcygpK+e+4T01Z5lImKpKYbbezDoSGIFpZiMBDcOT/+OYbqmc2KMZ//5mIcs3bPEdR6TW+WrOWsZnruGqgZ1p0zjRdxwR2UtVKcwuA54DuprZKuBq4JJghpLwdOfQdGKjo7httOY2E6lJW4pKuWNMBl1S62nOMpEwV9VRmQOBFKCrc+5Q59yyoCeTsJNaP4EbTujCTwvXM3bmH77jiNQaj3+1gD9yC7n/5B7ERmvOMpFwFrOzHWb2z51sB8A591iQMkkYO+uAtnw8bRX3fDaHI9JSSE6M8x1JJKJVzFm2lDMPaEO/tpqzTCTc7eq/VvUCt/5UNF22DNz+AfQNfjQJR/+b26yEB8dpbjORYCord9z88Wwa1Y3nRs1ZJhIRdlqYOefucs7dRcXC5X2dc9c6564F+gFtaiqghJ/uLepz0aHteXfySiYt1dxmIsHy2i/LmL0qlztO6k6DOpqzTCQSVKUzQipQXOlxcWCbyE5dNbAzrRrW4aaPZ1FYUuY7jkjEWbmxgEe/nM+RXVIY0qu57zgiUk2qUpi9DkwyszvN7E7gd+DVYIaS8JcYF8P9I3qyJHsL//l2ke84IhHFOcetozMw4L4RmrNMJJJUZVTmfcD5wKbA7Xzn3APBDibh7/C0FE7p24r//rCYuavzfMcRiRifTF/FjwuyueGErrRMruM7johUoyqNq3bOTXPOPRm4TQ92KIkctw/pRnJiLDd+NIvSMi3XJLKv1m8u4u7P5tC3TTJnH9jWdxwRqWaa8EaCKjkxjjuHpjMrq2JIv4jsm7s+nUNBURkPndKLqCg1YYpEGhVmEnSDezZnYLdUHvtqgZZrEtkH38xdy6cz/+CyozrRObWe7zgiEgQhW5iZ2QlmNt/MFpnZTb7zyN4zM+4d3oPYqChu/ni2lmsS2Qv5hSXcNrpi2aVLjuzoO46IBElIFmZmFg08DZwIdAf+Ymbd/aaSfdGsQQI3DerKL4s38P6Ulb7jiISdh8fPZ01eIQ+e0pO4mJD86BaRahCq/7oHAIsC63QWA+8Cwzxnkn30l/3bMKB9I+79fC7r8gp9xxEJG5OXbeSN35Zz/sHt2a9NQ99xRCSIQrUwawlUvqySFdj2JzP7m5lNMbMp2dnZNRpO9k5UlPHgyT0pLi1n1JhM33FEwkJhSRk3fjSLVg3rcN3xab7jiEiQhWphtlvOueedc/2dc/1TUlJ8x5Eq6pCSxNUD0xifuYbxGat9xxEJeU9/t4gl2Vu4f0RPEuNifMcRkSAL1cJsFdC60uNWgW0SAS4+rD3pLepz+5hMcgtKfMcRCVlzV+fx7PeLOblvSw5P039ARWqDUC3MJgOdzay9mcUBZwBjPWeSahITHcVDp/Ri45Zi7v9iru84IiGptKycmz6aRYM6sdw+WGOfRGqLkCzMnHOlwOXABGAu8L5zTp2SIkiPlg24+LAOvDdlJRMXrvcdRyTkvPDTUmZm5XLXsHQa1o3zHUdEakhIFmYAzrkvnHNpzrmOgfU6JcJcPbAzHVLqcuNHs9hcVOo7jkjIWLg2n8e/WsCJPZoxuGdz33FEpAaFbGEmkS8hNppHRvZmde5WNWmKBJSWlXPdh7OoGx/N3cN6YKZll0RqExVm4lW/tg256LAOvP37CjVpigAvTVzKzJU53DWsByn14n3HEZEapsJMvPvnsWl/NmnmF2qUptRei9Zt5l9fLeD49FRO6qUmTJHaSIWZeFe5SfOBcfN8xxHxoqzccf2HM0mMi+ae4WrCFKmtVJhJSFCTptR2L01cwvQVOdw1NJ2m9RJ8xxERT1SYSchQk6bUVovWbebRLxdwXPdUhvZu4TuOiHikwkxCRkJsNI+eum2Uppo0pXYoK3fc8OFM6sRGc+8INWGK1HYqzCSk9G3TkIsP68A7k1bw00ItTi+R75WflzJNTZgiEqDCTELONcem0TGlLjd+qCZNiWxLsjfzyIT5DOyWyrA+asIUERVmEoK2NWmuySvUxLMSsUrLyrnm/ZkkxEZzn5owRSRAhZmEpP3aNOTiwzvwzqSVfDd/ne84ItXu2e8XM3NlDvcO70FqfTVhikgFFWYSsq4ZmEaX1Hrc8OEsNm0p9h1HpNrMzsrlyW8WclLvFpykUZgiUokKMwlZCbHRPH56H3IKirl19Gycc74jieyzwpIyrnl/Bo2T4rhnWLrvOCISYlSYSUjr3qI+1xybxhez1zB6xirfcUT22aMT5rNo3WYeHtmb5MQ433FEJMSoMJOQ9/fDO9K/bUNGjclkVc5W33FE9tqvizfw0s9LOfvAthyRluI7joiEIBVmEvKio4zHTutDebnjuvdnUl6uJk0JP/mFJVz3wUzaNa7LzYO6+o4jIiFKhZmEhTaNE7l9SHd+XbKBV35Z5juOyB67+9M5rM7dyr9O601iXIzvOCISolSYSdg4ff/WDOzWlIfGz2Ph2nzfcUSq7MvMNXwwNYtLj+xE3zYNfccRkRCmwkzChpnxwMm9SIqP4er3ZlBcWu47kshurd9cxM0fzya9RX2uPKaz7zgiEuJUmElYSakXzwMn9yTzjzz+/c1C33FEdsk5V7G0WFEpj53Wh7gYfeSKyK7pU0LCzvHpzRjZrxXPfL+Iycs2+o4jslNv/Lacb+at45YTu9KlWT3fcUQkDKgwk7B0x0ndadUwkavfnUFugRY6l9Azf00+934+l6O6pHDuwe18xxGRMKHCTMJSvYRY/v2X/VibV8gtn2hVAAkthSVlXPnOdOonxPLIqb21QLmIVJkKMwlbfVon88/j0vh89mren7LSdxyRPz04bh7z1+bz6Km9aJIU7zuOiIQRFWYS1v5xeEcO7tiYO8fOYdG6zb7jiPDtvLW8+ssyLjikPUd2aeo7joiEGRVmEtaioozHT+9DQmwUV74znaLSMt+RpBZbl1/I9R/Molvz+tx4YhffcUQkDKkwk7CXWj+BR0b2Zs7qPB4eP993HKmlyssd138wi81Fpfz7jD7Ex0T7jiQiYUiFmUSEgd1TOeegtrw0cSnfz1/nO47UQq/8sowfFmRz+5DudE7V1BgisndUmEnEuGVQN7qk1uO6D2aSnV/kO47UIjNX5vDguLkc2z2Vsw5o4zuOiIQxFWYSMRJio3nqzP3ILyzl2g9mUl6uKTQk+HK3lnD5O9NoWi+BR0b20tQYIrJPVJhJRElLrceok7rz44Jsnv1hse84EuG2Lbm0OqeQp87cj+TEON+RRCTMqTCTiHPmgDYM7d2Cf305n18Xb/AdRyLYa78sY3zmGm48oSt92zT0HUdEIoAKM4k4Zsb9J/ekXZO6XPnudNblF/qOJBFoVlYO930xl4HdmnLRYe19xxGRCKHCTCJSUnwMz5zVl/zCEq56ZwZl6m8m1Sh3awmXvT2NlKR4HtWSSyJSjVSYScTq2qw+dw/rwa9LNvDkNwt9x5EI4Zzjpo+29Svrq35lIlKtVJhJRDutf2tG9mvFU98u5McF2b7jSAR47ZdljMtYww0ndKFfW/UrE5HqpcJMIt49w3rQuWkSV783gzW56m8me2/q8o3c+/lcjunalIsO7eA7johEIBVmEvHqxEXzzFl9KSwp4/K3p1FcWu47koShdfmFXPLmNFok1+Gx0/oQFaV+ZSJS/VSYSa3QqWk9HjylF1OWb+Lez+f4jiNhpqSsnMvfmk5eYQnPnd2PBomxviOJSISK8R1ApKYM7d2CWStzeHHiUnq1SmZkv1a+I0mYeOCLeUxatpEnTu9Dt+b1fccRkQimK2ZSq9x0YlcO6tCYWz6ZzeysXN9xJAyMmbGKl39eynkHt2P4fi19xxGRCKfCTGqVmOgo/nPmfjSpG8ff35jChs1a7Fx2bt6aPG76aDb92zbklkHdfMcRkVpAhZnUOo2T4nnu7P6s31LMFe9Mp7RMgwHk/5e7tYR/vDGVpISKyYrjYvRxKSLBp08aqZV6tmrAfcN78MviDTw0fp7vOBJiysodV74znaxNW3nmrL40rZ/gO5KI1BLq/C+11qn9WzN7VS4v/LSUHi0bMKyP+g9JhQe+mMsPC7K5f0RP9m/XyHccEalFdMVMarXbBndnQPtGXP/hLKat2OQ7joSA9yev5MWJFZ39zzygje84IlLLqDCTWi0uJor//rUfzeon8LfXp7IqZ6vvSOLR5GUbuXX0bA7t1ITbBquzv4jUPBVmUus1qhvHS+f2p6ikjAtfncyWolLfkcSDrE0F/OONqbRqmMjTZ/YlJlofjyJS8/TJIwJ0Tq3Hf87qy4K1+Vz17gzKyp3vSFKDthSVctFrUyguK+eFc/prZn8R8UaFmUjAEWkpjBrSna/nruVhjdSsNcrKHVe9O4MFa/P5z5l96dQ0yXckEanFNCpTpJJzD27HouzNPPfjEjqmJHHa/q19R5Igcs5x96eZfD13LXcNTeeItBTfkUSkllNhJlKJmXHHSeks31DALZ/MplmDBA7Xl3XEemniUl77dTkXH9aecw9u5zuOiIiaMkW2FxsdxdNnVTRpXfLmVDJWaU3NSPT5rNXc+/lcBvVsxs0nagSmiIQGFWYiO1A/IZbXLhhAcmIc570ymZUbC3xHkmo0ZdlGrnl/Bv3bNuSx0/oQFWW+I4mIACrMRHYqtX4Cr56/P8WlZZz78iQ2bin2HUmqwZLszVz0+hRaJtfhhXP6kxAb7TuSiMifVJiJ7ELn1Hq8eO7+ZOVs5aLXJrO1uMx3JNkHa3ILOfulSUSb8er5+9OwbpzvSCIi/4cKM5HdGNC+EU+c3ofpK3O44p1plJSV+44ke2HjlmL++tLv5G4t4dXzB9C2cV3fkURE/j8qzESqYFDP5tw9NJ2v567j2vdnagLaMLO5qJTzX5nEio0FvHhuf3q2auA7kojIDmm6DJEqOvugduQXlfLw+PnUjY/m/hE9MVOn8VBXWFLG316fQsYfeTz3134c2KGx70giIjulwkxkD1x6ZCc2F5byzPeLqRsXw62Du6k4C2GlZeVc+c50flm8gcdO683A7qm+I4mI7JIKM5E9dP3xXdhSVMqLE5eSlBDD1QPTfEeSHSgtK+fq92bw5Zy13HFSd07u28p3JBGR3fLSx8zMHjGzeWY2y8w+MbPkSvtuNrNFZjbfzI73kU9kV7atDnBK31Y88fVCnvthse9Isp3SsnL++f5MPpu1mptP7Mr5h7T3HUlEpEp8df7/CujhnOsFLABuBjCz7sAZQDpwAvCMmWmSIQk5UVHGQ6f0ZHCv5jwwbh7Pfq/iLFSUlTuu+2AmY2f+wQ0ndOHvR3T0HUlEpMq8NGU6576s9PA3YGTg/jDgXedcEbDUzBYBA4BfaziiyG7FREfx5Ol9iDLjofHzKCsv5/KjO/uOVauVlTuu/2Amo2f8wfXHd+HSIzv5jiQiskdCoY/ZBcB7gfstqSjUtskKbPv/mNnfgL8BtGnTJpj5RHYqJjqKx0/rTUyU8eiXCygtd+pz5klpWTk3fDSLj6ev4tpj07jsKBVlIhJ+glaYmdnXQLMd7LrVOTcm8JxbgVLgrT39+86554HnAfr3769JpcSbmOgoHj21N9FRxhNfL6Ss3PHPY9M0WrMGFZWWcdU7MxifuYZ/HpvGFcfoyqWIhKegFWbOuYG72m9m5wFDgGOcc9sKq1VA60pPaxXYJhLSoqOMh0/pRUyU8dS3i8gvLGXUkO5aHLsGFBSX8vc3pvLTwvWMGtKdCw5VR38RCV9emjLN7ATgBuAI51xBpV1jgbfN7DGgBdAZmOQhosgei4oy7h/Rk7rxMbw0cSkbtxTz6Km9iYvRAhvBkru1hAtencz0FZt4eGQvTuvfeve/JCISwnz1MfsPEA98FWju+c059w/nXKaZvQ/MoaKJ8zLnnFaNlrARFWXcNrgbTZLieWj8PHK2lvDfv/YlMS4UunNGlrV5hZz3ymQWrcvn6TP7cmLP5r4jiYjsM/tfK2L46t+/v5syZYrvGCL/x3uTV3Dzx7Pp1SqZl8/bn0Z143xHihjz1uRx/iuTydtawjN/7ccRaSm+I4mIVJmZTXXO9d/RPrWxiATJ6fu34dm/9mPO6jxGPPMzi9Zt9h0pIvy0MJuRz/5KuXO8/4+DVJSJSERRYSYSRMenN+Odiw9kS1EpI575mR8XZPuOFNben7yS81+ZTKuGdfjk0kNIb9HAdyQRkWqlwkwkyPq1bcjoyw6hZXIdzn91Mm/8usx3pLBTWlbOfZ/P4YaPZnFQx8Z88I+DaJFcx3csEZFqp8JMpAa0apjIh5cczBFpKdw+JpNbP5lNUanGtVTFxi3FnPPyJF74aSnnHtSWl8/bn3oJsb5jiYgEhYaKidSQpPgYXjinPw+Pn8dzPy4hY1UuT5/Vl1YNE31HC1kZq3L5+xtTyd5cxCMje3GqpsMQkQinK2YiNSg6yrh5UDf++9e+LMnewpCnJvLd/HW+Y4Uc5xxv/racU579hXLn+ODvB6koE5FaQYWZiAcn9GjO2CsOpVn9BC54dTIPjptHcWm571ghIaegmH+8OZXbRmcwoH0jxl5+KL1bJ/uOJSJSI1SYiXjSvkldRl92CGfs35r//rCY4U//zIK1+b5jefX7kg2c+ORPfDtvHbcM6spr5w8gpV6871giIjVGhZmIRwmx0Txwci9eOKc/a/MKGfLURF78aQnl5eE/8fOeKCgu5e5P53DGC78RHxPFR5cczN8O76i1RkWk1lHnf5EQcGz3VPq0PpybP57FvZ/PZVzGGu4f0ZMuzer5jhZ0vyxez00fzWbFxgLOPrAtN57YlaR4fTSJSO2kJZlEQohzjo+mreK+z+eQX1jKxYd34MqjO1MnLtp3tGqXnV/EIxPm8f6ULNo1TuTBU3pxYIfGvmOJiATdrpZk0n9LRUKImTGyXyuO7tqU+7+Yy7PfL+bTmX9wwwldOalXc8zCv2mvpKyc135ZxpNfL6SwtIy/H9GBq49Ji8jiU0RkT+mKmUgI+3XxBu7+bA5zV+fRu3Uytw7qxoD2jXzH2ivl5Y5xGWt47Kv5LM7ewpFdUhg1pDsdUpJ8RxMRqVG7umKmwkwkxJWVOz6ZvopHJ8xnTV4hR3ZJ4fKjOtG/XXgUaM45vpm7jn99tYC5q/Po3DSJG0/oyjHdmkbEFUARkT2lwkwkAmwtLuOVX5by4k9L2bilmAPaN+LSozpxWKcmITl6sai0jLEz/uDln5cxd3UebRsncs3ANE7q3YLoEMwrIlJTVJiJRJCC4lLembSS539czNq8Ito3qcuZA9owsl8rGtaN8x2PrE0FfDg1izd/W8H6zUWkpSZx0WEdGLFfS2KjNUOPiIgKM5EIVFRaxrjZa3jr9+VMXraJuJgoBnZryqCezTm6a1MS42pubE9OQTFfzVnLR9Oy+G3JRgCO7JLChYe259BOTdRkKSJSiQozkQg3f00+70xaweezV5OdX0RCbBSHdkrh0E6NObRzEzqmJFVrcVRaVs7c1fn8umQ9X89dx9Tlmygrd7RrnMjJfVsxYr+WtG6kxdlFRHZEhZlILVFW7pi8bCOfz1rNDwuyWbGxAIAmSXGkt2hAz5YN6Na8Pq0b1aFVw0QaJsbusmArK3dsKihmxcYCFq3dzKLszWSsymXGyhwKissA6Na8PgO7NeWYbqn0btVAV8dERHZD85iJ1BLRUcaBHRr/OVHrig0FTFy0nmkrNpGxKpeJi9ZTVmm5p4TYKOonxJKUEEPduBgcjtIyR0lZOblbS9i4pZjKq0PFxUTRuWkSp/ZrRb92jdi/XUOaN6hT029TRCRiqTATiWBtGidyZuM2nHlAGwAKS8pYkr2FrE0FZG3ayurcreQXlrK5qJQtRaWYGTFRRmx0FPXrxNAkKZ4mSfG0TK5Dp6ZJtG6UqBGVIiJBpMJMpBZJiI2me4v6dG9R33cUERHZAY1dFxEREQkRKsxEREREQoQKMxEREZEQocJMREREJESoMBMREREJESrMREREREKECjMRERGREKHCTERERCREqDATERERCREqzERERERChAozERERkRChwkxEREQkRKgwExEREQkR5pzznWGfmVk2sLwGXqoJsL4GXifc6LjsnI7Njum47JyOzY7puOycjs2OhfJxaeucS9nRjogozGqKmU1xzvX3nSPU6LjsnI7Njum47JyOzY7puOycjs2OhetxUVOmiIiISIhQYSYiIiISIlSY7ZnnfQcIUTouO6djs2M6LjunY7NjOi47p2OzY2F5XNTHTERERCRE6IqZiIiISIhQYVYFZnaCmc03s0VmdpPvPDXJzFqb2XdmNsfMMs3sqsD2Rmb2lZktDPxsGNhuZvbvwLGaZWZ9/b6D4DOzaDObbmafBR63N7PfA8fgPTOLC2yPDzxeFNjfzmvwIDKzZDP70MzmmdlcMztI50wFM7sm8G8pw8zeMbOE2nrOmNnLZrbOzDIqbdvj88TMzg08f6GZnevjvVSnnRyXRwL/nmaZ2Sdmllxp382B4zLfzI6vtD3ivrt2dGwq7bvWzJyZNQk8Ds9zxjmn2y5uQDSwGOgAxAEzge6+c9Xg+28O9A3crwcsALoDDwM3BbbfBDwUuD8IGAcYcCDwu+/3UAPH6J/A28BngcfvA2cE7v8XuCRw/1Lgv4H7ZwDv+c4exGPyGnBR4H4ckKxzxgG0BJYCdSqdK+fV1nMGOBzoC2RU2rZH5wnQCFgS+NkwcL+h7/cWhONyHBATuP9QpePSPfC9FA+0D3xfRUfqd9eOjk1ge2tgAhVzmjYJ53NGV8x2bwCwyDm3xDlXDLwLDPOcqcY451Y756YF7ucDc6n4chlGxZcvgZ/DA/eHAa+7Cr8ByWbWvGZT1xwzawUMBl4MPDbgaODDwFO2PzbbjtmHwDGB50cUM2tAxYfnSwDOuWLnXA46Z7aJAeqYWQyQCKymlp4zzrkfgY3bbd7T8+R44Cvn3Ebn3CbgK+CEoIcPoh0dF+fcl8650sDD34BWgfvDgHedc0XOuaXAIiq+tyLyu2sn5wzA48ANQOWO82F5zqgw272WwMpKj7MC22qdQDPKfsDvQKpzbnVg1xogNXC/th2vJ6j4MCgPPG4M5FT6AK38/v88NoH9uYHnR5r2QDbwSqCJ90Uzq4vOGZxzq4BHgRVUFGS5wFR0zlS2p+dJrTl/KrmAiitBoOOCmQ0DVjnnZm63KyyPjQozqRIzSwI+Aq52zuVV3ucqrg3XuuG9ZjYEWOecm+o7S4iJoaKp4Vnn3H7AFiqapP5Ui8+ZhlT8L7490AKoSwj9Tz3U1NbzZFfM7FagFHjLd5ZQYGaJwC3AKN9ZqosKs91bRUXb9TatAttqDTOLpaIoe8s593Fg89ptzU2Bn+sC22vT8ToEGGpmy6hoJjgaeJKKy+UxgedUfv9/HpvA/gbAhpoMXEOygCzn3O+Bxx9SUajpnIGBwFLnXLZzrgT4mIrzqLafM5Xt6XlSa84fMzsPGAKcFShaQcelIxX/0ZkZ+CxuBUwzs2aE6bFRYbZ7k4HOgVFTcVR0wB3rOVONCfRneQmY65x7rNKuscC2kSznAmMqbT8nMBrmQCC3UrNERHHO3eyca+Wca0fFefGtc+4s4DtgZOBp2x+bbcdsZOD5EXc1wDm3BlhpZl0Cm44B5qBzBiqaMA80s8TAv61tx6ZWnzPb2dPzZAJwnJk1DFyRPC6wLaKY2QlUdJsY6pwrqLRrLHBGYARve6AzMIla8t3lnJvtnGvqnGsX+CzOomLA2hrC9ZzxPfogHG5UjOxYQMUIl1t956nh934oFU0Js4AZgdsgKvq5fAMsBL4GGgWeb8DTgWM1G+jv+z3U0HE6kv+NyuxAxQfjIuADID6wPSHweFFgfwffuYN4PPoAUwLnzWgqRj7pnKl4v3cB84AM4A0qRtPVynMGeIeKvnYlVHyhXrg35wkVfa4WBW7n+35fQToui6joF7Xtc/i/lZ5/a+C4zAdOrLQ94r67dnRsttu/jP+NygzLc0Yz/4uIiIiECDVlioiIiIQIFWYiIiIiIUKFmYiIiEiIUGEmIiIiEiJUmImIiIiECBVmIiIiIiFChZmIhAQzSzazSys9bmFmH+7qd/bhtYab2R4t4WJmX5hZ8l6+Xh8zG7SXvxtnZj9WWhlARCKYCjMRCRXJwJ+FmXPuD+fcyJ0/fZ/cADyzJ7/gnBvknMvZy9frQ8Vkn3vMOVdMxYSrp+/la4tIGFFhJiKh4kGgo5nNMLNHzKydmWVAxRqBZjbazL4ys2VmdrmZ/dPMppvZb2bWKPC8jmY23symmtlPZtZ1+xcxszSgyDm3PvD4VTN7NvB3lpjZkWb2spnNNbNXK/3eMjNrEsg118xeMLNMM/vSzOoEnvO9mfUP3G8S+J044G7g9MB7O93M6gZeY1LgPQwL/E56YNsMM5tlZp0DLz8aOCs4h11EQokKMxEJFTcBi51zfZxz1+9gfw/gZGB/4D6gwDm3H/ArcE7gOc8DVzjn+gHXseOrYocA07bb1hA4CLiGivX1HgfSgZ5m1mcHf6Mz8LRzLh3IAU7Z2ZsKXPEaBbwXeG/vUbGEzrfOuQHAUcAjZlYX+AfwpHOuD9CfiiVnoGL5pv139hoiEjnUZ0FEwsV3zrl8IN/McoFPA9tnA73MLAk4GPigYn1woGIdyu01B7K32/apc86Z2WxgrXNuNoCZZQLtqFibsLKlzrlt26YGnrMnjgOGmtl1gccJQBsqisxbzawV8LFzbiGAc67MzIrNrF7gGIhIhFJhJiLhoqjS/fJKj8up+CyLAnICV5t2ZSvQYCd/u/Lfrfy3d5WlDKgTuF/K/1oiEnaRwYBTnHPzt9s+18x+BwYDX5jZ351z3wb2xQOFu/ibIhIB1JQpIqEiH6i3t7/snMsDlprZqQBWofcOnjoX6LS3r7Mby4B+gfuVBy5s/94mAFdY4NKeme0X+NkBWOKc+zcwBugV2N4YWO+cKwlSbhEJESrMRCQkOOc2AD+bWYaZPbKXf+Ys4EIzmwlkAsN28Jwfgf2sUntnNXoUuMTMpgNNKm3/Dui+rfM/cA8QC8wKNJfeE3jeaUCGmc2gok/d64HtRwGfByGviIQYc875ziAiUqPM7Ekq+pV97TtLVZjZx8BNzrkFvrOISHDpipmI1Eb3A4m+Q1RFYLqN0SrKRGoHXTETERERCRG6YiYiIiISIlSYiYiIiIQIFWYiIiIiIUKFmYiIiEiIUGEmIiIiEiL+H6nE7lXT9gmDAAAAAElFTkSuQmCC\n",
      "text/plain": [
       "<Figure size 720x432 with 1 Axes>"
      ]
     },
     "metadata": {
      "needs_background": "light"
     },
     "output_type": "display_data"
    }
   ],
   "source": [
    "plt.xlabel('time (minutes)')\n",
    "plt.ylabel('degrees (altitude)')\n",
    "\n",
    "plt.plot(sun.alt)"
   ]
  },
  {
   "cell_type": "markdown",
   "metadata": {},
   "source": [
    "<center><i>This notebook was originally written by <a href=\"https://aperiosoftware.com/\">Aperio Software Ltd</a> and modified by Brigitta Sipőcz. &copy; 2019-2021 and is licensed under a <a href=\"https://creativecommons.org/licenses/by/4.0/\">Creative Commons Attribution 4.0 International License (CC BY 4.0)</a></i></center>\n",
    "\n",
    "![cc](https://mirrors.creativecommons.org/presskit/buttons/88x31/svg/by.svg)"
   ]
  },
  {
   "cell_type": "code",
   "execution_count": null,
   "metadata": {},
   "outputs": [],
   "source": []
  }
 ],
 "metadata": {
  "kernelspec": {
   "display_name": "Python 3",
   "language": "python",
   "name": "python3"
  },
  "language_info": {
   "codemirror_mode": {
    "name": "ipython",
    "version": 3
   },
   "file_extension": ".py",
   "mimetype": "text/x-python",
   "name": "python",
   "nbconvert_exporter": "python",
   "pygments_lexer": "ipython3",
   "version": "3.9.3"
  },
  "toc": {
   "base_numbering": 1,
   "nav_menu": {},
   "number_sections": true,
   "sideBar": true,
   "skip_h1_title": false,
   "title_cell": "Table of Contents",
   "title_sidebar": "Contents",
   "toc_cell": false,
   "toc_position": {},
   "toc_section_display": true,
   "toc_window_display": false
  },
  "toc-autonumbering": true
 },
 "nbformat": 4,
 "nbformat_minor": 4
}
