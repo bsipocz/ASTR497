{
 "cells": [
  {
   "cell_type": "markdown",
   "metadata": {},
   "source": [
    "# Working with HEALPix data\n",
    "\n",
    "[HEALPix](https://healpix.jpl.nasa.gov/) (Hierarchical Equal Area isoLatitude Pixelisation) is an algorithm that is often used to store data from all-sky surveys.\n",
    "\n",
    "There are several tools in the Astropy ecosystem for working with HEALPix data, depending on what you need to do:\n",
    "\n",
    "* The [astropy-healpix](https://astropy-healpix.readthedocs.io/en/latest/index.html) coordinated package is a BSD-licensed implementation of HEALPix which focuses on being able to convert celestial coordinates to HEALPix indices and vice-versa, as well as providing a few other low-level functions.\n",
    "\n",
    "* The [reproject](https://reproject.readthedocs.io/en/stable/) coordinated package (which we've already looked at) includes functions for converting from/to HEALPix maps.\n",
    "\n",
    "* The [HiPS](https://hips.readthedocs.io/en/latest/) affiliated package implements suport for the [HiPS](http://aladin.u-strasbg.fr/hips/) scheme for storing data that is based on HEALPix.\n",
    "\n",
    "In this tutorial, we will take a look at the two first one of these, but we encourage you to learn more about HiPS too!\n",
    "\n",
    "To install astropy-healpix and reproject uncomment the following cells:"
   ]
  },
  {
   "cell_type": "code",
   "execution_count": 1,
   "metadata": {},
   "outputs": [
    {
     "name": "stdout",
     "output_type": "stream",
     "text": [
      "Requirement already satisfied: astropy-healpix in c:\\users\\ssbch\\appdata\\local\\packages\\pythonsoftwarefoundation.python.3.9_qbz5n2kfra8p0\\localcache\\local-packages\\python39\\site-packages (0.6)\n",
      "Requirement already satisfied: numpy in c:\\users\\ssbch\\appdata\\local\\packages\\pythonsoftwarefoundation.python.3.9_qbz5n2kfra8p0\\localcache\\local-packages\\python39\\site-packages (from astropy-healpix) (1.20.3)\n",
      "Requirement already satisfied: astropy in c:\\users\\ssbch\\appdata\\local\\packages\\pythonsoftwarefoundation.python.3.9_qbz5n2kfra8p0\\localcache\\local-packages\\python39\\site-packages (from astropy-healpix) (4.2.1)\n",
      "Requirement already satisfied: pyerfa in c:\\users\\ssbch\\appdata\\local\\packages\\pythonsoftwarefoundation.python.3.9_qbz5n2kfra8p0\\localcache\\local-packages\\python39\\site-packages (from astropy->astropy-healpix) (1.7.3)\n"
     ]
    }
   ],
   "source": [
    "# !pip install astropy-healpix"
   ]
  },
  {
   "cell_type": "code",
   "execution_count": 21,
   "metadata": {},
   "outputs": [
    {
     "name": "stdout",
     "output_type": "stream",
     "text": [
      "Requirement already satisfied: reproject in c:\\users\\ssbch\\appdata\\local\\packages\\pythonsoftwarefoundation.python.3.9_qbz5n2kfra8p0\\localcache\\local-packages\\python39\\site-packages (0.4)\n",
      "Requirement already satisfied: numpy>=1.10 in c:\\users\\ssbch\\appdata\\local\\packages\\pythonsoftwarefoundation.python.3.9_qbz5n2kfra8p0\\localcache\\local-packages\\python39\\site-packages (from reproject) (1.20.3)\n",
      "Requirement already satisfied: astropy>=2.0 in c:\\users\\ssbch\\appdata\\local\\packages\\pythonsoftwarefoundation.python.3.9_qbz5n2kfra8p0\\localcache\\local-packages\\python39\\site-packages (from reproject) (4.2.1)\n",
      "Requirement already satisfied: astropy-healpix>=0.2 in c:\\users\\ssbch\\appdata\\local\\packages\\pythonsoftwarefoundation.python.3.9_qbz5n2kfra8p0\\localcache\\local-packages\\python39\\site-packages (from reproject) (0.6)\n",
      "Requirement already satisfied: scipy>=0.9 in c:\\users\\ssbch\\appdata\\local\\packages\\pythonsoftwarefoundation.python.3.9_qbz5n2kfra8p0\\localcache\\local-packages\\python39\\site-packages (from reproject) (1.6.3)\n",
      "Requirement already satisfied: pyerfa in c:\\users\\ssbch\\appdata\\local\\packages\\pythonsoftwarefoundation.python.3.9_qbz5n2kfra8p0\\localcache\\local-packages\\python39\\site-packages (from astropy>=2.0->reproject) (1.7.3)\n"
     ]
    }
   ],
   "source": [
    "# !pip install reproject"
   ]
  },
  {
   "cell_type": "markdown",
   "metadata": {},
   "source": [
    "\n",
    "<section class=\"objectives panel panel-warning\">\n",
    "<div class=\"panel-heading\">\n",
    "<h2><span class=\"fa fa-certificate\"></span> Objectives</h2>\n",
    "</div>\n",
    "\n",
    "\n",
    "<div class=\"panel-body\">\n",
    "\n",
    "<ul>\n",
    "<li>Convert between celestial coordinates and HEALPix indices</li>\n",
    "<li>Find the boundaries of HEALPix pixels</li>\n",
    "<li>Find healpix pixels close to a position</li>\n",
    "<li>Reproject a HEALPix map to a standard projection</li>\n",
    "</ul>\n",
    "\n",
    "</div>\n",
    "\n",
    "</section>\n"
   ]
  },
  {
   "cell_type": "markdown",
   "metadata": {},
   "source": [
    "## Documentation\n",
    "\n",
    "This notebook only shows a subset of the functionality in astropy-healpix and reproject. For more information about the features presented below as well as other available features, you can read the\n",
    "[astropy-healpix](https://astropy-healpix.readthedocs.io/en/latest/index.html) and the [reproject](https://reproject.readthedocs.io/en/stable/) documentation."
   ]
  },
  {
   "cell_type": "code",
   "execution_count": 2,
   "metadata": {},
   "outputs": [],
   "source": [
    "%matplotlib inline\n",
    "import matplotlib.pyplot as plt\n",
    "plt.rc('image', origin='lower')\n",
    "plt.rc('figure', figsize=(10, 6))"
   ]
  },
  {
   "cell_type": "markdown",
   "metadata": {},
   "source": [
    "## Data\n",
    "\n",
    "For this tutorial, we will be using a downsampled version of the Planck HFI 857Ghz map which is stored as a HEALPix map ([data/HFI_SkyMap_857_2048_R1.10_nominal_ZodiCorrected_lowres.fits](data/HFI_SkyMap_857_2048_R1.10_nominal_ZodiCorrected_lowres.fits))."
   ]
  },
  {
   "cell_type": "markdown",
   "metadata": {},
   "source": [
    "## Using astropy-healpix\n",
    "\n",
    "To start off, we can open the HEALPix file (which is a FITS file) with astropy.io.fits:"
   ]
  },
  {
   "cell_type": "code",
   "execution_count": 4,
   "metadata": {},
   "outputs": [
    {
     "name": "stdout",
     "output_type": "stream",
     "text": [
      "Filename: data/HFI_SkyMap_857_2048_R1.10_nominal_ZodiCorrected_lowres.fits\n",
      "No.    Name      Ver    Type      Cards   Dimensions   Format\n",
      "  0  PRIMARY       1 PrimaryHDU       4   ()      \n",
      "  1  FREQ-MAP      1 BinTableHDU     62   786432R x 1C   [E]   \n"
     ]
    }
   ],
   "source": [
    "from astropy.io import fits\n",
    "hdulist = fits.open('data/HFI_SkyMap_857_2048_R1.10_nominal_ZodiCorrected_lowres.fits')\n",
    "hdulist.info()"
   ]
  },
  {
   "cell_type": "markdown",
   "metadata": {},
   "source": [
    "The HEALPix map values are stored in HDU 1. This HDU also contains useful header information that helps us understand how to interpret the HEALPix values:"
   ]
  },
  {
   "cell_type": "code",
   "execution_count": 6,
   "metadata": {},
   "outputs": [
    {
     "data": {
      "text/plain": [
       "256"
      ]
     },
     "execution_count": 6,
     "metadata": {},
     "output_type": "execute_result"
    }
   ],
   "source": [
    "hdulist[1].header['NSIDE']"
   ]
  },
  {
   "cell_type": "code",
   "execution_count": 7,
   "metadata": {},
   "outputs": [
    {
     "data": {
      "text/plain": [
       "'NESTED'"
      ]
     },
     "execution_count": 7,
     "metadata": {},
     "output_type": "execute_result"
    }
   ],
   "source": [
    "hdulist[1].header['ORDERING']"
   ]
  },
  {
   "cell_type": "code",
   "execution_count": 8,
   "metadata": {},
   "outputs": [
    {
     "data": {
      "text/plain": [
       "'GALACTIC'"
      ]
     },
     "execution_count": 8,
     "metadata": {},
     "output_type": "execute_result"
    }
   ],
   "source": [
    "hdulist[1].header['COORDSYS']"
   ]
  },
  {
   "cell_type": "markdown",
   "metadata": {},
   "source": [
    "With this information we can now construct a ``HEALPix`` object:"
   ]
  },
  {
   "cell_type": "code",
   "execution_count": 9,
   "metadata": {},
   "outputs": [],
   "source": [
    "from astropy_healpix import HEALPix\n",
    "from astropy.coordinates import Galactic"
   ]
  },
  {
   "cell_type": "code",
   "execution_count": 10,
   "metadata": {},
   "outputs": [],
   "source": [
    "hp = HEALPix(nside=hdulist[1].header['NSIDE'],\n",
    "             order=hdulist[1].header['ORDERING'],\n",
    "             frame=Galactic())"
   ]
  },
  {
   "cell_type": "markdown",
   "metadata": {},
   "source": [
    "We can then use this object to manipulate the HEALPix map. To start off, we can find out what the coordinates of specific pixels are:"
   ]
  },
  {
   "cell_type": "code",
   "execution_count": 11,
   "metadata": {},
   "outputs": [
    {
     "data": {
      "text/plain": [
       "<SkyCoord (Galactic): (l, b) in deg\n",
       "    [( 50.09765625, 25.28260304), ( 38.3203125 ,  7.93333655),\n",
       "     (133.59375   ,  6.12920146)]>"
      ]
     },
     "execution_count": 11,
     "metadata": {},
     "output_type": "execute_result"
    }
   ],
   "source": [
    "hp.healpix_to_skycoord([13322, 2231, 66432])"
   ]
  },
  {
   "cell_type": "markdown",
   "metadata": {},
   "source": [
    "and vice-versa:"
   ]
  },
  {
   "cell_type": "code",
   "execution_count": 12,
   "metadata": {},
   "outputs": [
    {
     "data": {
      "text/plain": [
       "649476"
      ]
     },
     "execution_count": 12,
     "metadata": {},
     "output_type": "execute_result"
    }
   ],
   "source": [
    "from astropy.coordinates import SkyCoord\n",
    "hp.skycoord_to_healpix(SkyCoord.from_name('M31'))"
   ]
  },
  {
   "cell_type": "markdown",
   "metadata": {},
   "source": [
    "You can also find out what the boundaries of a pixel are:"
   ]
  },
  {
   "cell_type": "code",
   "execution_count": 13,
   "metadata": {
    "scrolled": true,
    "tags": []
   },
   "outputs": [
    {
     "data": {
      "text/plain": [
       "<SkyCoord (Galactic): (l, b) in deg\n",
       "    [[(121.2890625 , -21.38194258), (121.28730469, -21.38354496),\n",
       "      (121.28554687, -21.38514735), (121.28378906, -21.38674976),\n",
       "      (121.28203125, -21.38835219), (121.28027344, -21.38995464),\n",
       "      (121.27851563, -21.3915571 ), (121.27675781, -21.39315958),\n",
       "      (121.275     , -21.39476208), (121.27324219, -21.3963646 ),\n",
       "      (121.27148438, -21.39796713), (121.26972656, -21.39956968),\n",
       "      (121.26796875, -21.40117225), (121.26621094, -21.40277484),\n",
       "      (121.26445313, -21.40437744), (121.26269531, -21.40598006),\n",
       "      (121.2609375 , -21.4075827 ), (121.25917969, -21.40918536),\n",
       "      (121.25742187, -21.41078804), (121.25566406, -21.41239073),\n",
       "      (121.25390625, -21.41399344), (121.25214844, -21.41559616),\n",
       "      (121.25039062, -21.41719891), (121.24863281, -21.41880167),\n",
       "      (121.246875  , -21.42040445), (121.24511719, -21.42200725),\n",
       "      (121.24335938, -21.42361007), (121.24160156, -21.4252129 ),\n",
       "      (121.23984375, -21.42681575), (121.23808594, -21.42841862),\n",
       "      (121.23632812, -21.4300215 ), (121.23457031, -21.43162441),\n",
       "      (121.2328125 , -21.43322733), (121.23105469, -21.43483027),\n",
       "      (121.22929687, -21.43643322), (121.22753906, -21.4380362 ),\n",
       "      (121.22578125, -21.43963919), (121.22402344, -21.4412422 ),\n",
       "      (121.22226563, -21.44284522), (121.22050781, -21.44444827),\n",
       "      (121.21875   , -21.44605133), (121.21699219, -21.44765441),\n",
       "      (121.21523438, -21.4492575 ), (121.21347656, -21.45086062),\n",
       "      (121.21171875, -21.45246375), (121.20996094, -21.4540669 ),\n",
       "      (121.20820312, -21.45567007), (121.20644531, -21.45727325),\n",
       "      (121.2046875 , -21.45887646), (121.20292969, -21.46047968),\n",
       "      (121.20117188, -21.46208292), (121.19941406, -21.46368617),\n",
       "      (121.19765625, -21.46528944), (121.19589844, -21.46689274),\n",
       "      (121.19414063, -21.46849604), (121.19238281, -21.47009937),\n",
       "      (121.190625  , -21.47170271), (121.18886719, -21.47330608),\n",
       "      (121.18710938, -21.47490946), (121.18535156, -21.47651285),\n",
       "      (121.18359375, -21.47811627), (121.18183594, -21.4797197 ),\n",
       "      (121.18007812, -21.48132315), (121.17832031, -21.48292662),\n",
       "      (121.1765625 , -21.4845301 ), (121.17480469, -21.4861336 ),\n",
       "      (121.17304688, -21.48773712), (121.17128906, -21.48934066),\n",
       "      (121.16953125, -21.49094422), (121.16777344, -21.49254779),\n",
       "      (121.16601562, -21.49415138), (121.16425781, -21.49575499),\n",
       "      (121.1625    , -21.49735862), (121.16074219, -21.49896226),\n",
       "      (121.15898437, -21.50056592), (121.15722656, -21.5021696 ),\n",
       "      (121.15546875, -21.5037733 ), (121.15371094, -21.50537702),\n",
       "      (121.15195313, -21.50698075), (121.15019531, -21.5085845 ),\n",
       "      (121.1484375 , -21.51018827), (121.14667969, -21.51179205),\n",
       "      (121.14492188, -21.51339586), (121.14316406, -21.51499968),\n",
       "      (121.14140625, -21.51660352), (121.13964844, -21.51820737),\n",
       "      (121.13789062, -21.51981125), (121.13613281, -21.52141514),\n",
       "      (121.134375  , -21.52301905), (121.13261719, -21.52462298),\n",
       "      (121.13085938, -21.52622692), (121.12910156, -21.52783088),\n",
       "      (121.12734375, -21.52943486), (121.12558594, -21.53103886),\n",
       "      (121.12382812, -21.53264288), (121.12207031, -21.53424691),\n",
       "      (121.1203125 , -21.53585096), (121.11855469, -21.53745503),\n",
       "      (121.11679688, -21.53905912), (121.11503906, -21.54066322),\n",
       "      (121.11328125, -21.54226734), (121.11503906, -21.54387148),\n",
       "      (121.11679688, -21.54547564), (121.11855469, -21.54707982),\n",
       "      (121.1203125 , -21.54868401), (121.12207031, -21.55028822),\n",
       "      (121.12382812, -21.55189245), (121.12558594, -21.5534967 ),\n",
       "      (121.12734375, -21.55510096), (121.12910156, -21.55670524),\n",
       "      (121.13085938, -21.55830954), (121.13261719, -21.55991386),\n",
       "      (121.134375  , -21.56151819), (121.13613281, -21.56312255),\n",
       "      (121.13789062, -21.56472692), (121.13964844, -21.56633131),\n",
       "      (121.14140625, -21.56793571), (121.14316406, -21.56954014),\n",
       "      (121.14492188, -21.57114458), (121.14667969, -21.57274904),\n",
       "      (121.1484375 , -21.57435351), (121.15019531, -21.57595801),\n",
       "      (121.15195313, -21.57756252), (121.15371094, -21.57916705),\n",
       "      (121.15546875, -21.5807716 ), (121.15722656, -21.58237617),\n",
       "      (121.15898437, -21.58398075), (121.16074219, -21.58558535),\n",
       "      (121.1625    , -21.58718997), (121.16425781, -21.58879461),\n",
       "      (121.16601562, -21.59039926), (121.16777344, -21.59200393),\n",
       "      (121.16953125, -21.59360863), (121.17128906, -21.59521333),\n",
       "      (121.17304688, -21.59681806), (121.17480469, -21.5984228 ),\n",
       "      (121.1765625 , -21.60002756), (121.17832031, -21.60163234),\n",
       "      (121.18007812, -21.60323714), (121.18183594, -21.60484196),\n",
       "      (121.18359375, -21.60644679), (121.18535156, -21.60805164),\n",
       "      (121.18710938, -21.60965651), (121.18886719, -21.61126139),\n",
       "      (121.190625  , -21.6128663 ), (121.19238281, -21.61447122),\n",
       "      (121.19414063, -21.61607616), (121.19589844, -21.61768112),\n",
       "      (121.19765625, -21.61928609), (121.19941406, -21.62089109),\n",
       "      (121.20117188, -21.6224961 ), (121.20292969, -21.62410113),\n",
       "      (121.2046875 , -21.62570617), (121.20644531, -21.62731124),\n",
       "      (121.20820312, -21.62891632), (121.20996094, -21.63052142),\n",
       "      (121.21171875, -21.63212654), (121.21347656, -21.63373167),\n",
       "      (121.21523438, -21.63533683), (121.21699219, -21.636942  ),\n",
       "      (121.21875   , -21.63854719), (121.22050781, -21.64015239),\n",
       "      (121.22226563, -21.64175762), (121.22402344, -21.64336286),\n",
       "      (121.22578125, -21.64496812), (121.22753906, -21.6465734 ),\n",
       "      (121.22929687, -21.6481787 ), (121.23105469, -21.64978401),\n",
       "      (121.2328125 , -21.65138934), (121.23457031, -21.65299469),\n",
       "      (121.23632812, -21.65460006), (121.23808594, -21.65620545),\n",
       "      (121.23984375, -21.65781085), (121.24160156, -21.65941627),\n",
       "      (121.24335938, -21.66102171), (121.24511719, -21.66262717),\n",
       "      (121.246875  , -21.66423264), (121.24863281, -21.66583813),\n",
       "      (121.25039062, -21.66744364), (121.25214844, -21.66904917),\n",
       "      (121.25390625, -21.67065472), (121.25566406, -21.67226028),\n",
       "      (121.25742187, -21.67386587), (121.25917969, -21.67547147),\n",
       "      (121.2609375 , -21.67707708), (121.26269531, -21.67868272),\n",
       "      (121.26445313, -21.68028837), (121.26621094, -21.68189405),\n",
       "      (121.26796875, -21.68349973), (121.26972656, -21.68510544),\n",
       "      (121.27148438, -21.68671117), (121.27324219, -21.68831691),\n",
       "      (121.275     , -21.68992267), (121.27675781, -21.69152845),\n",
       "      (121.27851563, -21.69313425), (121.28027344, -21.69474006),\n",
       "      (121.28203125, -21.69634589), (121.28378906, -21.69795174),\n",
       "      (121.28554687, -21.69955761), (121.28730469, -21.7011635 ),\n",
       "      (121.2890625 , -21.7027694 ), (121.29082031, -21.7011635 ),\n",
       "      (121.29257813, -21.69955761), (121.29433594, -21.69795174),\n",
       "      (121.29609375, -21.69634589), (121.29785156, -21.69474006),\n",
       "      (121.29960937, -21.69313425), (121.30136719, -21.69152845),\n",
       "      (121.303125  , -21.68992267), (121.30488281, -21.68831691),\n",
       "      (121.30664062, -21.68671117), (121.30839844, -21.68510544),\n",
       "      (121.31015625, -21.68349973), (121.31191406, -21.68189405),\n",
       "      (121.31367188, -21.68028837), (121.31542969, -21.67868272),\n",
       "      (121.3171875 , -21.67707708), (121.31894531, -21.67547147),\n",
       "      (121.32070313, -21.67386587), (121.32246094, -21.67226028),\n",
       "      (121.32421875, -21.67065472), (121.32597656, -21.66904917),\n",
       "      (121.32773438, -21.66744364), (121.32949219, -21.66583813),\n",
       "      (121.33125   , -21.66423264), (121.33300781, -21.66262717),\n",
       "      (121.33476563, -21.66102171), (121.33652344, -21.65941627),\n",
       "      (121.33828125, -21.65781085), (121.34003906, -21.65620545),\n",
       "      (121.34179688, -21.65460006), (121.34355469, -21.65299469),\n",
       "      (121.3453125 , -21.65138934), (121.34707031, -21.64978401),\n",
       "      (121.34882812, -21.6481787 ), (121.35058594, -21.6465734 ),\n",
       "      (121.35234375, -21.64496812), (121.35410156, -21.64336286),\n",
       "      (121.35585937, -21.64175762), (121.35761719, -21.64015239),\n",
       "      (121.359375  , -21.63854719), (121.36113281, -21.636942  ),\n",
       "      (121.36289062, -21.63533683), (121.36464844, -21.63373167),\n",
       "      (121.36640625, -21.63212654), (121.36816406, -21.63052142),\n",
       "      (121.36992188, -21.62891632), (121.37167969, -21.62731124),\n",
       "      (121.3734375 , -21.62570617), (121.37519531, -21.62410113),\n",
       "      (121.37695312, -21.6224961 ), (121.37871094, -21.62089109),\n",
       "      (121.38046875, -21.61928609), (121.38222656, -21.61768112),\n",
       "      (121.38398437, -21.61607616), (121.38574219, -21.61447122),\n",
       "      (121.3875    , -21.6128663 ), (121.38925781, -21.61126139),\n",
       "      (121.39101563, -21.60965651), (121.39277344, -21.60805164),\n",
       "      (121.39453125, -21.60644679), (121.39628906, -21.60484196),\n",
       "      (121.39804687, -21.60323714), (121.39980469, -21.60163234),\n",
       "      (121.4015625 , -21.60002756), (121.40332031, -21.5984228 ),\n",
       "      (121.40507813, -21.59681806), (121.40683594, -21.59521333),\n",
       "      (121.40859375, -21.59360863), (121.41035156, -21.59200393),\n",
       "      (121.41210938, -21.59039926), (121.41386719, -21.58879461),\n",
       "      (121.415625  , -21.58718997), (121.41738281, -21.58558535),\n",
       "      (121.41914062, -21.58398075), (121.42089844, -21.58237617),\n",
       "      (121.42265625, -21.5807716 ), (121.42441406, -21.57916705),\n",
       "      (121.42617187, -21.57756252), (121.42792969, -21.57595801),\n",
       "      (121.4296875 , -21.57435351), (121.43144531, -21.57274904),\n",
       "      (121.43320312, -21.57114458), (121.43496094, -21.56954014),\n",
       "      (121.43671875, -21.56793571), (121.43847656, -21.56633131),\n",
       "      (121.44023438, -21.56472692), (121.44199219, -21.56312255),\n",
       "      (121.44375   , -21.56151819), (121.44550781, -21.55991386),\n",
       "      (121.44726562, -21.55830954), (121.44902344, -21.55670524),\n",
       "      (121.45078125, -21.55510096), (121.45253906, -21.5534967 ),\n",
       "      (121.45429687, -21.55189245), (121.45605469, -21.55028822),\n",
       "      (121.4578125 , -21.54868401), (121.45957031, -21.54707982),\n",
       "      (121.46132813, -21.54547564), (121.46308594, -21.54387148),\n",
       "      (121.46484375, -21.54226734), (121.46308594, -21.54066322),\n",
       "      (121.46132813, -21.53905912), (121.45957031, -21.53745503),\n",
       "      (121.4578125 , -21.53585096), (121.45605469, -21.53424691),\n",
       "      (121.45429687, -21.53264288), (121.45253906, -21.53103886),\n",
       "      (121.45078125, -21.52943486), (121.44902344, -21.52783088),\n",
       "      (121.44726562, -21.52622692), (121.44550781, -21.52462298),\n",
       "      (121.44375   , -21.52301905), (121.44199219, -21.52141514),\n",
       "      (121.44023438, -21.51981125), (121.43847656, -21.51820737),\n",
       "      (121.43671875, -21.51660352), (121.43496094, -21.51499968),\n",
       "      (121.43320312, -21.51339586), (121.43144531, -21.51179205),\n",
       "      (121.4296875 , -21.51018827), (121.42792969, -21.5085845 ),\n",
       "      (121.42617187, -21.50698075), (121.42441406, -21.50537702),\n",
       "      (121.42265625, -21.5037733 ), (121.42089844, -21.5021696 ),\n",
       "      (121.41914062, -21.50056592), (121.41738281, -21.49896226),\n",
       "      (121.415625  , -21.49735862), (121.41386719, -21.49575499),\n",
       "      (121.41210938, -21.49415138), (121.41035156, -21.49254779),\n",
       "      (121.40859375, -21.49094422), (121.40683594, -21.48934066),\n",
       "      (121.40507813, -21.48773712), (121.40332031, -21.4861336 ),\n",
       "      (121.4015625 , -21.4845301 ), (121.39980469, -21.48292662),\n",
       "      (121.39804687, -21.48132315), (121.39628906, -21.4797197 ),\n",
       "      (121.39453125, -21.47811627), (121.39277344, -21.47651285),\n",
       "      (121.39101563, -21.47490946), (121.38925781, -21.47330608),\n",
       "      (121.3875    , -21.47170271), (121.38574219, -21.47009937),\n",
       "      (121.38398437, -21.46849604), (121.38222656, -21.46689274),\n",
       "      (121.38046875, -21.46528944), (121.37871094, -21.46368617),\n",
       "      (121.37695312, -21.46208292), (121.37519531, -21.46047968),\n",
       "      (121.3734375 , -21.45887646), (121.37167969, -21.45727325),\n",
       "      (121.36992188, -21.45567007), (121.36816406, -21.4540669 ),\n",
       "      (121.36640625, -21.45246375), (121.36464844, -21.45086062),\n",
       "      (121.36289062, -21.4492575 ), (121.36113281, -21.44765441),\n",
       "      (121.359375  , -21.44605133), (121.35761719, -21.44444827),\n",
       "      (121.35585937, -21.44284522), (121.35410156, -21.4412422 ),\n",
       "      (121.35234375, -21.43963919), (121.35058594, -21.4380362 ),\n",
       "      (121.34882812, -21.43643322), (121.34707031, -21.43483027),\n",
       "      (121.3453125 , -21.43322733), (121.34355469, -21.43162441),\n",
       "      (121.34179688, -21.4300215 ), (121.34003906, -21.42841862),\n",
       "      (121.33828125, -21.42681575), (121.33652344, -21.4252129 ),\n",
       "      (121.33476563, -21.42361007), (121.33300781, -21.42200725),\n",
       "      (121.33125   , -21.42040445), (121.32949219, -21.41880167),\n",
       "      (121.32773438, -21.41719891), (121.32597656, -21.41559616),\n",
       "      (121.32421875, -21.41399344), (121.32246094, -21.41239073),\n",
       "      (121.32070313, -21.41078804), (121.31894531, -21.40918536),\n",
       "      (121.3171875 , -21.4075827 ), (121.31542969, -21.40598006),\n",
       "      (121.31367188, -21.40437744), (121.31191406, -21.40277484),\n",
       "      (121.31015625, -21.40117225), (121.30839844, -21.39956968),\n",
       "      (121.30664062, -21.39796713), (121.30488281, -21.3963646 ),\n",
       "      (121.303125  , -21.39476208), (121.30136719, -21.39315958),\n",
       "      (121.29960937, -21.3915571 ), (121.29785156, -21.38995464),\n",
       "      (121.29609375, -21.38835219), (121.29433594, -21.38674976),\n",
       "      (121.29257813, -21.38514735), (121.29082031, -21.38354496)]]>"
      ]
     },
     "execution_count": 13,
     "metadata": {},
     "output_type": "execute_result"
    }
   ],
   "source": [
    "edge = hp.boundaries_skycoord(649476, step = 100)\n",
    "edge"
   ]
  },
  {
   "cell_type": "markdown",
   "metadata": {},
   "source": [
    "The ``step`` argument controls how many points to sample along the edge of the pixel. The result should be a polygon:"
   ]
  },
  {
   "cell_type": "code",
   "execution_count": 16,
   "metadata": {},
   "outputs": [
    {
     "data": {
      "text/plain": [
       "[<matplotlib.lines.Line2D at 0x1d10dbd27c0>]"
      ]
     },
     "execution_count": 16,
     "metadata": {},
     "output_type": "execute_result"
    },
    {
     "data": {
      "image/png": "[encoded data removed]",
      "text/plain": [
       "<Figure size 720x432 with 1 Axes>"
      ]
     },
     "metadata": {
      "needs_background": "light"
     },
     "output_type": "display_data"
    }
   ],
   "source": [
    "plt.plot(edge[0].l.deg, edge[0].b.deg)"
   ]
  },
  {
   "cell_type": "markdown",
   "metadata": {},
   "source": [
    "You can find all HEALPix pixels within a certain radius of a known position:"
   ]
  },
  {
   "cell_type": "code",
   "execution_count": 17,
   "metadata": {},
   "outputs": [
    {
     "data": {
      "text/plain": [
       "array([649476, 649477, 649479, 649478, 649475, 649473, 648107, 648110,\n",
       "       648111, 648122, 649488, 648108, 648109, 648120, 648121, 648123,\n",
       "       648103, 648114, 648115, 648124, 648112, 648101, 648102, 648100,\n",
       "       648099, 648097, 648098, 648096, 647927, 647925, 647926, 647933,\n",
       "       647932, 647935, 647934, 647931, 649300, 649297, 649302, 649299,\n",
       "       649308, 649305, 649310, 649311, 649333, 649309, 649480, 649482,\n",
       "       649303, 649474, 649481, 649301, 649472, 648106, 648104, 648105,\n",
       "       649484, 649486, 649483, 649508, 649505, 649504, 649507, 649510,\n",
       "       649511, 649509, 649520, 649487, 649498, 649499, 649521, 649485,\n",
       "       649496, 649497, 649500, 649490, 649491, 649494, 649489, 649492,\n",
       "       648126], dtype=int64)"
      ]
     },
     "execution_count": 17,
     "metadata": {},
     "output_type": "execute_result"
    }
   ],
   "source": [
    "from astropy import units as u\n",
    "hp.cone_search_skycoord(SkyCoord.from_name('M31'), radius = 1 * u.deg)"
   ]
  },
  {
   "cell_type": "markdown",
   "metadata": {},
   "source": [
    "And finally you can interpolate the map at specific coordinates:"
   ]
  },
  {
   "cell_type": "code",
   "execution_count": 18,
   "metadata": {},
   "outputs": [
    {
     "data": {
      "text/plain": [
       "10.641902526953075"
      ]
     },
     "execution_count": 18,
     "metadata": {},
     "output_type": "execute_result"
    }
   ],
   "source": [
    "hp.interpolate_bilinear_skycoord(SkyCoord.from_name('M31'), hdulist[1].data['I_STOKES'])"
   ]
  },
  {
   "cell_type": "markdown",
   "metadata": {},
   "source": [
    "\n",
    "<section class=\"challenge panel panel-success\">\n",
    "<div class=\"panel-heading\">\n",
    "<h2><span class=\"fa fa-pencil\"></span> Challenge</h2>\n",
    "</div>\n",
    "\n",
    "\n",
    "<div class=\"panel-body\">\n",
    "\n",
    "<ol>\n",
    "<li>Find the mean value of I_STOKES within 2 degrees of M42</li>\n",
    "<li>Use astropy.coordinates to check that all the pixels returned by the cone search are indeed within 2 degrees of M42 (if not, why not? Hint: check the documentation of <a href=\"https://astropy-healpix.readthedocs.io/en/latest/api/astropy_healpix.HEALPix.html#astropy_healpix.HEALPix.cone_search_skycoord\">cone_search_skycoord()</a>)</li>\n",
    "</ol>\n",
    "\n",
    "</div>\n",
    "\n",
    "</section>\n"
   ]
  },
  {
   "cell_type": "code",
   "execution_count": null,
   "metadata": {},
   "outputs": [],
   "source": [
    "#optional"
   ]
  },
  {
   "cell_type": "code",
   "execution_count": null,
   "metadata": {},
   "outputs": [],
   "source": []
  },
  {
   "cell_type": "markdown",
   "metadata": {},
   "source": [
    "## Using reproject for HEALPix data\n",
    "\n",
    "The reproject package is useful for HEALPix data to convert a HEALPix map to a regular projection, and vice-versa. For example, let's define a simple all-sky Plate-Caree WCS:"
   ]
  },
  {
   "cell_type": "code",
   "execution_count": 19,
   "metadata": {},
   "outputs": [],
   "source": [
    "from astropy.wcs import WCS\n",
    "wcs = WCS(naxis=2)\n",
    "wcs.wcs.ctype = 'GLON-CAR', 'GLAT-CAR'\n",
    "wcs.wcs.crval = 0, 0\n",
    "wcs.wcs.crpix = 180.5, 90.5\n",
    "wcs.wcs.cdelt = -1, 1"
   ]
  },
  {
   "cell_type": "markdown",
   "metadata": {},
   "source": [
    "We can now use [reproject_from_healpix](https://reproject.readthedocs.io/en/stable/api/reproject.reproject_from_healpix.html#reproject.reproject_from_healpix) to convert the HEALPix map to this header:"
   ]
  },
  {
   "cell_type": "code",
   "execution_count": 23,
   "metadata": {},
   "outputs": [
    {
     "ename": "ImportError",
     "evalue": "cannot import name 'six' from 'astropy.extern' (c:\\users\\ssbch\\astropy\\astropy\\extern\\__init__.py)",
     "output_type": "error",
     "traceback": [
      "\u001b[1;31m---------------------------------------------------------------------------\u001b[0m",
      "\u001b[1;31mImportError\u001b[0m                               Traceback (most recent call last)",
      "\u001b[1;32m<ipython-input-23-dfecdf5aab7d>\u001b[0m in \u001b[0;36m<module>\u001b[1;34m\u001b[0m\n\u001b[1;32m----> 1\u001b[1;33m \u001b[1;32mfrom\u001b[0m \u001b[0mreproject\u001b[0m \u001b[1;32mimport\u001b[0m \u001b[0mreproject_from_healpix\u001b[0m\u001b[1;33m\u001b[0m\u001b[1;33m\u001b[0m\u001b[0m\n\u001b[0m",
      "\u001b[1;32mc:\\users\\ssbch\\appdata\\local\\programs\\python\\python39\\lib\\site-packages\\reproject\\__init__.py\u001b[0m in \u001b[0;36m<module>\u001b[1;34m\u001b[0m\n\u001b[0;32m     11\u001b[0m \u001b[1;33m\u001b[0m\u001b[0m\n\u001b[0;32m     12\u001b[0m \u001b[1;32mif\u001b[0m \u001b[1;32mnot\u001b[0m \u001b[0m_ASTROPY_SETUP_\u001b[0m\u001b[1;33m:\u001b[0m\u001b[1;33m\u001b[0m\u001b[1;33m\u001b[0m\u001b[0m\n\u001b[1;32m---> 13\u001b[1;33m     \u001b[1;32mfrom\u001b[0m \u001b[1;33m.\u001b[0m\u001b[0minterpolation\u001b[0m \u001b[1;32mimport\u001b[0m \u001b[0mreproject_interp\u001b[0m\u001b[1;33m\u001b[0m\u001b[1;33m\u001b[0m\u001b[0m\n\u001b[0m\u001b[0;32m     14\u001b[0m     \u001b[1;32mfrom\u001b[0m \u001b[1;33m.\u001b[0m\u001b[0mspherical_intersect\u001b[0m \u001b[1;32mimport\u001b[0m \u001b[0mreproject_exact\u001b[0m\u001b[1;33m\u001b[0m\u001b[1;33m\u001b[0m\u001b[0m\n\u001b[0;32m     15\u001b[0m     \u001b[1;32mfrom\u001b[0m \u001b[1;33m.\u001b[0m\u001b[0mhealpix\u001b[0m \u001b[1;32mimport\u001b[0m \u001b[0mreproject_from_healpix\u001b[0m\u001b[1;33m,\u001b[0m \u001b[0mreproject_to_healpix\u001b[0m\u001b[1;33m\u001b[0m\u001b[1;33m\u001b[0m\u001b[0m\n",
      "\u001b[1;32mc:\\users\\ssbch\\appdata\\local\\programs\\python\\python39\\lib\\site-packages\\reproject\\interpolation\\__init__.py\u001b[0m in \u001b[0;36m<module>\u001b[1;34m\u001b[0m\n\u001b[0;32m      3\u001b[0m \u001b[0mRoutines\u001b[0m \u001b[0mto\u001b[0m \u001b[0mcarry\u001b[0m \u001b[0mout\u001b[0m \u001b[0mreprojection\u001b[0m \u001b[0mby\u001b[0m \u001b[0minterpolation\u001b[0m\u001b[1;33m.\u001b[0m\u001b[1;33m\u001b[0m\u001b[1;33m\u001b[0m\u001b[0m\n\u001b[0;32m      4\u001b[0m \"\"\"\n\u001b[1;32m----> 5\u001b[1;33m \u001b[1;32mfrom\u001b[0m \u001b[1;33m.\u001b[0m\u001b[0mhigh_level\u001b[0m \u001b[1;32mimport\u001b[0m \u001b[1;33m*\u001b[0m\u001b[1;33m\u001b[0m\u001b[1;33m\u001b[0m\u001b[0m\n\u001b[0m",
      "\u001b[1;32mc:\\users\\ssbch\\appdata\\local\\programs\\python\\python39\\lib\\site-packages\\reproject\\interpolation\\high_level.py\u001b[0m in \u001b[0;36m<module>\u001b[1;34m\u001b[0m\n\u001b[0;32m      3\u001b[0m                         unicode_literals)\n\u001b[0;32m      4\u001b[0m \u001b[1;33m\u001b[0m\u001b[0m\n\u001b[1;32m----> 5\u001b[1;33m \u001b[1;32mfrom\u001b[0m \u001b[0mastropy\u001b[0m\u001b[1;33m.\u001b[0m\u001b[0mextern\u001b[0m \u001b[1;32mimport\u001b[0m \u001b[0msix\u001b[0m\u001b[1;33m\u001b[0m\u001b[1;33m\u001b[0m\u001b[0m\n\u001b[0m\u001b[0;32m      6\u001b[0m \u001b[1;33m\u001b[0m\u001b[0m\n\u001b[0;32m      7\u001b[0m \u001b[1;32mfrom\u001b[0m \u001b[1;33m.\u001b[0m\u001b[1;33m.\u001b[0m\u001b[0mutils\u001b[0m \u001b[1;32mimport\u001b[0m \u001b[0mparse_input_data\u001b[0m\u001b[1;33m,\u001b[0m \u001b[0mparse_output_projection\u001b[0m\u001b[1;33m\u001b[0m\u001b[1;33m\u001b[0m\u001b[0m\n",
      "\u001b[1;31mImportError\u001b[0m: cannot import name 'six' from 'astropy.extern' (c:\\users\\ssbch\\astropy\\astropy\\extern\\__init__.py)"
     ]
    }
   ],
   "source": [
    "from reproject import reproject_from_healpix"
   ]
  },
  {
   "cell_type": "code",
   "execution_count": null,
   "metadata": {},
   "outputs": [],
   "source": [
    "array, footprint = reproject_from_healpix('data/HFI_SkyMap_857_2048_R1.10_nominal_ZodiCorrected_lowres.fits',\n",
    "                                         wcs, shape_out=(180, 360))"
   ]
  },
  {
   "cell_type": "code",
   "execution_count": null,
   "metadata": {},
   "outputs": [],
   "source": [
    "plt.imshow(array, vmax=100)"
   ]
  },
  {
   "cell_type": "markdown",
   "metadata": {},
   "source": [
    "You can also use [reproject_to_healpix](https://reproject.readthedocs.io/en/stable/api/reproject.reproject_to_healpix.html#reproject.reproject_to_healpix) to convert a regular map to a HEALPix array."
   ]
  },
  {
   "cell_type": "markdown",
   "metadata": {},
   "source": [
    "\n",
    "<section class=\"challenge panel panel-success\">\n",
    "<div class=\"panel-heading\">\n",
    "<h2><span class=\"fa fa-pencil\"></span> Challenge</h2>\n",
    "</div>\n",
    "\n",
    "\n",
    "<div class=\"panel-body\">\n",
    "\n",
    "<ol>\n",
    "<li>Reproject the HFI HEALPix map to the projection of the GAIA point source density map as well as the IRAS map that we used in previous tutorials.</li>\n",
    "<li>Visualize the results using WCSAxes and optionally the image normalization options.</li>\n",
    "</ol>\n",
    "\n",
    "</div>\n",
    "\n",
    "</section>\n"
   ]
  },
  {
   "cell_type": "code",
   "execution_count": null,
   "metadata": {},
   "outputs": [],
   "source": [
    "#optional"
   ]
  },
  {
   "cell_type": "code",
   "execution_count": null,
   "metadata": {},
   "outputs": [],
   "source": []
  },
  {
   "cell_type": "markdown",
   "metadata": {},
   "source": [
    "<center><i>This notebook was originally written by <a href=\"https://aperiosoftware.com/\">Aperio Software Ltd</a> and modified by Brigitta Sipőcz. &copy; 2019-2021 and is licensed under a <a href=\"https://creativecommons.org/licenses/by/4.0/\">Creative Commons Attribution 4.0 International License (CC BY 4.0)</a></i></center>\n",
    "\n",
    "![cc](https://mirrors.creativecommons.org/presskit/buttons/88x31/svg/by.svg)"
   ]
  },
  {
   "cell_type": "code",
   "execution_count": null,
   "metadata": {},
   "outputs": [],
   "source": []
  }
 ],
 "metadata": {
  "kernelspec": {
   "display_name": "Python 3",
   "language": "python",
   "name": "python3"
  },
  "language_info": {
   "codemirror_mode": {
    "name": "ipython",
    "version": 3
   },
   "file_extension": ".py",
   "mimetype": "text/x-python",
   "name": "python",
   "nbconvert_exporter": "python",
   "pygments_lexer": "ipython3",
   "version": "3.9.3"
  },
  "toc": {
   "base_numbering": 1,
   "nav_menu": {},
   "number_sections": true,
   "sideBar": true,
   "skip_h1_title": false,
   "title_cell": "Table of Contents",
   "title_sidebar": "Contents",
   "toc_cell": false,
   "toc_position": {},
   "toc_section_display": true,
   "toc_window_display": false
  }
 },
 "nbformat": 4,
 "nbformat_minor": 4
}
