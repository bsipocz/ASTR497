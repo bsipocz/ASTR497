{
 "cells": [
  {
   "cell_type": "markdown",
   "metadata": {},
   "source": [
    "# A common interface for handling tabular data\n",
    "\n",
    "As we've seen in the FITS tutorial, the [astropy.io.fits](http://docs.astropy.org/en/stable/io/fits/index.html) sub-package can be used to access FITS tables. In addition, as we will see in the next tutorial, there is functionality in [astropy.io.votable](http://docs.astropy.org/en/stable/io/votable/index.html) and [astropy.io.ascii](http://docs.astropy.org/en/stable/io/ascii/index.html) to read in VO and ASCII tables. However, while these sub-pacakges have user interfaces that are specific to each kind of file, it can be difficult to remember all of them. Therefore, astropy includes a higher level interface in [astropy.table](http://docs.astropy.org/en/stable/table/index.html) which can be used to access tables in many different formats in a similar way."
   ]
  },
  {
   "cell_type": "markdown",
   "metadata": {},
   "source": [
    "\n",
    "<section class=\"objectives panel panel-warning\">\n",
    "<div class=\"panel-heading\">\n",
    "<h2><span class=\"fa fa-certificate\"></span> Objectives</h2>\n",
    "</div>\n",
    "\n",
    "\n",
    "<div class=\"panel-body\">\n",
    "\n",
    "<ul>\n",
    "<li>Create tables</li>\n",
    "<li>Access data in tables</li>\n",
    "<li>Combining tables</li>\n",
    "<li>Using high-level objects as columns</li>\n",
    "<li>Aggregation</li>\n",
    "<li>Masking</li>\n",
    "<li>Reading/writing</li>\n",
    "</ul>\n",
    "\n",
    "</div>\n",
    "\n",
    "</section>\n"
   ]
  },
  {
   "cell_type": "markdown",
   "metadata": {},
   "source": [
    "## Documentation\n",
    "\n",
    "This notebook only shows a subset of the functionality in astropy.table. For more information about the features presented below as well as other available features, you can read the\n",
    "[astropy.table documentation](https://docs.astropy.org/en/stable/table/)."
   ]
  },
  {
   "cell_type": "code",
   "execution_count": 14,
   "metadata": {},
   "outputs": [],
   "source": [
    "%matplotlib inline\n",
    "import matplotlib.pyplot as plt\n",
    "plt.rc('image', origin='lower')\n",
    "plt.rc('figure', figsize=(10, 6))"
   ]
  },
  {
   "cell_type": "markdown",
   "metadata": {},
   "source": [
    "## Creating tables\n",
    "\n",
    "The main class we will use here is called ``Table``:"
   ]
  },
  {
   "cell_type": "code",
   "execution_count": 2,
   "metadata": {},
   "outputs": [],
   "source": [
    "from astropy.table import Table"
   ]
  },
  {
   "cell_type": "markdown",
   "metadata": {},
   "source": [
    "Before we look at how to read and write tables, let's first see how to create a table from scratch:"
   ]
  },
  {
   "cell_type": "code",
   "execution_count": 4,
   "metadata": {},
   "outputs": [],
   "source": [
    "t1 = Table()\n",
    "t1['name'] = ['source 1', 'source 2', 'source 3']\n",
    "t1['flux'] = [1.2, 2.2, 3.1]"
   ]
  },
  {
   "cell_type": "markdown",
   "metadata": {},
   "source": [
    "We can look at the table with:"
   ]
  },
  {
   "cell_type": "code",
   "execution_count": 5,
   "metadata": {},
   "outputs": [
    {
     "data": {
      "text/html": [
       "<i>Table length=3</i>\n",
       "<table id=\"table2740707913248\" class=\"table-striped table-bordered table-condensed\">\n",
       "<thead><tr><th>name</th><th>flux</th></tr></thead>\n",
       "<thead><tr><th>str8</th><th>float64</th></tr></thead>\n",
       "<tr><td>source 1</td><td>1.2</td></tr>\n",
       "<tr><td>source 2</td><td>2.2</td></tr>\n",
       "<tr><td>source 3</td><td>3.1</td></tr>\n",
       "</table>"
      ],
      "text/plain": [
       "<Table length=3>\n",
       "  name     flux \n",
       "  str8   float64\n",
       "-------- -------\n",
       "source 1     1.2\n",
       "source 2     2.2\n",
       "source 3     3.1"
      ]
     },
     "execution_count": 5,
     "metadata": {},
     "output_type": "execute_result"
    }
   ],
   "source": [
    "t1"
   ]
  },
  {
   "cell_type": "code",
   "execution_count": null,
   "metadata": {},
   "outputs": [],
   "source": []
  },
  {
   "cell_type": "markdown",
   "metadata": {},
   "source": [
    "We can add columns:"
   ]
  },
  {
   "cell_type": "code",
   "execution_count": 6,
   "metadata": {},
   "outputs": [
    {
     "data": {
      "text/html": [
       "<i>Table length=3</i>\n",
       "<table id=\"table2740707913248\" class=\"table-striped table-bordered table-condensed\">\n",
       "<thead><tr><th>name</th><th>flux</th><th>size</th></tr></thead>\n",
       "<thead><tr><th>str8</th><th>float64</th><th>int32</th></tr></thead>\n",
       "<tr><td>source 1</td><td>1.2</td><td>1</td></tr>\n",
       "<tr><td>source 2</td><td>2.2</td><td>5</td></tr>\n",
       "<tr><td>source 3</td><td>3.1</td><td>4</td></tr>\n",
       "</table>"
      ],
      "text/plain": [
       "<Table length=3>\n",
       "  name     flux   size\n",
       "  str8   float64 int32\n",
       "-------- ------- -----\n",
       "source 1     1.2     1\n",
       "source 2     2.2     5\n",
       "source 3     3.1     4"
      ]
     },
     "execution_count": 6,
     "metadata": {},
     "output_type": "execute_result"
    }
   ],
   "source": [
    "t1['size'] = 1, 5, 4\n",
    "t1"
   ]
  },
  {
   "cell_type": "markdown",
   "metadata": {},
   "source": [
    "Access the values in a column:"
   ]
  },
  {
   "cell_type": "code",
   "execution_count": 6,
   "metadata": {},
   "outputs": [
    {
     "data": {
      "text/html": [
       "&lt;Column name=&apos;size&apos; dtype=&apos;int32&apos; length=3&gt;\n",
       "<table>\n",
       "<tr><td>1</td></tr>\n",
       "<tr><td>5</td></tr>\n",
       "<tr><td>4</td></tr>\n",
       "</table>"
      ],
      "text/plain": [
       "<Column name='size' dtype='int32' length=3>\n",
       "1\n",
       "5\n",
       "4"
      ]
     },
     "execution_count": 6,
     "metadata": {},
     "output_type": "execute_result"
    }
   ],
   "source": [
    "t1['size']"
   ]
  },
  {
   "cell_type": "code",
   "execution_count": null,
   "metadata": {},
   "outputs": [],
   "source": []
  },
  {
   "cell_type": "markdown",
   "metadata": {},
   "source": [
    "Convert the column to a Numpy array:"
   ]
  },
  {
   "cell_type": "code",
   "execution_count": 7,
   "metadata": {},
   "outputs": [
    {
     "data": {
      "text/plain": [
       "array([1, 5, 4])"
      ]
     },
     "execution_count": 7,
     "metadata": {},
     "output_type": "execute_result"
    }
   ],
   "source": [
    "import numpy as np\n",
    "np.array(t1['size'])"
   ]
  },
  {
   "cell_type": "markdown",
   "metadata": {},
   "source": [
    "Access individual cells:"
   ]
  },
  {
   "cell_type": "code",
   "execution_count": 8,
   "metadata": {},
   "outputs": [
    {
     "data": {
      "text/plain": [
       "1"
      ]
     },
     "execution_count": 8,
     "metadata": {},
     "output_type": "execute_result"
    }
   ],
   "source": [
    "t1['size'][0]"
   ]
  },
  {
   "cell_type": "markdown",
   "metadata": {},
   "source": [
    "And access rows:"
   ]
  },
  {
   "cell_type": "code",
   "execution_count": 9,
   "metadata": {},
   "outputs": [
    {
     "data": {
      "text/html": [
       "<i>Row index=0</i>\n",
       "<table id=\"table2290091559952\">\n",
       "<thead><tr><th>name</th><th>flux</th><th>size</th></tr></thead>\n",
       "<thead><tr><th>str8</th><th>float64</th><th>int32</th></tr></thead>\n",
       "<tr><td>source 1</td><td>1.2</td><td>1</td></tr>\n",
       "</table>"
      ],
      "text/plain": [
       "<Row index=0>\n",
       "  name     flux   size\n",
       "  str8   float64 int32\n",
       "-------- ------- -----\n",
       "source 1     1.2     1"
      ]
     },
     "execution_count": 9,
     "metadata": {},
     "output_type": "execute_result"
    }
   ],
   "source": [
    "t1[0]"
   ]
  },
  {
   "cell_type": "markdown",
   "metadata": {},
   "source": [
    "## Units in tables\n",
    "\n",
    "Table columns can include units:"
   ]
  },
  {
   "cell_type": "code",
   "execution_count": 8,
   "metadata": {},
   "outputs": [
    {
     "data": {
      "text/html": [
       "<i>Table length=3</i>\n",
       "<table id=\"table2740707913248\" class=\"table-striped table-bordered table-condensed\">\n",
       "<thead><tr><th>name</th><th>flux</th><th>size</th></tr></thead>\n",
       "<thead><tr><th></th><th>mJy</th><th>cm</th></tr></thead>\n",
       "<thead><tr><th>str8</th><th>float64</th><th>int32</th></tr></thead>\n",
       "<tr><td>source 1</td><td>1.2</td><td>1</td></tr>\n",
       "<tr><td>source 2</td><td>2.2</td><td>5</td></tr>\n",
       "<tr><td>source 3</td><td>3.1</td><td>4</td></tr>\n",
       "</table>"
      ],
      "text/plain": [
       "<Table length=3>\n",
       "  name     flux   size\n",
       "           mJy     cm \n",
       "  str8   float64 int32\n",
       "-------- ------- -----\n",
       "source 1     1.2     1\n",
       "source 2     2.2     5\n",
       "source 3     3.1     4"
      ]
     },
     "execution_count": 8,
     "metadata": {},
     "output_type": "execute_result"
    }
   ],
   "source": [
    "from astropy import units as u\n",
    "t1['size'].unit = u.cm\n",
    "t1['flux'].unit = 'mJy'\n",
    "t1"
   ]
  },
  {
   "cell_type": "markdown",
   "metadata": {},
   "source": [
    "Some unitful operations will then work:"
   ]
  },
  {
   "cell_type": "code",
   "execution_count": 11,
   "metadata": {},
   "outputs": [
    {
     "data": {
      "text/latex": [
       "$[0.01,~0.05,~0.04] \\; \\mathrm{m}$"
      ],
      "text/plain": [
       "<Quantity [0.01, 0.05, 0.04] m>"
      ]
     },
     "execution_count": 11,
     "metadata": {},
     "output_type": "execute_result"
    }
   ],
   "source": [
    "t1['size'].to('m')"
   ]
  },
  {
   "cell_type": "code",
   "execution_count": 12,
   "metadata": {},
   "outputs": [
    {
     "data": {
      "text/plain": [
       "astropy.table.column.Column"
      ]
     },
     "execution_count": 12,
     "metadata": {},
     "output_type": "execute_result"
    }
   ],
   "source": [
    "type(t1['size'])"
   ]
  },
  {
   "cell_type": "code",
   "execution_count": null,
   "metadata": {},
   "outputs": [],
   "source": []
  },
  {
   "cell_type": "markdown",
   "metadata": {},
   "source": [
    "However, you may run into unexpected behavior, so if you are planning on using table columns as Quantities, we recommend that you use the ``QTable`` class:"
   ]
  },
  {
   "cell_type": "code",
   "execution_count": 9,
   "metadata": {},
   "outputs": [],
   "source": [
    "from astropy.table import QTable\n",
    "qtl = QTable(t1)"
   ]
  },
  {
   "cell_type": "code",
   "execution_count": 14,
   "metadata": {},
   "outputs": [
    {
     "data": {
      "text/html": [
       "<i>QTable length=3</i>\n",
       "<table id=\"table2290091560192\" class=\"table-striped table-bordered table-condensed\">\n",
       "<thead><tr><th>name</th><th>flux</th><th>size</th></tr></thead>\n",
       "<thead><tr><th></th><th>mJy</th><th>cm</th></tr></thead>\n",
       "<thead><tr><th>str8</th><th>float64</th><th>float64</th></tr></thead>\n",
       "<tr><td>source 1</td><td>1.2</td><td>1.0</td></tr>\n",
       "<tr><td>source 2</td><td>2.2</td><td>5.0</td></tr>\n",
       "<tr><td>source 3</td><td>3.1</td><td>4.0</td></tr>\n",
       "</table>"
      ],
      "text/plain": [
       "<QTable length=3>\n",
       "  name     flux    size \n",
       "           mJy      cm  \n",
       "  str8   float64 float64\n",
       "-------- ------- -------\n",
       "source 1     1.2     1.0\n",
       "source 2     2.2     5.0\n",
       "source 3     3.1     4.0"
      ]
     },
     "execution_count": 14,
     "metadata": {},
     "output_type": "execute_result"
    }
   ],
   "source": [
    "qtl"
   ]
  },
  {
   "cell_type": "code",
   "execution_count": 15,
   "metadata": {},
   "outputs": [
    {
     "data": {
      "text/plain": [
       "astropy.units.quantity.Quantity"
      ]
     },
     "execution_count": 15,
     "metadata": {},
     "output_type": "execute_result"
    }
   ],
   "source": [
    "type(qtl['size'])"
   ]
  },
  {
   "cell_type": "code",
   "execution_count": null,
   "metadata": {},
   "outputs": [],
   "source": []
  },
  {
   "cell_type": "markdown",
   "metadata": {},
   "source": [
    "\n",
    "<section class=\"challenge panel panel-success\">\n",
    "<div class=\"panel-heading\">\n",
    "<h2><span class=\"fa fa-pencil\"></span> Challenge</h2>\n",
    "</div>\n",
    "\n",
    "\n",
    "<div class=\"panel-body\">\n",
    "\n",
    "<ol>\n",
    "<li>Make a table that contains three columns: <code>spectral type</code>, <code>temperature</code>, and <code>radius</code>, and incude 5 rows with fake data (or real data if you like, for example from <a href=\"http://www.atlasoftheuniverse.com/startype.html\">here</a>). Try including units on the columns that can have them.</li>\n",
    "<li>Find the mean temperature and the maximum radius</li>\n",
    "<li>Try and find out how to add and remove rows</li>\n",
    "<li>Add a new column which gives the luminosity (using $L=4\\pi R^2 \\sigma T^4$)</li>\n",
    "</ol>\n",
    "\n",
    "</div>\n",
    "\n",
    "</section>\n"
   ]
  },
  {
   "cell_type": "code",
   "execution_count": 19,
   "metadata": {},
   "outputs": [
    {
     "data": {
      "text/html": [
       "<i>Table length=5</i>\n",
       "<table id=\"table2290091829520\" class=\"table-striped table-bordered table-condensed\">\n",
       "<thead><tr><th>spectral type</th><th>temperature</th><th>radius</th></tr></thead>\n",
       "<thead><tr><th></th><th>K</th><th>solRad</th></tr></thead>\n",
       "<thead><tr><th>str1</th><th>int32</th><th>float64</th></tr></thead>\n",
       "<tr><td>O</td><td>40000</td><td>10.0</td></tr>\n",
       "<tr><td>B</td><td>20000</td><td>5.0</td></tr>\n",
       "<tr><td>A</td><td>8500</td><td>1.7</td></tr>\n",
       "<tr><td>F</td><td>6500</td><td>1.3</td></tr>\n",
       "<tr><td>G</td><td>5700</td><td>1.0</td></tr>\n",
       "</table>"
      ],
      "text/plain": [
       "<Table length=5>\n",
       "spectral type temperature  radius\n",
       "                   K       solRad\n",
       "     str1        int32    float64\n",
       "------------- ----------- -------\n",
       "            O       40000    10.0\n",
       "            B       20000     5.0\n",
       "            A        8500     1.7\n",
       "            F        6500     1.3\n",
       "            G        5700     1.0"
      ]
     },
     "execution_count": 19,
     "metadata": {},
     "output_type": "execute_result"
    }
   ],
   "source": [
    "t1c = Table()\n",
    "\n",
    "t1c['spectral type'] = ['O', 'B', 'A', 'F', 'G']\n",
    "t1c['temperature'] = [40000, 20000, 8500, 6500, 5700]\n",
    "t1c['radius'] = [10, 5, 1.7, 1.3, 1]\n",
    "\n",
    "t1c['temperature'].unit = u.K\n",
    "t1c['radius'].unit = u.solRad\n",
    "\n",
    "t1c"
   ]
  },
  {
   "cell_type": "code",
   "execution_count": 23,
   "metadata": {},
   "outputs": [
    {
     "data": {
      "text/plain": [
       "16140.0"
      ]
     },
     "execution_count": 23,
     "metadata": {},
     "output_type": "execute_result"
    }
   ],
   "source": [
    "np.mean(t1c['temperature'])"
   ]
  },
  {
   "cell_type": "code",
   "execution_count": 44,
   "metadata": {},
   "outputs": [
    {
     "data": {
      "text/plain": [
       "10.0"
      ]
     },
     "execution_count": 44,
     "metadata": {},
     "output_type": "execute_result"
    }
   ],
   "source": [
    "np.max(t1c['radius'])"
   ]
  },
  {
   "cell_type": "code",
   "execution_count": 35,
   "metadata": {},
   "outputs": [],
   "source": [
    "t1c.add_row(['K', 4500, 0.8])"
   ]
  },
  {
   "cell_type": "code",
   "execution_count": 37,
   "metadata": {},
   "outputs": [
    {
     "data": {
      "text/html": [
       "<i>Table length=6</i>\n",
       "<table id=\"table2290091829520\" class=\"table-striped table-bordered table-condensed\">\n",
       "<thead><tr><th>spectral type</th><th>temperature</th><th>radius</th></tr></thead>\n",
       "<thead><tr><th></th><th>K</th><th>solRad</th></tr></thead>\n",
       "<thead><tr><th>str1</th><th>int32</th><th>float64</th></tr></thead>\n",
       "<tr><td>O</td><td>40000</td><td>10.0</td></tr>\n",
       "<tr><td>B</td><td>20000</td><td>5.0</td></tr>\n",
       "<tr><td>A</td><td>8500</td><td>1.7</td></tr>\n",
       "<tr><td>F</td><td>6500</td><td>1.3</td></tr>\n",
       "<tr><td>G</td><td>5700</td><td>1.0</td></tr>\n",
       "<tr><td>K</td><td>4500</td><td>0.8</td></tr>\n",
       "</table>"
      ],
      "text/plain": [
       "<Table length=6>\n",
       "spectral type temperature  radius\n",
       "                   K       solRad\n",
       "     str1        int32    float64\n",
       "------------- ----------- -------\n",
       "            O       40000    10.0\n",
       "            B       20000     5.0\n",
       "            A        8500     1.7\n",
       "            F        6500     1.3\n",
       "            G        5700     1.0\n",
       "            K        4500     0.8"
      ]
     },
     "execution_count": 37,
     "metadata": {},
     "output_type": "execute_result"
    }
   ],
   "source": [
    "t1c"
   ]
  },
  {
   "cell_type": "code",
   "execution_count": 41,
   "metadata": {},
   "outputs": [
    {
     "data": {
      "text/html": [
       "<i>Table length=5</i>\n",
       "<table id=\"table2290091829520\" class=\"table-striped table-bordered table-condensed\">\n",
       "<thead><tr><th>spectral type</th><th>temperature</th><th>radius</th></tr></thead>\n",
       "<thead><tr><th></th><th>K</th><th>solRad</th></tr></thead>\n",
       "<thead><tr><th>str1</th><th>int32</th><th>float64</th></tr></thead>\n",
       "<tr><td>O</td><td>40000</td><td>10.0</td></tr>\n",
       "<tr><td>B</td><td>20000</td><td>5.0</td></tr>\n",
       "<tr><td>A</td><td>8500</td><td>1.7</td></tr>\n",
       "<tr><td>F</td><td>6500</td><td>1.3</td></tr>\n",
       "<tr><td>G</td><td>5700</td><td>1.0</td></tr>\n",
       "</table>"
      ],
      "text/plain": [
       "<Table length=5>\n",
       "spectral type temperature  radius\n",
       "                   K       solRad\n",
       "     str1        int32    float64\n",
       "------------- ----------- -------\n",
       "            O       40000    10.0\n",
       "            B       20000     5.0\n",
       "            A        8500     1.7\n",
       "            F        6500     1.3\n",
       "            G        5700     1.0"
      ]
     },
     "execution_count": 41,
     "metadata": {},
     "output_type": "execute_result"
    }
   ],
   "source": [
    "t1c.remove_row(5)\n",
    "\n",
    "t1c"
   ]
  },
  {
   "cell_type": "code",
   "execution_count": 42,
   "metadata": {},
   "outputs": [],
   "source": [
    "from astropy import constants as const"
   ]
  },
  {
   "cell_type": "code",
   "execution_count": 57,
   "metadata": {},
   "outputs": [
    {
     "data": {
      "text/html": [
       "<i>Table length=5</i>\n",
       "<table id=\"table2290091829520\" class=\"table-striped table-bordered table-condensed\">\n",
       "<thead><tr><th>spectral type</th><th>temperature</th><th>radius</th><th>Luminosity</th></tr></thead>\n",
       "<thead><tr><th></th><th>K</th><th>solRad</th><th>solRad W / (K4 m2)</th></tr></thead>\n",
       "<thead><tr><th>str1</th><th>int32</th><th>float64</th><th>float64</th></tr></thead>\n",
       "<tr><td>O</td><td>40000</td><td>10.0</td><td>-75315.09808936248</td></tr>\n",
       "<tr><td>B</td><td>20000</td><td>5.0</td><td>-1176.7984076462888</td></tr>\n",
       "<tr><td>A</td><td>8500</td><td>1.7</td><td>-4318.047088558499</td></tr>\n",
       "<tr><td>F</td><td>6500</td><td>1.3</td><td>1297.3597864848066</td></tr>\n",
       "<tr><td>G</td><td>5700</td><td>1.0</td><td>155.23717077329187</td></tr>\n",
       "</table>"
      ],
      "text/plain": [
       "<Table length=5>\n",
       "spectral type temperature  radius      Luminosity    \n",
       "                   K       solRad  solRad W / (K4 m2)\n",
       "     str1        int32    float64       float64      \n",
       "------------- ----------- ------- -------------------\n",
       "            O       40000    10.0  -75315.09808936248\n",
       "            B       20000     5.0 -1176.7984076462888\n",
       "            A        8500     1.7  -4318.047088558499\n",
       "            F        6500     1.3  1297.3597864848066\n",
       "            G        5700     1.0  155.23717077329187"
      ]
     },
     "execution_count": 57,
     "metadata": {},
     "output_type": "execute_result"
    }
   ],
   "source": [
    "t1c['Luminosity'] = 4 * np.pi * (t1c['radius'] ** 2) * (t1c['temperature'] ** 4) * const.sigma_sb\n",
    "\n",
    "t1c"
   ]
  },
  {
   "cell_type": "code",
   "execution_count": null,
   "metadata": {},
   "outputs": [],
   "source": []
  },
  {
   "cell_type": "markdown",
   "metadata": {},
   "source": [
    "## Iterating over tables"
   ]
  },
  {
   "cell_type": "markdown",
   "metadata": {},
   "source": [
    "It is possible to iterate over rows or over columns. To iterate over rows, iterate over the table itself:"
   ]
  },
  {
   "cell_type": "code",
   "execution_count": 25,
   "metadata": {},
   "outputs": [
    {
     "name": "stdout",
     "output_type": "stream",
     "text": [
      "  name   flux size\n",
      "         mJy   cm \n",
      "-------- ---- ----\n",
      "source 1  1.2    1\n",
      "  name   flux size\n",
      "         mJy   cm \n",
      "-------- ---- ----\n",
      "source 2  2.2    5\n",
      "  name   flux size\n",
      "         mJy   cm \n",
      "-------- ---- ----\n",
      "source 3  3.1    4\n"
     ]
    }
   ],
   "source": [
    "for row in t1:\n",
    "    print (row)"
   ]
  },
  {
   "cell_type": "markdown",
   "metadata": {},
   "source": [
    "Rows can act like dictionaries, so you can access specific columns from a row:"
   ]
  },
  {
   "cell_type": "code",
   "execution_count": 26,
   "metadata": {},
   "outputs": [
    {
     "name": "stdout",
     "output_type": "stream",
     "text": [
      "source 1\n",
      "source 2\n",
      "source 3\n"
     ]
    }
   ],
   "source": [
    "for row in t1:\n",
    "    print (row['name'])"
   ]
  },
  {
   "cell_type": "code",
   "execution_count": 27,
   "metadata": {},
   "outputs": [
    {
     "data": {
      "text/plain": [
       "<TableColumns names=('name','flux','size')>"
      ]
     },
     "execution_count": 27,
     "metadata": {},
     "output_type": "execute_result"
    }
   ],
   "source": [
    "t1.columns"
   ]
  },
  {
   "cell_type": "markdown",
   "metadata": {},
   "source": [
    "Iterating over columns is also easy:"
   ]
  },
  {
   "cell_type": "code",
   "execution_count": 41,
   "metadata": {},
   "outputs": [
    {
     "ename": "NameError",
     "evalue": "name 't1columns' is not defined",
     "output_type": "error",
     "traceback": [
      "\u001b[1;31m---------------------------------------------------------------------------\u001b[0m",
      "\u001b[1;31mNameError\u001b[0m                                 Traceback (most recent call last)",
      "\u001b[1;32m<ipython-input-41-d63da0a4a1bb>\u001b[0m in \u001b[0;36m<module>\u001b[1;34m\u001b[0m\n\u001b[1;32m----> 1\u001b[1;33m \u001b[1;32mfor\u001b[0m \u001b[0mcolname\u001b[0m \u001b[1;32min\u001b[0m \u001b[0mt1columns\u001b[0m\u001b[1;33m:\u001b[0m\u001b[1;33m\u001b[0m\u001b[1;33m\u001b[0m\u001b[0m\n\u001b[0m\u001b[0;32m      2\u001b[0m     \u001b[0mcolumn\u001b[0m \u001b[1;33m=\u001b[0m \u001b[0mt1\u001b[0m\u001b[1;33m[\u001b[0m\u001b[1;34m'colname'\u001b[0m\u001b[1;33m]\u001b[0m\u001b[1;33m\u001b[0m\u001b[1;33m\u001b[0m\u001b[0m\n\u001b[0;32m      3\u001b[0m     \u001b[0mprint\u001b[0m\u001b[1;33m(\u001b[0m\u001b[0mcolumn\u001b[0m\u001b[1;33m)\u001b[0m\u001b[1;33m\u001b[0m\u001b[1;33m\u001b[0m\u001b[0m\n",
      "\u001b[1;31mNameError\u001b[0m: name 't1columns' is not defined"
     ]
    }
   ],
   "source": [
    "for colname in t1columns:\n",
    "    column = t1['colname']\n",
    "    print(column)"
   ]
  },
  {
   "cell_type": "markdown",
   "metadata": {},
   "source": [
    "Accessing specific rows from a column object can be done with the item notation:"
   ]
  },
  {
   "cell_type": "code",
   "execution_count": null,
   "metadata": {},
   "outputs": [],
   "source": []
  },
  {
   "cell_type": "markdown",
   "metadata": {},
   "source": [
    "## Joining tables\n",
    "\n",
    "The astropy.table sub-package provides a few useful functions for stacking/combining tables. For example, we can do a 'join':"
   ]
  },
  {
   "cell_type": "code",
   "execution_count": 33,
   "metadata": {},
   "outputs": [
    {
     "data": {
      "text/html": [
       "<i>Table length=2</i>\n",
       "<table id=\"table2691876682432\" class=\"table-striped table-bordered table-condensed\">\n",
       "<thead><tr><th>name</th><th>flux2</th></tr></thead>\n",
       "<thead><tr><th>str8</th><th>int32</th></tr></thead>\n",
       "<tr><td>source 1</td><td>1</td></tr>\n",
       "<tr><td>source 3</td><td>9</td></tr>\n",
       "</table>"
      ],
      "text/plain": [
       "<Table length=2>\n",
       "  name   flux2\n",
       "  str8   int32\n",
       "-------- -----\n",
       "source 1     1\n",
       "source 3     9"
      ]
     },
     "execution_count": 33,
     "metadata": {},
     "output_type": "execute_result"
    }
   ],
   "source": [
    "t2 = Table()\n",
    "t2['name'] = ['source 1', 'source 3']\n",
    "t2['flux2'] = [1, 9]\n",
    "t2"
   ]
  },
  {
   "cell_type": "code",
   "execution_count": 13,
   "metadata": {},
   "outputs": [],
   "source": [
    "from astropy.table import join"
   ]
  },
  {
   "cell_type": "code",
   "execution_count": 35,
   "metadata": {},
   "outputs": [
    {
     "data": {
      "text/html": [
       "<i>Table length=3</i>\n",
       "<table id=\"table2691876682288\" class=\"table-striped table-bordered table-condensed\">\n",
       "<thead><tr><th>name</th><th>flux</th><th>size</th><th>flux2</th></tr></thead>\n",
       "<thead><tr><th></th><th>mJy</th><th>cm</th><th></th></tr></thead>\n",
       "<thead><tr><th>str8</th><th>float64</th><th>int32</th><th>int32</th></tr></thead>\n",
       "<tr><td>source 1</td><td>1.2</td><td>1</td><td>1</td></tr>\n",
       "<tr><td>source 2</td><td>2.2</td><td>5</td><td>--</td></tr>\n",
       "<tr><td>source 3</td><td>3.1</td><td>4</td><td>9</td></tr>\n",
       "</table>"
      ],
      "text/plain": [
       "<Table length=3>\n",
       "  name     flux   size flux2\n",
       "           mJy     cm       \n",
       "  str8   float64 int32 int32\n",
       "-------- ------- ----- -----\n",
       "source 1     1.2     1     1\n",
       "source 2     2.2     5    --\n",
       "source 3     3.1     4     9"
      ]
     },
     "execution_count": 35,
     "metadata": {},
     "output_type": "execute_result"
    }
   ],
   "source": [
    "t3 = join(t1, t2, join_type='outer')\n",
    "t3"
   ]
  },
  {
   "cell_type": "code",
   "execution_count": 36,
   "metadata": {},
   "outputs": [
    {
     "data": {
      "text/plain": [
       "5.0"
      ]
     },
     "execution_count": 36,
     "metadata": {},
     "output_type": "execute_result"
    }
   ],
   "source": [
    "np.mean(t3['flux2'])"
   ]
  },
  {
   "cell_type": "code",
   "execution_count": null,
   "metadata": {},
   "outputs": [],
   "source": []
  },
  {
   "cell_type": "markdown",
   "metadata": {},
   "source": [
    "## Masked tables\n",
    "\n",
    "It is possible to mask individual cells in tables:"
   ]
  },
  {
   "cell_type": "code",
   "execution_count": 42,
   "metadata": {},
   "outputs": [],
   "source": [
    "t4 = Table(masked=True)"
   ]
  },
  {
   "cell_type": "code",
   "execution_count": 43,
   "metadata": {},
   "outputs": [
    {
     "data": {
      "text/html": [
       "<i>Table masked=True length=3</i>\n",
       "<table id=\"table2691876680800\" class=\"table-striped table-bordered table-condensed\">\n",
       "<thead><tr><th>id</th><th>flux</th></tr></thead>\n",
       "<thead><tr><th>int32</th><th>float64</th></tr></thead>\n",
       "<tr><td>3</td><td>1.2</td></tr>\n",
       "<tr><td>4</td><td>2.2</td></tr>\n",
       "<tr><td>5</td><td>3.1</td></tr>\n",
       "</table>"
      ],
      "text/plain": [
       "<Table masked=True length=3>\n",
       "  id    flux \n",
       "int32 float64\n",
       "----- -------\n",
       "    3     1.2\n",
       "    4     2.2\n",
       "    5     3.1"
      ]
     },
     "execution_count": 43,
     "metadata": {},
     "output_type": "execute_result"
    }
   ],
   "source": [
    "t4['id'] = [3, 4, 5]\n",
    "t4['flux'] = [1.2, 2.2, 3.1]\n",
    "t4"
   ]
  },
  {
   "cell_type": "code",
   "execution_count": 44,
   "metadata": {},
   "outputs": [
    {
     "data": {
      "text/html": [
       "<i>Table masked=True length=3</i>\n",
       "<table id=\"table2691876680800\" class=\"table-striped table-bordered table-condensed\">\n",
       "<thead><tr><th>id</th><th>flux</th></tr></thead>\n",
       "<thead><tr><th>int32</th><th>float64</th></tr></thead>\n",
       "<tr><td>3</td><td>--</td></tr>\n",
       "<tr><td>4</td><td>2.2</td></tr>\n",
       "<tr><td>5</td><td>--</td></tr>\n",
       "</table>"
      ],
      "text/plain": [
       "<Table masked=True length=3>\n",
       "  id    flux \n",
       "int32 float64\n",
       "----- -------\n",
       "    3      --\n",
       "    4     2.2\n",
       "    5      --"
      ]
     },
     "execution_count": 44,
     "metadata": {},
     "output_type": "execute_result"
    }
   ],
   "source": [
    "t4['flux'].mask = [1, 0, 1]\n",
    "t4"
   ]
  },
  {
   "cell_type": "code",
   "execution_count": null,
   "metadata": {},
   "outputs": [],
   "source": []
  },
  {
   "cell_type": "code",
   "execution_count": null,
   "metadata": {},
   "outputs": [],
   "source": []
  },
  {
   "cell_type": "code",
   "execution_count": null,
   "metadata": {},
   "outputs": [],
   "source": []
  },
  {
   "cell_type": "markdown",
   "metadata": {},
   "source": [
    "## Using high-level objects as columns\n",
    "\n",
    "A few specific astropy high-level objects can be used as columns in table - this includes SkyCoord and Time:"
   ]
  },
  {
   "cell_type": "code",
   "execution_count": 11,
   "metadata": {},
   "outputs": [],
   "source": [
    "from astropy.time import Time\n",
    "from astropy.coordinates import SkyCoord"
   ]
  },
  {
   "cell_type": "code",
   "execution_count": 46,
   "metadata": {},
   "outputs": [],
   "source": [
    "t5 = Table()"
   ]
  },
  {
   "cell_type": "code",
   "execution_count": 47,
   "metadata": {},
   "outputs": [],
   "source": [
    "t5['time'] = Time([50000, 51000, 52000], format = 'mjd')"
   ]
  },
  {
   "cell_type": "code",
   "execution_count": 48,
   "metadata": {},
   "outputs": [],
   "source": [
    "t5['coord'] = SkyCoord([1, 2, 3] * u.deg, [4, 5, 6] * u.deg)"
   ]
  },
  {
   "cell_type": "code",
   "execution_count": 49,
   "metadata": {},
   "outputs": [],
   "source": [
    "t5['flux'] = [1, 5, 4] * u.mJy"
   ]
  },
  {
   "cell_type": "code",
   "execution_count": 50,
   "metadata": {},
   "outputs": [
    {
     "data": {
      "text/html": [
       "<i>Table length=3</i>\n",
       "<table id=\"table2691887173248\" class=\"table-striped table-bordered table-condensed\">\n",
       "<thead><tr><th>time</th><th>coord</th><th>flux</th></tr></thead>\n",
       "<thead><tr><th></th><th>deg,deg</th><th>mJy</th></tr></thead>\n",
       "<thead><tr><th>object</th><th>object</th><th>float64</th></tr></thead>\n",
       "<tr><td>50000.0</td><td>1.0,4.0</td><td>1.0</td></tr>\n",
       "<tr><td>51000.0</td><td>2.0,5.0</td><td>5.0</td></tr>\n",
       "<tr><td>52000.0</td><td>3.0,6.0</td><td>4.0</td></tr>\n",
       "</table>"
      ],
      "text/plain": [
       "<Table length=3>\n",
       "  time   coord    flux \n",
       "        deg,deg   mJy  \n",
       " object  object float64\n",
       "------- ------- -------\n",
       "50000.0 1.0,4.0     1.0\n",
       "51000.0 2.0,5.0     5.0\n",
       "52000.0 3.0,6.0     4.0"
      ]
     },
     "execution_count": 50,
     "metadata": {},
     "output_type": "execute_result"
    }
   ],
   "source": [
    "t5"
   ]
  },
  {
   "cell_type": "code",
   "execution_count": 51,
   "metadata": {},
   "outputs": [
    {
     "data": {
      "text/plain": [
       "<SkyCoord (ICRS): (ra, dec) in deg\n",
       "    (1., 4.)>"
      ]
     },
     "execution_count": 51,
     "metadata": {},
     "output_type": "execute_result"
    }
   ],
   "source": [
    "t5[0]['coord']"
   ]
  },
  {
   "cell_type": "markdown",
   "metadata": {},
   "source": [
    "Note however that you may not necessarily be able to write this table to a file and get it back intact, since being able to store this kind of information is not possible in all file formats."
   ]
  },
  {
   "cell_type": "markdown",
   "metadata": {},
   "source": [
    "## Slicing\n",
    "\n",
    "Tables can be sliced like Numpy arrays:"
   ]
  },
  {
   "cell_type": "code",
   "execution_count": 12,
   "metadata": {},
   "outputs": [],
   "source": [
    "obs = Table(rows=[('M31' , '2012-01-02', 17.0, 17.5),\n",
    "                  ('M31' , '2012-01-02', 17.1, 17.4),\n",
    "                  ('M101', '2012-01-02', 15.1, 13.5),\n",
    "                  ('M82' , '2012-02-14', 16.2, 14.5),\n",
    "                  ('M31' , '2012-02-14', 16.9, 17.3),\n",
    "                  ('M82' , '2012-02-14', 15.2, 15.5),\n",
    "                  ('M101', '2012-02-14', 15.0, 13.6),\n",
    "                  ('M82' , '2012-03-26', 15.7, 16.5),\n",
    "                  ('M101', '2012-03-26', 15.1, 13.5),\n",
    "                  ('M101', '2012-03-26', 14.8, 14.3)],\n",
    "            names=['name', 'obs_date', 'mag_b', 'mag_v'])"
   ]
  },
  {
   "cell_type": "code",
   "execution_count": 54,
   "metadata": {},
   "outputs": [
    {
     "data": {
      "text/html": [
       "<i>Table length=3</i>\n",
       "<table id=\"table2691887256720\" class=\"table-striped table-bordered table-condensed\">\n",
       "<thead><tr><th>name</th><th>obs_date</th><th>mag_b</th><th>mag_v</th></tr></thead>\n",
       "<thead><tr><th>str4</th><th>str10</th><th>float64</th><th>float64</th></tr></thead>\n",
       "<tr><td>M31</td><td>2012-01-02</td><td>17.1</td><td>17.4</td></tr>\n",
       "<tr><td>M101</td><td>2012-01-02</td><td>15.1</td><td>13.5</td></tr>\n",
       "<tr><td>M82</td><td>2012-02-14</td><td>16.2</td><td>14.5</td></tr>\n",
       "</table>"
      ],
      "text/plain": [
       "<Table length=3>\n",
       "name  obs_date   mag_b   mag_v \n",
       "str4   str10    float64 float64\n",
       "---- ---------- ------- -------\n",
       " M31 2012-01-02    17.1    17.4\n",
       "M101 2012-01-02    15.1    13.5\n",
       " M82 2012-02-14    16.2    14.5"
      ]
     },
     "execution_count": 54,
     "metadata": {},
     "output_type": "execute_result"
    }
   ],
   "source": [
    "obs[1:4]"
   ]
  },
  {
   "cell_type": "code",
   "execution_count": 55,
   "metadata": {},
   "outputs": [
    {
     "data": {
      "text/html": [
       "<i>Table length=5</i>\n",
       "<table id=\"table2691887258112\" class=\"table-striped table-bordered table-condensed\">\n",
       "<thead><tr><th>name</th><th>obs_date</th><th>mag_b</th><th>mag_v</th></tr></thead>\n",
       "<thead><tr><th>str4</th><th>str10</th><th>float64</th><th>float64</th></tr></thead>\n",
       "<tr><td>M31</td><td>2012-01-02</td><td>17.0</td><td>17.5</td></tr>\n",
       "<tr><td>M31</td><td>2012-01-02</td><td>17.1</td><td>17.4</td></tr>\n",
       "<tr><td>M82</td><td>2012-02-14</td><td>16.2</td><td>14.5</td></tr>\n",
       "<tr><td>M31</td><td>2012-02-14</td><td>16.9</td><td>17.3</td></tr>\n",
       "<tr><td>M82</td><td>2012-03-26</td><td>15.7</td><td>16.5</td></tr>\n",
       "</table>"
      ],
      "text/plain": [
       "<Table length=5>\n",
       "name  obs_date   mag_b   mag_v \n",
       "str4   str10    float64 float64\n",
       "---- ---------- ------- -------\n",
       " M31 2012-01-02    17.0    17.5\n",
       " M31 2012-01-02    17.1    17.4\n",
       " M82 2012-02-14    16.2    14.5\n",
       " M31 2012-02-14    16.9    17.3\n",
       " M82 2012-03-26    15.7    16.5"
      ]
     },
     "execution_count": 55,
     "metadata": {},
     "output_type": "execute_result"
    }
   ],
   "source": [
    "obs[obs['mag_b'] > 15.5]"
   ]
  },
  {
   "cell_type": "code",
   "execution_count": 56,
   "metadata": {},
   "outputs": [
    {
     "data": {
      "text/html": [
       "<i>Table length=10</i>\n",
       "<table id=\"table2691887258064\" class=\"table-striped table-bordered table-condensed\">\n",
       "<thead><tr><th>name</th><th>mag_b</th></tr></thead>\n",
       "<thead><tr><th>str4</th><th>float64</th></tr></thead>\n",
       "<tr><td>M31</td><td>17.0</td></tr>\n",
       "<tr><td>M31</td><td>17.1</td></tr>\n",
       "<tr><td>M101</td><td>15.1</td></tr>\n",
       "<tr><td>M82</td><td>16.2</td></tr>\n",
       "<tr><td>M31</td><td>16.9</td></tr>\n",
       "<tr><td>M82</td><td>15.2</td></tr>\n",
       "<tr><td>M101</td><td>15.0</td></tr>\n",
       "<tr><td>M82</td><td>15.7</td></tr>\n",
       "<tr><td>M101</td><td>15.1</td></tr>\n",
       "<tr><td>M101</td><td>14.8</td></tr>\n",
       "</table>"
      ],
      "text/plain": [
       "<Table length=10>\n",
       "name  mag_b \n",
       "str4 float64\n",
       "---- -------\n",
       " M31    17.0\n",
       " M31    17.1\n",
       "M101    15.1\n",
       " M82    16.2\n",
       " M31    16.9\n",
       " M82    15.2\n",
       "M101    15.0\n",
       " M82    15.7\n",
       "M101    15.1\n",
       "M101    14.8"
      ]
     },
     "execution_count": 56,
     "metadata": {},
     "output_type": "execute_result"
    }
   ],
   "source": [
    "obs['name', 'mag_b']"
   ]
  },
  {
   "cell_type": "code",
   "execution_count": null,
   "metadata": {},
   "outputs": [],
   "source": []
  },
  {
   "cell_type": "markdown",
   "metadata": {},
   "source": [
    "\n",
    "<section class=\"challenge panel panel-success\">\n",
    "<div class=\"panel-heading\">\n",
    "<h2><span class=\"fa fa-pencil\"></span> Challenge</h2>\n",
    "</div>\n",
    "\n",
    "\n",
    "<div class=\"panel-body\">\n",
    "\n",
    "<p>Starting from the <code>obs</code> table:</p>\n",
    "<ol>\n",
    "<li>Make a new table that shows every other row, starting with the second row? (that is, the second, fourth, sixth, etc. rows).</li>\n",
    "<li>Make a new table the only contains rows where <code>name</code> is <code>M31</code></li>\n",
    "</ol>\n",
    "\n",
    "</div>\n",
    "\n",
    "</section>\n"
   ]
  },
  {
   "cell_type": "code",
   "execution_count": 16,
   "metadata": {},
   "outputs": [
    {
     "data": {
      "text/html": [
       "<i>Table length=4</i>\n",
       "<table id=\"table2740744366016\" class=\"table-striped table-bordered table-condensed\">\n",
       "<thead><tr><th>name</th><th>obs_date</th><th>mag_b</th><th>mag_v</th></tr></thead>\n",
       "<thead><tr><th>str4</th><th>str10</th><th>float64</th><th>float64</th></tr></thead>\n",
       "<tr><td>M31</td><td>2012-01-02</td><td>17.1</td><td>17.4</td></tr>\n",
       "<tr><td>M82</td><td>2012-02-14</td><td>16.2</td><td>14.5</td></tr>\n",
       "<tr><td>M82</td><td>2012-02-14</td><td>15.2</td><td>15.5</td></tr>\n",
       "<tr><td>M82</td><td>2012-03-26</td><td>15.7</td><td>16.5</td></tr>\n",
       "</table>"
      ],
      "text/plain": [
       "<Table length=4>\n",
       "name  obs_date   mag_b   mag_v \n",
       "str4   str10    float64 float64\n",
       "---- ---------- ------- -------\n",
       " M31 2012-01-02    17.1    17.4\n",
       " M82 2012-02-14    16.2    14.5\n",
       " M82 2012-02-14    15.2    15.5\n",
       " M82 2012-03-26    15.7    16.5"
      ]
     },
     "execution_count": 16,
     "metadata": {},
     "output_type": "execute_result"
    }
   ],
   "source": [
    "obs[1:9:2]"
   ]
  },
  {
   "cell_type": "code",
   "execution_count": 19,
   "metadata": {},
   "outputs": [
    {
     "data": {
      "text/html": [
       "<i>Table length=3</i>\n",
       "<table id=\"table2740744366496\" class=\"table-striped table-bordered table-condensed\">\n",
       "<thead><tr><th>name</th><th>obs_date</th><th>mag_b</th><th>mag_v</th></tr></thead>\n",
       "<thead><tr><th>str4</th><th>str10</th><th>float64</th><th>float64</th></tr></thead>\n",
       "<tr><td>M31</td><td>2012-01-02</td><td>17.0</td><td>17.5</td></tr>\n",
       "<tr><td>M31</td><td>2012-01-02</td><td>17.1</td><td>17.4</td></tr>\n",
       "<tr><td>M31</td><td>2012-02-14</td><td>16.9</td><td>17.3</td></tr>\n",
       "</table>"
      ],
      "text/plain": [
       "<Table length=3>\n",
       "name  obs_date   mag_b   mag_v \n",
       "str4   str10    float64 float64\n",
       "---- ---------- ------- -------\n",
       " M31 2012-01-02    17.0    17.5\n",
       " M31 2012-01-02    17.1    17.4\n",
       " M31 2012-02-14    16.9    17.3"
      ]
     },
     "execution_count": 19,
     "metadata": {},
     "output_type": "execute_result"
    }
   ],
   "source": [
    "obs.group_by('name').groups[1]"
   ]
  },
  {
   "cell_type": "markdown",
   "metadata": {},
   "source": [
    "## Grouping and Aggregation"
   ]
  },
  {
   "cell_type": "markdown",
   "metadata": {},
   "source": [
    "It is possible to aggregate rows of a table together - for example, to group the rows by source name in the ``obs`` table, you can do:"
   ]
  },
  {
   "cell_type": "code",
   "execution_count": 57,
   "metadata": {},
   "outputs": [
    {
     "data": {
      "text/html": [
       "<i>Table length=10</i>\n",
       "<table id=\"table2691887256336\" class=\"table-striped table-bordered table-condensed\">\n",
       "<thead><tr><th>name</th><th>obs_date</th><th>mag_b</th><th>mag_v</th></tr></thead>\n",
       "<thead><tr><th>str4</th><th>str10</th><th>float64</th><th>float64</th></tr></thead>\n",
       "<tr><td>M31</td><td>2012-01-02</td><td>17.0</td><td>17.5</td></tr>\n",
       "<tr><td>M31</td><td>2012-01-02</td><td>17.1</td><td>17.4</td></tr>\n",
       "<tr><td>M101</td><td>2012-01-02</td><td>15.1</td><td>13.5</td></tr>\n",
       "<tr><td>M82</td><td>2012-02-14</td><td>16.2</td><td>14.5</td></tr>\n",
       "<tr><td>M31</td><td>2012-02-14</td><td>16.9</td><td>17.3</td></tr>\n",
       "<tr><td>M82</td><td>2012-02-14</td><td>15.2</td><td>15.5</td></tr>\n",
       "<tr><td>M101</td><td>2012-02-14</td><td>15.0</td><td>13.6</td></tr>\n",
       "<tr><td>M82</td><td>2012-03-26</td><td>15.7</td><td>16.5</td></tr>\n",
       "<tr><td>M101</td><td>2012-03-26</td><td>15.1</td><td>13.5</td></tr>\n",
       "<tr><td>M101</td><td>2012-03-26</td><td>14.8</td><td>14.3</td></tr>\n",
       "</table>"
      ],
      "text/plain": [
       "<Table length=10>\n",
       "name  obs_date   mag_b   mag_v \n",
       "str4   str10    float64 float64\n",
       "---- ---------- ------- -------\n",
       " M31 2012-01-02    17.0    17.5\n",
       " M31 2012-01-02    17.1    17.4\n",
       "M101 2012-01-02    15.1    13.5\n",
       " M82 2012-02-14    16.2    14.5\n",
       " M31 2012-02-14    16.9    17.3\n",
       " M82 2012-02-14    15.2    15.5\n",
       "M101 2012-02-14    15.0    13.6\n",
       " M82 2012-03-26    15.7    16.5\n",
       "M101 2012-03-26    15.1    13.5\n",
       "M101 2012-03-26    14.8    14.3"
      ]
     },
     "execution_count": 57,
     "metadata": {},
     "output_type": "execute_result"
    }
   ],
   "source": [
    "obs"
   ]
  },
  {
   "cell_type": "code",
   "execution_count": 58,
   "metadata": {},
   "outputs": [],
   "source": [
    "obs_by_name = obs.group_by('name')"
   ]
  },
  {
   "cell_type": "code",
   "execution_count": 59,
   "metadata": {},
   "outputs": [
    {
     "data": {
      "text/html": [
       "<i>Table length=10</i>\n",
       "<table id=\"table2691887256912\" class=\"table-striped table-bordered table-condensed\">\n",
       "<thead><tr><th>name</th><th>obs_date</th><th>mag_b</th><th>mag_v</th></tr></thead>\n",
       "<thead><tr><th>str4</th><th>str10</th><th>float64</th><th>float64</th></tr></thead>\n",
       "<tr><td>M101</td><td>2012-01-02</td><td>15.1</td><td>13.5</td></tr>\n",
       "<tr><td>M101</td><td>2012-02-14</td><td>15.0</td><td>13.6</td></tr>\n",
       "<tr><td>M101</td><td>2012-03-26</td><td>15.1</td><td>13.5</td></tr>\n",
       "<tr><td>M101</td><td>2012-03-26</td><td>14.8</td><td>14.3</td></tr>\n",
       "<tr><td>M31</td><td>2012-01-02</td><td>17.0</td><td>17.5</td></tr>\n",
       "<tr><td>M31</td><td>2012-01-02</td><td>17.1</td><td>17.4</td></tr>\n",
       "<tr><td>M31</td><td>2012-02-14</td><td>16.9</td><td>17.3</td></tr>\n",
       "<tr><td>M82</td><td>2012-02-14</td><td>16.2</td><td>14.5</td></tr>\n",
       "<tr><td>M82</td><td>2012-02-14</td><td>15.2</td><td>15.5</td></tr>\n",
       "<tr><td>M82</td><td>2012-03-26</td><td>15.7</td><td>16.5</td></tr>\n",
       "</table>"
      ],
      "text/plain": [
       "<Table length=10>\n",
       "name  obs_date   mag_b   mag_v \n",
       "str4   str10    float64 float64\n",
       "---- ---------- ------- -------\n",
       "M101 2012-01-02    15.1    13.5\n",
       "M101 2012-02-14    15.0    13.6\n",
       "M101 2012-03-26    15.1    13.5\n",
       "M101 2012-03-26    14.8    14.3\n",
       " M31 2012-01-02    17.0    17.5\n",
       " M31 2012-01-02    17.1    17.4\n",
       " M31 2012-02-14    16.9    17.3\n",
       " M82 2012-02-14    16.2    14.5\n",
       " M82 2012-02-14    15.2    15.5\n",
       " M82 2012-03-26    15.7    16.5"
      ]
     },
     "execution_count": 59,
     "metadata": {},
     "output_type": "execute_result"
    }
   ],
   "source": [
    "obs_by_name"
   ]
  },
  {
   "cell_type": "markdown",
   "metadata": {},
   "source": [
    "This is not just sorting the values but actually making it possible to access each group of rows:"
   ]
  },
  {
   "cell_type": "code",
   "execution_count": 60,
   "metadata": {},
   "outputs": [
    {
     "name": "stdout",
     "output_type": "stream",
     "text": [
      "name  obs_date  mag_b mag_v\n",
      "---- ---------- ----- -----\n",
      "M101 2012-01-02  15.1  13.5\n",
      "M101 2012-02-14  15.0  13.6\n",
      "M101 2012-03-26  15.1  13.5\n",
      "M101 2012-03-26  14.8  14.3\n",
      "\n",
      "name  obs_date  mag_b mag_v\n",
      "---- ---------- ----- -----\n",
      " M31 2012-01-02  17.0  17.5\n",
      " M31 2012-01-02  17.1  17.4\n",
      " M31 2012-02-14  16.9  17.3\n",
      "\n",
      "name  obs_date  mag_b mag_v\n",
      "---- ---------- ----- -----\n",
      " M82 2012-02-14  16.2  14.5\n",
      " M82 2012-02-14  15.2  15.5\n",
      " M82 2012-03-26  15.7  16.5\n",
      "\n"
     ]
    }
   ],
   "source": [
    "for group in obs_by_name.groups:\n",
    "    print(group)\n",
    "    print(\"\")"
   ]
  },
  {
   "cell_type": "code",
   "execution_count": null,
   "metadata": {},
   "outputs": [],
   "source": []
  },
  {
   "cell_type": "markdown",
   "metadata": {},
   "source": [
    "We can then aggregate the rows together in each group using a function:"
   ]
  },
  {
   "cell_type": "code",
   "execution_count": 61,
   "metadata": {},
   "outputs": [
    {
     "name": "stderr",
     "output_type": "stream",
     "text": [
      "WARNING: Cannot aggregate column 'obs_date' with type '<U10' [astropy.table.groups]\n"
     ]
    },
    {
     "data": {
      "text/html": [
       "<i>Table length=3</i>\n",
       "<table id=\"table2691888172816\" class=\"table-striped table-bordered table-condensed\">\n",
       "<thead><tr><th>name</th><th>mag_b</th><th>mag_v</th></tr></thead>\n",
       "<thead><tr><th>str4</th><th>float64</th><th>float64</th></tr></thead>\n",
       "<tr><td>M101</td><td>15.000000000000002</td><td>13.725000000000001</td></tr>\n",
       "<tr><td>M31</td><td>17.0</td><td>17.400000000000002</td></tr>\n",
       "<tr><td>M82</td><td>15.699999999999998</td><td>15.5</td></tr>\n",
       "</table>"
      ],
      "text/plain": [
       "<Table length=3>\n",
       "name       mag_b              mag_v       \n",
       "str4      float64            float64      \n",
       "---- ------------------ ------------------\n",
       "M101 15.000000000000002 13.725000000000001\n",
       " M31               17.0 17.400000000000002\n",
       " M82 15.699999999999998               15.5"
      ]
     },
     "execution_count": 61,
     "metadata": {},
     "output_type": "execute_result"
    }
   ],
   "source": [
    "obs_by_name.groups.aggregate(np.mean)"
   ]
  },
  {
   "cell_type": "code",
   "execution_count": null,
   "metadata": {},
   "outputs": [],
   "source": []
  },
  {
   "cell_type": "markdown",
   "metadata": {},
   "source": [
    "## Writing data\n",
    "\n",
    "To write out the data, we can use the ``write`` method:"
   ]
  },
  {
   "cell_type": "code",
   "execution_count": 62,
   "metadata": {},
   "outputs": [],
   "source": [
    "obs.write('test.fits')"
   ]
  },
  {
   "cell_type": "code",
   "execution_count": 63,
   "metadata": {},
   "outputs": [],
   "source": [
    "obs.write('test.tex')"
   ]
  },
  {
   "cell_type": "code",
   "execution_count": 65,
   "metadata": {},
   "outputs": [],
   "source": []
  },
  {
   "cell_type": "markdown",
   "metadata": {},
   "source": [
    "In some cases the format will be inferred from the extension, but only in unambiguous cases - otherwise the format has to be specified explicitly:"
   ]
  },
  {
   "cell_type": "code",
   "execution_count": null,
   "metadata": {},
   "outputs": [],
   "source": [
    "obs.write('test.vot', format = 'votable')"
   ]
  },
  {
   "cell_type": "markdown",
   "metadata": {},
   "source": [
    "You can find the [list of supported formats](https://docs.astropy.org/en/stable/io/unified.html#built-in-table-readers-writers) in the documentation."
   ]
  },
  {
   "cell_type": "markdown",
   "metadata": {},
   "source": [
    "## Reading data\n",
    "\n",
    "You can also easily read in tables using the ``read`` method:"
   ]
  },
  {
   "cell_type": "code",
   "execution_count": 67,
   "metadata": {},
   "outputs": [
    {
     "data": {
      "text/html": [
       "<i>Table length=929</i>\n",
       "<table id=\"table2691888172576\" class=\"table-striped table-bordered table-condensed\">\n",
       "<thead><tr><th>ra</th><th>dec</th><th>clon</th><th>clat</th><th>err_maj</th><th>err_min</th><th>err_ang</th><th>designation</th><th>j_m</th><th>j_cmsig</th><th>j_msigcom</th><th>j_snr</th><th>h_m</th><th>h_cmsig</th><th>h_msigcom</th><th>h_snr</th><th>k_m</th><th>k_cmsig</th><th>k_msigcom</th><th>k_snr</th><th>ph_qual</th><th>rd_flg</th><th>bl_flg</th><th>cc_flg</th><th>ndet</th><th>gal_contam</th><th>mp_flg</th><th>dist</th><th>angle</th><th>j_h</th><th>h_k</th><th>j_k</th></tr></thead>\n",
       "<thead><tr><th>deg</th><th>deg</th><th></th><th></th><th>arcsec</th><th>arcsec</th><th>deg</th><th></th><th>mag</th><th>mag</th><th>mag</th><th></th><th>mag</th><th>mag</th><th>mag</th><th></th><th>mag</th><th>mag</th><th>mag</th><th></th><th></th><th></th><th></th><th></th><th></th><th></th><th></th><th></th><th></th><th></th><th></th><th></th></tr></thead>\n",
       "<thead><tr><th>float64</th><th>float64</th><th>str12</th><th>str13</th><th>float64</th><th>float64</th><th>int32</th><th>str16</th><th>float64</th><th>float64</th><th>float64</th><th>float64</th><th>float64</th><th>float64</th><th>float64</th><th>float64</th><th>float64</th><th>float64</th><th>float64</th><th>float64</th><th>str3</th><th>str3</th><th>str3</th><th>str3</th><th>str6</th><th>int32</th><th>int32</th><th>float64</th><th>float64</th><th>float64</th><th>float64</th><th>float64</th></tr></thead>\n",
       "<tr><td>274.429506</td><td>-13.870547</td><td>18h17m43.08s</td><td>-13d52m13.97s</td><td>0.08</td><td>0.08</td><td>45</td><td>18174308-1352139</td><td>16.305</td><td>0.142</td><td>0.143</td><td>6.7</td><td>14.048</td><td>0.107</td><td>0.108</td><td>13.6</td><td>13.257</td><td>0.066</td><td>0.066</td><td>16.5</td><td>CAA</td><td>222</td><td>111</td><td>0ss</td><td>066655</td><td>0</td><td>0</td><td>975.080151</td><td>256.448</td><td>2.257</td><td>0.791</td><td>3.048</td></tr>\n",
       "<tr><td>274.423821</td><td>-13.86974</td><td>18h17m41.72s</td><td>-13d52m11.06s</td><td>0.06</td><td>0.06</td><td>90</td><td>18174171-1352110</td><td>14.802</td><td>0.058</td><td>0.059</td><td>26.7</td><td>12.635</td><td>0.059</td><td>0.06</td><td>50.1</td><td>11.768</td><td>0.045</td><td>0.046</td><td>65.2</td><td>AAA</td><td>222</td><td>111</td><td>0ss</td><td>666666</td><td>0</td><td>0</td><td>993.752042</td><td>256.878</td><td>2.167</td><td>0.867</td><td>3.034</td></tr>\n",
       "<tr><td>274.424587</td><td>-13.739629</td><td>18h17m41.90s</td><td>-13d44m22.66s</td><td>0.08</td><td>0.08</td><td>45</td><td>18174190-1344226</td><td>16.328</td><td>--</td><td>--</td><td>--</td><td>14.345</td><td>0.059</td><td>0.06</td><td>10.4</td><td>13.405</td><td>0.046</td><td>0.047</td><td>14.4</td><td>UAA</td><td>022</td><td>011</td><td>0cc</td><td>003666</td><td>0</td><td>0</td><td>995.726698</td><td>284.113</td><td>--</td><td>0.94</td><td>--</td></tr>\n",
       "<tr><td>274.433933</td><td>-13.769502</td><td>18h17m44.14s</td><td>-13d46m10.21s</td><td>0.08</td><td>0.08</td><td>45</td><td>18174414-1346102</td><td>16.281</td><td>0.098</td><td>0.099</td><td>6.8</td><td>14.057</td><td>0.035</td><td>0.036</td><td>13.5</td><td>12.956</td><td>0.032</td><td>0.033</td><td>21.8</td><td>CAA</td><td>222</td><td>111</td><td>000</td><td>065566</td><td>0</td><td>0</td><td>942.627418</td><td>278.252</td><td>2.224</td><td>1.101</td><td>3.325</td></tr>\n",
       "<tr><td>274.437013</td><td>-13.885698</td><td>18h17m44.88s</td><td>-13d53m08.51s</td><td>0.09</td><td>0.09</td><td>45</td><td>18174488-1353085</td><td>15.171</td><td>--</td><td>--</td><td>--</td><td>14.412</td><td>0.152</td><td>0.152</td><td>9.8</td><td>13.742</td><td>0.095</td><td>0.095</td><td>10.6</td><td>UBA</td><td>622</td><td>022</td><td>0cc</td><td>005566</td><td>0</td><td>0</td><td>964.105389</td><td>252.93</td><td>--</td><td>0.67</td><td>--</td></tr>\n",
       "<tr><td>274.433996</td><td>-13.752446</td><td>18h17m44.16s</td><td>-13d45m08.81s</td><td>0.08</td><td>0.08</td><td>90</td><td>18174415-1345088</td><td>16.54</td><td>--</td><td>--</td><td>--</td><td>14.519</td><td>0.083</td><td>0.083</td><td>8.8</td><td>13.604</td><td>0.043</td><td>0.044</td><td>12.0</td><td>UBA</td><td>022</td><td>011</td><td>0cc</td><td>005666</td><td>0</td><td>0</td><td>953.230532</td><td>281.908</td><td>--</td><td>0.915</td><td>--</td></tr>\n",
       "<tr><td>274.418138</td><td>-13.77215</td><td>18h17m40.35s</td><td>-13d46m19.74s</td><td>0.08</td><td>0.08</td><td>90</td><td>18174035-1346197</td><td>17.98</td><td>--</td><td>--</td><td>--</td><td>14.61</td><td>0.043</td><td>0.044</td><td>8.1</td><td>13.456</td><td>0.056</td><td>0.057</td><td>13.8</td><td>UBA</td><td>022</td><td>011</td><td>000</td><td>001645</td><td>0</td><td>0</td><td>996.047248</td><td>277.25</td><td>--</td><td>1.154</td><td>--</td></tr>\n",
       "<tr><td>274.433695</td><td>-13.899049</td><td>18h17m44.09s</td><td>-13d53m56.58s</td><td>0.06</td><td>0.06</td><td>90</td><td>18174408-1353565</td><td>13.011</td><td>0.021</td><td>0.024</td><td>139.0</td><td>10.917</td><td>0.02</td><td>0.021</td><td>243.8</td><td>10.013</td><td>0.017</td><td>0.019</td><td>328.3</td><td>AAA</td><td>222</td><td>111</td><td>000</td><td>666666</td><td>0</td><td>0</td><td>990.166399</td><td>250.466</td><td>2.094</td><td>0.904</td><td>2.998</td></tr>\n",
       "<tr><td>274.425482</td><td>-13.77149</td><td>18h17m42.12s</td><td>-13d46m17.36s</td><td>0.08</td><td>0.08</td><td>135</td><td>18174211-1346173</td><td>16.086</td><td>--</td><td>--</td><td>--</td><td>13.709</td><td>0.065</td><td>0.066</td><td>18.6</td><td>12.503</td><td>0.044</td><td>0.045</td><td>33.1</td><td>UAA</td><td>622</td><td>012</td><td>00c</td><td>005555</td><td>0</td><td>0</td><td>970.896919</td><td>277.582</td><td>--</td><td>1.206</td><td>--</td></tr>\n",
       "<tr><td>...</td><td>...</td><td>...</td><td>...</td><td>...</td><td>...</td><td>...</td><td>...</td><td>...</td><td>...</td><td>...</td><td>...</td><td>...</td><td>...</td><td>...</td><td>...</td><td>...</td><td>...</td><td>...</td><td>...</td><td>...</td><td>...</td><td>...</td><td>...</td><td>...</td><td>...</td><td>...</td><td>...</td><td>...</td><td>...</td><td>...</td><td>...</td></tr>\n",
       "<tr><td>274.81801</td><td>-14.001245</td><td>18h19m16.32s</td><td>-14d00m04.48s</td><td>0.18</td><td>0.16</td><td>1</td><td>18191632-1400044</td><td>16.24</td><td>0.113</td><td>0.113</td><td>5.6</td><td>15.531</td><td>0.164</td><td>0.164</td><td>2.5</td><td>15.252</td><td>--</td><td>--</td><td>--</td><td>CDU</td><td>220</td><td>110</td><td>000</td><td>060600</td><td>0</td><td>0</td><td>809.817146</td><td>149.61</td><td>0.709</td><td>--</td><td>--</td></tr>\n",
       "<tr><td>274.822709</td><td>-14.037254</td><td>18h19m17.45s</td><td>-14d02m14.11s</td><td>0.07</td><td>0.07</td><td>45</td><td>18191745-1402141</td><td>15.999</td><td>0.097</td><td>0.098</td><td>7.0</td><td>14.009</td><td>0.032</td><td>0.033</td><td>10.0</td><td>13.077</td><td>0.035</td><td>0.036</td><td>16.4</td><td>CAA</td><td>222</td><td>111</td><td>000</td><td>062656</td><td>0</td><td>0</td><td>931.339773</td><td>152.779</td><td>1.99</td><td>0.932</td><td>2.922</td></tr>\n",
       "<tr><td>274.880758</td><td>-13.99956</td><td>18h19m31.38s</td><td>-13d59m58.42s</td><td>0.06</td><td>0.06</td><td>90</td><td>18193138-1359584</td><td>14.163</td><td>0.035</td><td>0.037</td><td>37.8</td><td>11.179</td><td>0.02</td><td>0.021</td><td>135.6</td><td>9.765</td><td>0.017</td><td>0.019</td><td>347.1</td><td>AAA</td><td>222</td><td>111</td><td>000</td><td>556666</td><td>0</td><td>0</td><td>935.512452</td><td>137.762</td><td>2.984</td><td>1.414</td><td>4.398</td></tr>\n",
       "<tr><td>274.652526</td><td>-14.055106</td><td>18h18m36.61s</td><td>-14d03m18.38s</td><td>0.06</td><td>0.06</td><td>90</td><td>18183660-1403183</td><td>15.035</td><td>0.052</td><td>0.054</td><td>19.4</td><td>13.099</td><td>0.04</td><td>0.041</td><td>27.5</td><td>12.254</td><td>0.041</td><td>0.041</td><td>41.7</td><td>AAA</td><td>222</td><td>111</td><td>c00</td><td>566666</td><td>0</td><td>0</td><td>908.109808</td><td>190.682</td><td>1.936</td><td>0.845</td><td>2.781</td></tr>\n",
       "<tr><td>274.760586</td><td>-13.999927</td><td>18h19m02.54s</td><td>-13d59m59.74s</td><td>0.08</td><td>0.08</td><td>90</td><td>18190254-1359597</td><td>16.329</td><td>0.122</td><td>0.123</td><td>5.5</td><td>14.488</td><td>0.067</td><td>0.067</td><td>6.4</td><td>13.617</td><td>0.051</td><td>0.052</td><td>11.1</td><td>CCA</td><td>222</td><td>111</td><td>000</td><td>060616</td><td>0</td><td>0</td><td>724.557553</td><td>163.227</td><td>1.841</td><td>0.871</td><td>2.712</td></tr>\n",
       "<tr><td>274.831132</td><td>-14.020027</td><td>18h19m19.47s</td><td>-14d01m12.10s</td><td>0.08</td><td>0.08</td><td>45</td><td>18191947-1401120</td><td>16.203</td><td>--</td><td>--</td><td>--</td><td>13.238</td><td>0.02</td><td>0.021</td><td>20.4</td><td>12.016</td><td>0.023</td><td>0.024</td><td>43.6</td><td>UAA</td><td>022</td><td>011</td><td>000</td><td>006666</td><td>0</td><td>0</td><td>891.347132</td><td>149.27</td><td>--</td><td>1.222</td><td>--</td></tr>\n",
       "<tr><td>274.972435</td><td>-13.760374</td><td>18h19m53.38s</td><td>-13d45m37.35s</td><td>0.12</td><td>0.11</td><td>10</td><td>18195338-1345373</td><td>17.472</td><td>--</td><td>--</td><td>--</td><td>16.755</td><td>--</td><td>--</td><td>--</td><td>14.413</td><td>0.084</td><td>0.084</td><td>4.8</td><td>UUD</td><td>002</td><td>001</td><td>000</td><td>000006</td><td>0</td><td>0</td><td>964.828933</td><td>79.963</td><td>--</td><td>--</td><td>--</td></tr>\n",
       "<tr><td>274.870009</td><td>-13.817775</td><td>18h19m28.80s</td><td>-13d49m03.99s</td><td>0.08</td><td>0.08</td><td>45</td><td>18192880-1349039</td><td>16.933</td><td>--</td><td>--</td><td>--</td><td>14.514</td><td>0.064</td><td>0.065</td><td>6.3</td><td>12.957</td><td>0.041</td><td>0.041</td><td>18.4</td><td>UCA</td><td>022</td><td>011</td><td>000</td><td>002666</td><td>0</td><td>0</td><td>592.998058</td><td>93.69</td><td>--</td><td>1.557</td><td>--</td></tr>\n",
       "<tr><td>274.735323</td><td>-13.941575</td><td>18h18m56.48s</td><td>-13d56m29.67s</td><td>0.14</td><td>0.14</td><td>45</td><td>18185647-1356296</td><td>16.643</td><td>--</td><td>--</td><td>--</td><td>14.88</td><td>--</td><td>--</td><td>--</td><td>14.291</td><td>0.116</td><td>0.117</td><td>6.0</td><td>UUC</td><td>002</td><td>001</td><td>000</td><td>000004</td><td>0</td><td>0</td><td>498.524438</td><td>165.968</td><td>--</td><td>--</td><td>--</td></tr>\n",
       "<tr><td>274.866294</td><td>-13.841778</td><td>18h19m27.91s</td><td>-13d50m30.40s</td><td>0.08</td><td>0.08</td><td>45</td><td>18192791-1350304</td><td>15.615</td><td>--</td><td>--</td><td>--</td><td>13.911</td><td>0.075</td><td>0.075</td><td>10.9</td><td>12.765</td><td>0.134</td><td>0.134</td><td>21.9</td><td>UAE</td><td>022</td><td>011</td><td>0cc</td><td>005545</td><td>0</td><td>0</td><td>591.97725</td><td>102.147</td><td>--</td><td>1.146</td><td>--</td></tr>\n",
       "</table>"
      ],
      "text/plain": [
       "<Table length=929>\n",
       "    ra        dec         clon          clat     ...   j_h     h_k     j_k  \n",
       "   deg        deg                                ...                        \n",
       " float64    float64      str12         str13     ... float64 float64 float64\n",
       "---------- ---------- ------------ ------------- ... ------- ------- -------\n",
       "274.429506 -13.870547 18h17m43.08s -13d52m13.97s ...   2.257   0.791   3.048\n",
       "274.423821  -13.86974 18h17m41.72s -13d52m11.06s ...   2.167   0.867   3.034\n",
       "274.424587 -13.739629 18h17m41.90s -13d44m22.66s ...      --    0.94      --\n",
       "274.433933 -13.769502 18h17m44.14s -13d46m10.21s ...   2.224   1.101   3.325\n",
       "274.437013 -13.885698 18h17m44.88s -13d53m08.51s ...      --    0.67      --\n",
       "274.433996 -13.752446 18h17m44.16s -13d45m08.81s ...      --   0.915      --\n",
       "274.418138  -13.77215 18h17m40.35s -13d46m19.74s ...      --   1.154      --\n",
       "274.433695 -13.899049 18h17m44.09s -13d53m56.58s ...   2.094   0.904   2.998\n",
       "274.425482  -13.77149 18h17m42.12s -13d46m17.36s ...      --   1.206      --\n",
       "       ...        ...          ...           ... ...     ...     ...     ...\n",
       " 274.81801 -14.001245 18h19m16.32s -14d00m04.48s ...   0.709      --      --\n",
       "274.822709 -14.037254 18h19m17.45s -14d02m14.11s ...    1.99   0.932   2.922\n",
       "274.880758  -13.99956 18h19m31.38s -13d59m58.42s ...   2.984   1.414   4.398\n",
       "274.652526 -14.055106 18h18m36.61s -14d03m18.38s ...   1.936   0.845   2.781\n",
       "274.760586 -13.999927 18h19m02.54s -13d59m59.74s ...   1.841   0.871   2.712\n",
       "274.831132 -14.020027 18h19m19.47s -14d01m12.10s ...      --   1.222      --\n",
       "274.972435 -13.760374 18h19m53.38s -13d45m37.35s ...      --      --      --\n",
       "274.870009 -13.817775 18h19m28.80s -13d49m03.99s ...      --   1.557      --\n",
       "274.735323 -13.941575 18h18m56.48s -13d56m29.67s ...      --      --      --\n",
       "274.866294 -13.841778 18h19m27.91s -13d50m30.40s ...      --   1.146      --"
      ]
     },
     "execution_count": 67,
     "metadata": {},
     "output_type": "execute_result"
    }
   ],
   "source": [
    "t6 = Table.read('data/2mass.tbl', format = 'ascii.ipac')\n",
    "t6"
   ]
  },
  {
   "cell_type": "code",
   "execution_count": 69,
   "metadata": {},
   "outputs": [
    {
     "data": {
      "text/html": [
       "<i>Table length=1226</i>\n",
       "<table id=\"table2691887926000\" class=\"table-striped table-bordered table-condensed\">\n",
       "<thead><tr><th>source_id</th><th>ra</th><th>ra_error</th><th>dec</th><th>dec_error</th><th>parallax</th><th>parallax_error</th><th>phot_g_mean_mag</th><th>bp_rp</th><th>radial_velocity</th><th>radial_velocity_error</th><th>phot_variable_flag</th><th>teff_val</th><th>a_g_val</th></tr></thead>\n",
       "<thead><tr><th>int64</th><th>float64</th><th>float64</th><th>float64</th><th>float64</th><th>float64</th><th>float64</th><th>float32</th><th>float32</th><th>float64</th><th>float64</th><th>bytes13</th><th>float32</th><th>float32</th></tr></thead>\n",
       "<tr><td>4650802592000604416</td><td>87.07819921385541</td><td>0.021177289402850533</td><td>-71.9758462572808</td><td>0.023118971922399856</td><td>1.9515300334170036</td><td>0.022129316045590156</td><td>9.447254</td><td>1.3508034</td><td>60.90398378334771</td><td>0.2792654428569048</td><td>NOT_AVAILABLE</td><td>4558.4004</td><td>0.292</td></tr>\n",
       "<tr><td>4654524816824470144</td><td>74.41054299130985</td><td>0.023043629903234147</td><td>-71.69279844885818</td><td>0.023510209030041487</td><td>0.9532188638663136</td><td>0.02339411705460298</td><td>10.067117</td><td>1.5253868</td><td>-14.48511977709958</td><td>0.22425351318898115</td><td>NOT_AVAILABLE</td><td>4297.3867</td><td>0.2825</td></tr>\n",
       "<tr><td>4654529695907256832</td><td>74.20814124067418</td><td>0.07882566958428994</td><td>-71.61632605005579</td><td>0.05787066182603759</td><td>2.3901953811128607</td><td>0.05452097913656001</td><td>9.930226</td><td>1.3181801</td><td>46.38448485466361</td><td>2.490830888596897</td><td>NOT_AVAILABLE</td><td>4637.565</td><td>--</td></tr>\n",
       "<tr><td>4654557218058933760</td><td>73.18224206495864</td><td>0.02566576394382618</td><td>-71.57203874651691</td><td>0.023184091706528888</td><td>8.467976171104247</td><td>0.024934154792585914</td><td>9.095835</td><td>0.6556463</td><td>49.49827252135888</td><td>0.2219686958314872</td><td>NOT_AVAILABLE</td><td>6255.75</td><td>0.132</td></tr>\n",
       "<tr><td>5279853466498770816</td><td>94.44753106184642</td><td>0.03057782849457327</td><td>-68.60869574722126</td><td>0.04155980825556449</td><td>4.915939636800765</td><td>0.03590801116219821</td><td>10.310742</td><td>0.74726105</td><td>37.385157965047355</td><td>0.4835527467303836</td><td>NOT_AVAILABLE</td><td>5915.3003</td><td>0.309</td></tr>\n",
       "<tr><td>4662917595229314944</td><td>73.09902402736357</td><td>0.031716989446635716</td><td>-66.24090336494024</td><td>0.02434918668808062</td><td>1.2843391476325927</td><td>0.027022816638180115</td><td>10.124996</td><td>1.1030893</td><td>27.543957838023847</td><td>1.320355612047364</td><td>NOT_AVAILABLE</td><td>4978.6665</td><td>--</td></tr>\n",
       "<tr><td>4662931304765244288</td><td>72.79394552845352</td><td>0.07339225726421537</td><td>-65.97530694819791</td><td>0.07784922165620814</td><td>4.073463462498102</td><td>0.07694028124440017</td><td>10.244692</td><td>0.7755623</td><td>--</td><td>--</td><td>NOT_AVAILABLE</td><td>5813.5</td><td>--</td></tr>\n",
       "<tr><td>4662942334232773888</td><td>72.43114765425396</td><td>1.687482616173613</td><td>-65.96502066188053</td><td>1.4133043528817208</td><td>--</td><td>--</td><td>10.448099</td><td>1.0799913</td><td>--</td><td>--</td><td>NOT_AVAILABLE</td><td>5095.6333</td><td>--</td></tr>\n",
       "<tr><td>4662942329938049024</td><td>72.43067172359882</td><td>0.6134998277695469</td><td>-65.96503044762075</td><td>0.6321611818144194</td><td>--</td><td>--</td><td>10.3262005</td><td>1.0531683</td><td>--</td><td>--</td><td>NOT_AVAILABLE</td><td>5095.6333</td><td>--</td></tr>\n",
       "<tr><td>4650849699215954816</td><td>85.9358409789104</td><td>0.019448048806558142</td><td>-72.57450324077449</td><td>0.022323713004362908</td><td>1.715607895242854</td><td>0.02089038692053393</td><td>9.395902</td><td>1.2457638</td><td>-19.680094065802184</td><td>0.2737400682260026</td><td>NOT_AVAILABLE</td><td>4966.325</td><td>0.086</td></tr>\n",
       "<tr><td>...</td><td>...</td><td>...</td><td>...</td><td>...</td><td>...</td><td>...</td><td>...</td><td>...</td><td>...</td><td>...</td><td>...</td><td>...</td><td>...</td></tr>\n",
       "<tr><td>4661333297749459712</td><td>75.76725658539321</td><td>0.08021661228698174</td><td>-68.51130827334205</td><td>0.09015473505398257</td><td>10.645419504390388</td><td>0.08816586359479624</td><td>9.027634</td><td>0.8210316</td><td>20.2941475665086</td><td>0.6357640574303197</td><td>NOT_AVAILABLE</td><td>5801.6665</td><td>0.399</td></tr>\n",
       "<tr><td>4657284625434796672</td><td>83.68286054825961</td><td>0.03691085887890347</td><td>-69.471862415847</td><td>0.04208622015949421</td><td>1.9338362278879309</td><td>0.03591799353912885</td><td>8.859563</td><td>0.11706829</td><td>--</td><td>--</td><td>NOT_AVAILABLE</td><td>8782.0</td><td>0.6133</td></tr>\n",
       "<tr><td>4661424527190577920</td><td>76.79053200876875</td><td>0.020543235240144064</td><td>-67.91761630755975</td><td>0.023013444511712146</td><td>0.7774498662621923</td><td>0.022474718246432743</td><td>10.393125</td><td>1.0567284</td><td>83.9074929876509</td><td>0.36591083175338246</td><td>NOT_AVAILABLE</td><td>5117.76</td><td>--</td></tr>\n",
       "<tr><td>4656984252552905600</td><td>87.85973994560447</td><td>0.029743709298872704</td><td>-70.479328656167</td><td>0.03678465814732507</td><td>4.808439927475021</td><td>0.0316830990051319</td><td>8.336407</td><td>0.10995674</td><td>--</td><td>--</td><td>NOT_AVAILABLE</td><td>8960.45</td><td>0.2753</td></tr>\n",
       "<tr><td>4657309295660733184</td><td>88.71436033931396</td><td>0.03263566067977321</td><td>-70.50822357790784</td><td>0.03797407284788695</td><td>10.388045762423692</td><td>0.031155846184985195</td><td>8.1692505</td><td>0.5678458</td><td>4.069197565170086</td><td>6.759819483344892</td><td>NOT_AVAILABLE</td><td>6598.033</td><td>0.187</td></tr>\n",
       "<tr><td>4655751970567496064</td><td>69.66033697976364</td><td>0.021673892097135883</td><td>-69.75566225825776</td><td>0.02121465218887403</td><td>4.307598999143658</td><td>0.02115482988900332</td><td>9.895984</td><td>0.76993084</td><td>41.89557385926844</td><td>1.1053569771727048</td><td>NOT_AVAILABLE</td><td>5821.85</td><td>--</td></tr>\n",
       "<tr><td>4657623137529101824</td><td>85.71911145734775</td><td>0.02330547812873165</td><td>-69.40088952057638</td><td>0.032349151810491306</td><td>3.5522939739854515</td><td>0.0307049135837131</td><td>10.492002</td><td>0.61999226</td><td>-1.6860188773348286</td><td>5.692475975197368</td><td>NOT_AVAILABLE</td><td>6342.647</td><td>0.622</td></tr>\n",
       "<tr><td>4655429336950537344</td><td>72.34317802633602</td><td>0.08263071118926058</td><td>-69.19133990602016</td><td>0.1771165688451155</td><td>2.2534377274659323</td><td>0.1120789079572744</td><td>10.428025</td><td>0.7687664</td><td>30.098224636699406</td><td>2.9908645299313927</td><td>NOT_AVAILABLE</td><td>5951.0</td><td>--</td></tr>\n",
       "<tr><td>4655428065639154176</td><td>71.91821339994686</td><td>0.018571231221459143</td><td>-69.13579315664118</td><td>0.019380159707629775</td><td>3.0803607467261434</td><td>0.019423387802699168</td><td>10.121742</td><td>1.2392492</td><td>-5.997742621024996</td><td>0.7122893087577844</td><td>NOT_AVAILABLE</td><td>4844.18</td><td>--</td></tr>\n",
       "<tr><td>4655436827373195136</td><td>72.0678084958562</td><td>0.022815560488628858</td><td>-68.96336398067442</td><td>0.020961280412869075</td><td>1.4806341339787665</td><td>0.022311865860251703</td><td>10.3615265</td><td>1.3816099</td><td>9.533130604271184</td><td>0.3582466465386999</td><td>NOT_AVAILABLE</td><td>4564.83</td><td>0.617</td></tr>\n",
       "</table>"
      ],
      "text/plain": [
       "<Table length=1226>\n",
       "     source_id              ra              ra_error       ...  teff_val a_g_val\n",
       "       int64             float64            float64        ...  float32  float32\n",
       "------------------- ----------------- -------------------- ... --------- -------\n",
       "4650802592000604416 87.07819921385541 0.021177289402850533 ... 4558.4004   0.292\n",
       "4654524816824470144 74.41054299130985 0.023043629903234147 ... 4297.3867  0.2825\n",
       "4654529695907256832 74.20814124067418  0.07882566958428994 ...  4637.565      --\n",
       "4654557218058933760 73.18224206495864  0.02566576394382618 ...   6255.75   0.132\n",
       "5279853466498770816 94.44753106184642  0.03057782849457327 ... 5915.3003   0.309\n",
       "4662917595229314944 73.09902402736357 0.031716989446635716 ... 4978.6665      --\n",
       "4662931304765244288 72.79394552845352  0.07339225726421537 ...    5813.5      --\n",
       "4662942334232773888 72.43114765425396    1.687482616173613 ... 5095.6333      --\n",
       "4662942329938049024 72.43067172359882   0.6134998277695469 ... 5095.6333      --\n",
       "4650849699215954816  85.9358409789104 0.019448048806558142 ...  4966.325   0.086\n",
       "                ...               ...                  ... ...       ...     ...\n",
       "4661333297749459712 75.76725658539321  0.08021661228698174 ... 5801.6665   0.399\n",
       "4657284625434796672 83.68286054825961  0.03691085887890347 ...    8782.0  0.6133\n",
       "4661424527190577920 76.79053200876875 0.020543235240144064 ...   5117.76      --\n",
       "4656984252552905600 87.85973994560447 0.029743709298872704 ...   8960.45  0.2753\n",
       "4657309295660733184 88.71436033931396  0.03263566067977321 ...  6598.033   0.187\n",
       "4655751970567496064 69.66033697976364 0.021673892097135883 ...   5821.85      --\n",
       "4657623137529101824 85.71911145734775  0.02330547812873165 ...  6342.647   0.622\n",
       "4655429336950537344 72.34317802633602  0.08263071118926058 ...    5951.0      --\n",
       "4655428065639154176 71.91821339994686 0.018571231221459143 ...   4844.18      --\n",
       "4655436827373195136  72.0678084958562 0.022815560488628858 ...   4564.83   0.617"
      ]
     },
     "execution_count": 69,
     "metadata": {},
     "output_type": "execute_result"
    }
   ],
   "source": [
    "t7 = Table.read('data/gaia_lmc_psc.fits')\n",
    "t7"
   ]
  },
  {
   "cell_type": "code",
   "execution_count": 70,
   "metadata": {},
   "outputs": [
    {
     "data": {
      "text/html": [
       "<i>Table length=100</i>\n",
       "<table id=\"table2691886216720\" class=\"table-striped table-bordered table-condensed\">\n",
       "<thead><tr><th>Obsno</th><th>PropDate</th><th>Object</th><th>RAJ2000</th><th>DEJ2000</th><th>Obs0</th><th>ObsDur</th><th>Image</th><th>PPSp</th><th>FITS</th><th>XSAlink</th><th>SASVersion</th></tr></thead>\n",
       "<thead><tr><th></th><th>s</th><th></th><th>deg</th><th>deg</th><th>s</th><th>s</th><th></th><th></th><th></th><th></th><th></th></tr></thead>\n",
       "<thead><tr><th>str10</th><th>str10</th><th>str30</th><th>float64</th><th>float64</th><th>str19</th><th>int32</th><th>str1</th><th>str4</th><th>str4</th><th>str1</th><th>str5</th></tr></thead>\n",
       "<tr><td>0000110101</td><td>2002-09-29</td><td>XTE J0421+560</td><td>64.92542</td><td>55.99944</td><td>2001-08-19T07:05:23</td><td>32913</td><td>Y</td><td>PPSp</td><td>FITS</td><td>Y</td><td>9.0</td></tr>\n",
       "<tr><td>0001730101</td><td>2004-12-31</td><td></td><td>--</td><td>--</td><td>2002-03-18T06:40:01</td><td>25296</td><td>N</td><td>PPSp</td><td>FITS</td><td>N</td><td>NOPPS</td></tr>\n",
       "<tr><td>0001730201</td><td>2002-05-25</td><td>HD159176</td><td>263.67495</td><td>-32.58167</td><td>2001-03-09T12:44:21</td><td>17083</td><td>Y</td><td>PPSp</td><td>FITS</td><td>Y</td><td>9.0</td></tr>\n",
       "<tr><td>0001730301</td><td>2002-05-25</td><td>HD159176</td><td>263.67495</td><td>-32.58167</td><td>2001-03-09T17:30:16</td><td>9362</td><td>N</td><td>PPSp</td><td>FITS</td><td>Y</td><td>9.0</td></tr>\n",
       "<tr><td>0001730401</td><td>2002-05-25</td><td>HD159176</td><td>263.67495</td><td>-32.58167</td><td>2001-03-09T09:41:25</td><td>10859</td><td>N</td><td>PPSp</td><td>FITS</td><td>Y</td><td>9.0</td></tr>\n",
       "<tr><td>0001730501</td><td>2004-12-31</td><td>HD47129</td><td>99.34999</td><td>6.13528</td><td>2002-09-17T18:35:28</td><td>21939</td><td>N</td><td>PPSp</td><td>FITS</td><td>Y</td><td>9.0</td></tr>\n",
       "<tr><td>0001730601</td><td>2004-12-31</td><td>HD47129</td><td>99.34999</td><td>6.13528</td><td>2003-03-16T16:01:51</td><td>21863</td><td>Y</td><td>PPSp</td><td>FITS</td><td>Y</td><td>9.0</td></tr>\n",
       "<tr><td>0001930101</td><td>2002-09-18</td><td>IRAS F00235+1024</td><td>6.52917</td><td>10.68917</td><td>2001-01-10T18:47:04</td><td>26609</td><td>Y</td><td>PPSp</td><td>FITS</td><td>Y</td><td>9.0</td></tr>\n",
       "<tr><td>0001930301</td><td>2003-01-16</td><td>IRAS F12514+1027</td><td>193.50000</td><td>10.18639</td><td>2001-12-28T14:44:54</td><td>25192</td><td>Y</td><td>PPSp</td><td>FITS</td><td>Y</td><td>9.0</td></tr>\n",
       "<tr><td>...</td><td>...</td><td>...</td><td>...</td><td>...</td><td>...</td><td>...</td><td>...</td><td>...</td><td>...</td><td>...</td><td>...</td></tr>\n",
       "<tr><td>0009221601</td><td>2003-10-11</td><td>Mrk 3</td><td>93.90125</td><td>71.03750</td><td>2002-09-16T05:09:12</td><td>7891</td><td>Y</td><td>PPSp</td><td>FITS</td><td>Y</td><td>9.0</td></tr>\n",
       "<tr><td>0009650101</td><td>2002-11-02</td><td>AO Psc</td><td>343.82505</td><td>-3.17808</td><td>2001-06-09T13:06:45</td><td>41415</td><td>Y</td><td>PPSp</td><td>FITS</td><td>Y</td><td>9.0</td></tr>\n",
       "<tr><td>0009650201</td><td>2002-09-20</td><td>FO Aqr</td><td>334.48125</td><td>-8.35142</td><td>2001-05-12T09:00:05</td><td>36590</td><td>Y</td><td>PPSp</td><td>FITS</td><td>Y</td><td>9.0</td></tr>\n",
       "<tr><td>0009650301</td><td>2002-09-20</td><td>FO Aqr</td><td>334.48125</td><td>-8.35142</td><td>2001-05-12T06:00:29</td><td>10336</td><td>N</td><td>PPSp</td><td>FITS</td><td>Y</td><td>9.0</td></tr>\n",
       "<tr><td>0010420201</td><td>2002-10-08</td><td>Abell 1644</td><td>194.36670</td><td>-17.34628</td><td>2001-01-08T15:58:43</td><td>22806</td><td>Y</td><td>PPSp</td><td>FITS</td><td>Y</td><td>9.0</td></tr>\n",
       "<tr><td>0010420701</td><td>2002-10-08</td><td>Abell 1644</td><td>194.36670</td><td>-17.34628</td><td>2001-01-08T12:48:31</td><td>10908</td><td>N</td><td>PPSp</td><td>FITS</td><td>Y</td><td>9.0</td></tr>\n",
       "<tr><td>0010620101</td><td>2003-01-05</td><td>V1309 Ori</td><td>78.92250</td><td>1.07797</td><td>2001-03-17T23:37:57</td><td>31641</td><td>Y</td><td>PPSp</td><td>FITS</td><td>Y</td><td>9.0</td></tr>\n",
       "<tr><td>0011420101</td><td>2002-09-19</td><td>NGC 2264 north</td><td>100.18043</td><td>9.85000</td><td>2001-03-20T02:21:43</td><td>41413</td><td>Y</td><td>PPSp</td><td>FITS</td><td>Y</td><td>9.0</td></tr>\n",
       "<tr><td>0011420201</td><td>2003-05-10</td><td>NGC 2264 south</td><td>100.27291</td><td>9.52778</td><td>2002-03-17T18:05:47</td><td>41760</td><td>Y</td><td>PPSp</td><td>FITS</td><td>Y</td><td>9.0</td></tr>\n",
       "<tr><td>0011430201</td><td>2003-07-04</td><td>CTA1</td><td>1.75833</td><td>73.04972</td><td>2002-02-21T18:56:32</td><td>41594</td><td>Y</td><td>PPSp</td><td>FITS</td><td>Y</td><td>9.0</td></tr>\n",
       "</table>"
      ],
      "text/plain": [
       "<Table length=100>\n",
       "  Obsno     PropDate       Object       RAJ2000  ... FITS XSAlink SASVersion\n",
       "               s                          deg    ...                        \n",
       "  str10      str10         str30        float64  ... str4   str1     str5   \n",
       "---------- ---------- ---------------- --------- ... ---- ------- ----------\n",
       "0000110101 2002-09-29    XTE J0421+560  64.92542 ... FITS       Y        9.0\n",
       "0001730101 2004-12-31                         -- ... FITS       N      NOPPS\n",
       "0001730201 2002-05-25         HD159176 263.67495 ... FITS       Y        9.0\n",
       "0001730301 2002-05-25         HD159176 263.67495 ... FITS       Y        9.0\n",
       "0001730401 2002-05-25         HD159176 263.67495 ... FITS       Y        9.0\n",
       "0001730501 2004-12-31          HD47129  99.34999 ... FITS       Y        9.0\n",
       "0001730601 2004-12-31          HD47129  99.34999 ... FITS       Y        9.0\n",
       "0001930101 2002-09-18 IRAS F00235+1024   6.52917 ... FITS       Y        9.0\n",
       "0001930301 2003-01-16 IRAS F12514+1027 193.50000 ... FITS       Y        9.0\n",
       "       ...        ...              ...       ... ...  ...     ...        ...\n",
       "0009221601 2003-10-11            Mrk 3  93.90125 ... FITS       Y        9.0\n",
       "0009650101 2002-11-02           AO Psc 343.82505 ... FITS       Y        9.0\n",
       "0009650201 2002-09-20           FO Aqr 334.48125 ... FITS       Y        9.0\n",
       "0009650301 2002-09-20           FO Aqr 334.48125 ... FITS       Y        9.0\n",
       "0010420201 2002-10-08       Abell 1644 194.36670 ... FITS       Y        9.0\n",
       "0010420701 2002-10-08       Abell 1644 194.36670 ... FITS       Y        9.0\n",
       "0010620101 2003-01-05        V1309 Ori  78.92250 ... FITS       Y        9.0\n",
       "0011420101 2002-09-19   NGC 2264 north 100.18043 ... FITS       Y        9.0\n",
       "0011420201 2003-05-10   NGC 2264 south 100.27291 ... FITS       Y        9.0\n",
       "0011430201 2003-07-04             CTA1   1.75833 ... FITS       Y        9.0"
      ]
     },
     "execution_count": 70,
     "metadata": {},
     "output_type": "execute_result"
    }
   ],
   "source": [
    "t8 = Table.read('data/xmm-log.vot')\n",
    "t8"
   ]
  },
  {
   "cell_type": "markdown",
   "metadata": {},
   "source": [
    "\n",
    "<section class=\"challenge panel panel-success\">\n",
    "<div class=\"panel-heading\">\n",
    "<h2><span class=\"fa fa-pencil\"></span> Challenge</h2>\n",
    "</div>\n",
    "\n",
    "\n",
    "<div class=\"panel-body\">\n",
    "\n",
    "<p>Using the <code>t6</code> (2MASS) table above:</p>\n",
    "<ol>\n",
    "<li>\n",
    "<p>Make a plot that shows <code>j_m</code>-<code>h_m</code> on the x-axis, and <code>h_m</code>-<code>k_m</code> on the y-axis</p>\n",
    "</li>\n",
    "<li>\n",
    "<p>Make a new table that contains the subset of rows where the <code>j_snr</code>, <code>h_snr</code>, and <code>k_snr</code> columns, which give the signal-to-noise-ratio in the J, H, and K band, are greater than 10, and try and show these points in red in the plot you just made.</p>\n",
    "</li>\n",
    "<li>\n",
    "<p>Make a new table (based on the full table) that contains only the RA, Dec, and the <code>j_m</code>, <code>h_m</code> and <code>k_m</code> columns, then try and write out this catalog into a format that you can read into another software package. For example, try and write out the catalog into CSV format, then read it into a spreadsheet software package (e.g. Excel, Google Docs, Numbers, OpenOffice). You may run into an issue at this point - if so, take a look at https://github.com/astropy/astropy/issues/7357 to see how to fix it.</p>\n",
    "</li>\n",
    "</ol>\n",
    "\n",
    "</div>\n",
    "\n",
    "</section>\n"
   ]
  },
  {
   "cell_type": "code",
   "execution_count": null,
   "metadata": {},
   "outputs": [],
   "source": []
  },
  {
   "cell_type": "code",
   "execution_count": null,
   "metadata": {},
   "outputs": [],
   "source": []
  },
  {
   "cell_type": "code",
   "execution_count": null,
   "metadata": {},
   "outputs": [],
   "source": []
  },
  {
   "cell_type": "code",
   "execution_count": null,
   "metadata": {},
   "outputs": [],
   "source": []
  },
  {
   "cell_type": "code",
   "execution_count": null,
   "metadata": {},
   "outputs": [],
   "source": []
  },
  {
   "cell_type": "markdown",
   "metadata": {},
   "source": [
    "<center><i>This notebook was written by <a href=\"https://aperiosoftware.com/\">Aperio Software Ltd.</a> &copy; 2019, and is licensed under a <a href=\"https://creativecommons.org/licenses/by/4.0/\">Creative Commons Attribution 4.0 International License (CC BY 4.0)</a></i></center>\n",
    "\n",
    "![cc](https://mirrors.creativecommons.org/presskit/buttons/88x31/svg/by.svg)"
   ]
  }
 ],
 "metadata": {
  "kernelspec": {
   "display_name": "Python 3",
   "language": "python",
   "name": "python3"
  },
  "language_info": {
   "codemirror_mode": {
    "name": "ipython",
    "version": 3
   },
   "file_extension": ".py",
   "mimetype": "text/x-python",
   "name": "python",
   "nbconvert_exporter": "python",
   "pygments_lexer": "ipython3",
   "version": "3.9.3"
  },
  "toc": {
   "base_numbering": 1,
   "nav_menu": {},
   "number_sections": true,
   "sideBar": true,
   "skip_h1_title": false,
   "title_cell": "Table of Contents",
   "title_sidebar": "Contents",
   "toc_cell": false,
   "toc_position": {},
   "toc_section_display": true,
   "toc_window_display": false
  }
 },
 "nbformat": 4,
 "nbformat_minor": 4
}
